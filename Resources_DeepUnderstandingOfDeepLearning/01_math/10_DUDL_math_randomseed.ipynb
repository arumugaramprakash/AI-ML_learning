{
 "cells": [
  {
   "cell_type": "markdown",
   "metadata": {
    "id": "bhWV8oes-wKR"
   },
   "source": [
    "# COURSE: A deep understanding of deep learning\n",
    "## SECTION: Math prerequisites\n",
    "### LECTURE: Identical randomness via seeding\n",
    "#### TEACHER: Mike X Cohen, sincxpress.com\n",
    "##### COURSE URL: udemy.com/course/deeplearning_x/?couponCode=202401"
   ]
  },
  {
   "cell_type": "code",
   "execution_count": 1,
   "metadata": {
    "executionInfo": {
     "elapsed": 4400,
     "status": "ok",
     "timestamp": 1676841300342,
     "user": {
      "displayName": "Mike X Cohen",
      "userId": "13901636194183843661"
     },
     "user_tz": -540
    },
    "id": "wYjuZD1kPb3g"
   },
   "outputs": [],
   "source": [
    "# import libraries\n",
    "import numpy as np\n",
    "import torch"
   ]
  },
  {
   "cell_type": "code",
   "execution_count": 4,
   "metadata": {
    "id": "tJ_A2ykHS5RY"
   },
   "outputs": [
    {
     "data": {
      "text/plain": [
       "array([-0.29353068,  1.9076292 , -0.38897589, -0.64536782, -1.24131553])"
      ]
     },
     "execution_count": 4,
     "metadata": {},
     "output_type": "execute_result"
    }
   ],
   "source": [
    "# generate a few random numbers\n",
    "np.random.randn(5)"
   ]
  },
  {
   "cell_type": "code",
   "execution_count": null,
   "metadata": {
    "id": "QZaS568IThAr"
   },
   "outputs": [
    {
     "name": "stdout",
     "output_type": "stream",
     "text": [
      "[ 0.27626589 -1.85462808  0.62390111  1.14531129  1.03719047]\n",
      "[ 1.88663893 -0.11169829 -0.36210134  0.14867505 -0.43778315]\n"
     ]
    }
   ],
   "source": [
    "# repeat after fixing the seed (old-but-still-widely-used method)\n",
    "np.random.seed(17) # starts the initial seeding from which the randomness starts\n",
    "# here the seed is set globally\n",
    "print(np.random.randn(5))\n",
    "print(np.random.randn(5))\n",
    "\n",
    "# [ 0.27626589 -1.85462808  0.62390111  1.14531129  1.03719047]\n",
    "# [ 1.88663893 -0.11169829 -0.36210134  0.14867505 -0.43778315]"
   ]
  },
  {
   "cell_type": "markdown",
   "metadata": {
    "id": "v5VZW0g-DxLl"
   },
   "source": [
    "# New seed mechanism in numpy"
   ]
  },
  {
   "cell_type": "code",
   "execution_count": 20,
   "metadata": {
    "colab": {
     "base_uri": "https://localhost:8080/"
    },
    "executionInfo": {
     "elapsed": 353,
     "status": "ok",
     "timestamp": 1676841327280,
     "user": {
      "displayName": "Mike X Cohen",
      "userId": "13901636194183843661"
     },
     "user_tz": -540
    },
    "id": "7Ctn7a0hChbA",
    "outputId": "8478bc3a-8ce0-456e-fa86-4235bad9c46d"
   },
   "outputs": [
    {
     "name": "stdout",
     "output_type": "stream",
     "text": [
      "[ 0.27626589 -1.85462808  0.62390111  1.14531129  1.03719047]\n",
      "[-0.24972681 -1.01951826  2.23461339  0.72764703  1.2921122 ]\n",
      "[ 1.88663893 -0.11169829 -0.36210134  0.14867505 -0.43778315]\n",
      "[ 1.15494929 -0.0015467  -0.11196868 -1.08136725  0.10265891]\n",
      "[0.28458225 0.52253728 0.08355444 2.72079559 0.61100788]\n"
     ]
    }
   ],
   "source": [
    "randseed1 = np.random.RandomState(17)\n",
    "# here the seed is set to a specific object in this case which is randseed1\n",
    "randseed2 = np.random.RandomState(20210530)\n",
    "\n",
    "print( randseed1.randn(5) ) # same sequence\n",
    "print( randseed2.randn(5) ) # different from above, but same each time\n",
    "print( randseed1.randn(5) ) # same as two up\n",
    "print( randseed2.randn(5) ) # same as two up\n",
    "print( np.random.randn(5) ) # different every time\n",
    "\n",
    "# [ 0.27626589 -1.85462808  0.62390111  1.14531129  1.03719047]\n",
    "# [-0.24972681 -1.01951826  2.23461339  0.72764703  1.2921122 ]\n",
    "# [ 1.88663893 -0.11169829 -0.36210134  0.14867505 -0.43778315]\n",
    "# [ 1.15494929 -0.0015467  -0.11196868 -1.08136725  0.10265891]\n",
    "# [ 2.171257    1.15231025 -1.81881234 -0.13804934  0.53983961]"
   ]
  },
  {
   "cell_type": "code",
   "execution_count": 35,
   "metadata": {},
   "outputs": [
    {
     "name": "stdout",
     "output_type": "stream",
     "text": [
      "global random seeding\n",
      "First set of random numbers with global seed: [ 0.27626589 -1.85462808  0.62390111]\n",
      "Second set of random numbers with global seed: [1.14531129 1.03719047 1.88663893]\n",
      "\n",
      "local randome seeding with rng1\n",
      "First set of random numbers with RandomState: [ 0.27626589 -1.85462808  0.62390111]\n",
      "Second set of random numbers with RandomState: [1.14531129 1.03719047 1.88663893]\n",
      "\n",
      "local randome seeding with rng2\n",
      "First set of random numbers with RandomState: [ 0.07942844  2.19020236 -0.13489215]\n",
      "Second set of random numbers with RandomState: [0.16051798 0.44269784 0.62339144]\n"
     ]
    }
   ],
   "source": [
    "import numpy as np\n",
    "\n",
    "# Using np.random.seed for reproducibility\n",
    "np.random.seed(17)\n",
    "print('global random seeding')\n",
    "print(\"First set of random numbers with global seed:\", np.random.randn(5))\n",
    "print(\"Second set of random numbers with global seed:\", np.random.randn(5))\n",
    "\n",
    "# Using RandomState to manage multiple independent streams\n",
    "rng1 = np.random.RandomState(17)\n",
    "rng2 = np.random.RandomState(18)\n",
    "print('')\n",
    "print('local randome seeding with rng1')\n",
    "print(\"First set of random numbers with RandomState:\", rng1.randn(5))\n",
    "print(\"Second set of random numbers with RandomState:\", rng1.randn(5))\n",
    "print('')\n",
    "print('local randome seeding with rng2')\n",
    "print(\"First set of random numbers with RandomState:\", rng2.randn(5))\n",
    "print(\"Second set of random numbers with RandomState:\", rng2.randn(5))"
   ]
  },
  {
   "cell_type": "markdown",
   "metadata": {
    "id": "Jy2WlM_oBjZy"
   },
   "source": [
    "# Now in pytorch"
   ]
  },
  {
   "cell_type": "code",
   "execution_count": 9,
   "metadata": {
    "id": "oAUTsBE646fN"
   },
   "outputs": [
    {
     "data": {
      "text/plain": [
       "tensor([ 0.1534, -2.6631, -1.4311, -0.5483,  0.3232])"
      ]
     },
     "execution_count": 9,
     "metadata": {},
     "output_type": "execute_result"
    }
   ],
   "source": [
    "torch.randn(5)"
   ]
  },
  {
   "cell_type": "code",
   "execution_count": 16,
   "metadata": {
    "id": "mdoWX2Fx5JIy"
   },
   "outputs": [
    {
     "name": "stdout",
     "output_type": "stream",
     "text": [
      "tensor([-1.4135,  0.2336,  0.0340,  0.3499, -0.0145])\n",
      "[ 0.0991466   0.63792617  0.70311068 -0.91609315 -0.78601423]\n"
     ]
    }
   ],
   "source": [
    "torch.manual_seed(17)\n",
    "print( torch.randn(5) )\n",
    "\n",
    "# torch's seed doesn't spread to numpy\n",
    "print( np.random.randn(5) )"
   ]
  },
  {
   "cell_type": "code",
   "execution_count": 44,
   "metadata": {},
   "outputs": [
    {
     "name": "stdout",
     "output_type": "stream",
     "text": [
      "global random seeding\n",
      "First set of random numbers with global seed: tensor([-1.4135,  0.2336,  0.0340,  0.3499, -0.0145])\n",
      "Second set of random numbers with global seed: tensor([-0.6124, -1.1835, -1.4831,  1.8004,  0.0096])\n",
      "\n",
      "local randome seeding with trng1\n",
      "First set of random numbers with Generator: tensor([-1.4135,  0.2336,  0.0340,  0.3499, -0.0145])\n",
      "Second set of random numbers with Generator: tensor([-0.6124, -1.1835, -1.4831,  1.8004,  0.0096])\n",
      "\n",
      "local randome seeding with trng2\n",
      "First set of random numbers with Generator: tensor([ 0.1534, -2.6631, -1.4311, -0.5483,  0.3232])\n",
      "Second set of random numbers with Generator: tensor([-0.4780,  1.5618, -0.1298, -0.1335,  1.2740])\n"
     ]
    }
   ],
   "source": [
    "import torch\n",
    "\n",
    "# Using torch.manual_seed for reproducibility\n",
    "torch.manual_seed(17)\n",
    "print('global random seeding')\n",
    "print(\"First set of random numbers with global seed:\", torch.randn(5))\n",
    "print(\"Second set of random numbers with global seed:\", torch.randn(5))\n",
    "\n",
    "# Using torch.Generator to manage multiple independent streams\n",
    "trng1 = torch.Generator()\n",
    "trng1.manual_seed(17)\n",
    "trng2 = torch.Generator()\n",
    "trng2.manual_seed(18)\n",
    "print('')\n",
    "print('local randome seeding with trng1')\n",
    "print(\"First set of random numbers with Generator:\", torch.randn(5, generator=trng1))\n",
    "print(\"Second set of random numbers with Generator:\", torch.randn(5, generator=trng1))\n",
    "print('')\n",
    "print('local randome seeding with trng2')\n",
    "print(\"First set of random numbers with Generator:\", torch.randn(5, generator=trng1))\n",
    "print(\"Second set of random numbers with Generator:\", torch.randn(5, generator=trng1))"
   ]
  }
 ],
 "metadata": {
  "colab": {
   "authorship_tag": "ABX9TyOJyuFc3I4KRRovgrF3zmPZ",
   "provenance": [
    {
     "file_id": "196i6MReeJLozrRYpZsltVy8BC6X1b9ik",
     "timestamp": 1619035090045
    },
    {
     "file_id": "1KX8lBi9Oey9iD2Aac8X6d-j3dMlyTodJ",
     "timestamp": 1617002781341
    }
   ]
  },
  "kernelspec": {
   "display_name": ".venv",
   "language": "python",
   "name": "python3"
  },
  "language_info": {
   "codemirror_mode": {
    "name": "ipython",
    "version": 3
   },
   "file_extension": ".py",
   "mimetype": "text/x-python",
   "name": "python",
   "nbconvert_exporter": "python",
   "pygments_lexer": "ipython3",
   "version": "3.10.6"
  }
 },
 "nbformat": 4,
 "nbformat_minor": 0
}
