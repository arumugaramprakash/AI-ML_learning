{
 "cells": [
  {
   "cell_type": "markdown",
   "metadata": {
    "id": "bhWV8oes-wKR"
   },
   "source": [
    "# COURSE: A deep understanding of deep learning\n",
    "## SECTION: Math prerequisites\n",
    "### LECTURE: Matrix multiplication\n",
    "#### TEACHER: Mike X Cohen, sincxpress.com\n",
    "##### COURSE URL: udemy.com/course/deeplearning_x/?couponCode=202401"
   ]
  },
  {
   "cell_type": "code",
   "execution_count": 1,
   "metadata": {
    "id": "vRQNyNtlDoOb"
   },
   "outputs": [],
   "source": [
    "# import libraries\n",
    "import numpy as np\n",
    "import torch"
   ]
  },
  {
   "cell_type": "markdown",
   "metadata": {
    "id": "K0BSQG0fDpt_"
   },
   "source": [
    "# Using numpy"
   ]
  },
  {
   "cell_type": "code",
   "execution_count": 2,
   "metadata": {
    "id": "T4_veEYqDpx9"
   },
   "outputs": [
    {
     "name": "stdout",
     "output_type": "stream",
     "text": [
      "[[ 0.64 -0.79  1.47 -0.85  2.11]\n",
      " [ 7.36  4.6   2.58 13.3  -0.17]\n",
      " [-1.41  0.58 -0.86 -1.16 -2.04]]\n",
      " \n",
      "[[-1.29  1.85 -0.35  2.25]\n",
      " [ 1.38 -2.19 -0.24  0.02]\n",
      " [ 2.56 -1.41  1.72  2.27]\n",
      " [ 2.32 -2.46  0.49  1.68]\n",
      " [ 1.82 -3.75 -1.03 -0.65]\n",
      " [ 0.73 -1.13 -0.22  0.72]\n",
      " [ 0.07 -0.95 -1.08  1.51]]\n"
     ]
    }
   ],
   "source": [
    "# create some random matrices\n",
    "A = np.random.randn(3,4)\n",
    "B = np.random.randn(4,5)\n",
    "C = np.random.randn(3,7)\n",
    "\n",
    "# try some multiplications...\n",
    "print(np.round( A@B   ,2)), print(' ')\n",
    "# print(np.round( A@C   ,2)), print(' ')\n",
    "# print(np.round( B@C   ,2)), print(' ')\n",
    "print(np.round( C.T@A ,2))"
   ]
  },
  {
   "cell_type": "markdown",
   "metadata": {
    "id": "89qsNy19Dp1U"
   },
   "source": [
    "# Using pytorch"
   ]
  },
  {
   "cell_type": "code",
   "execution_count": 7,
   "metadata": {
    "id": "4Yrdf4WOEjxz"
   },
   "outputs": [
    {
     "name": "stdout",
     "output_type": "stream",
     "text": [
      "tensor([[ 0.3900, -2.1200, -0.9500,  0.0900,  0.2600],\n",
      "        [-0.0300,  1.2200,  0.3900, -0.8900,  1.1400],\n",
      "        [-0.4300,  3.3900,  0.1900, -2.3300, -0.8400]])\n",
      " \n",
      "tensor([[-0.2700, -0.9600,  0.0400, -2.5100, -2.4200,  2.2300, -0.1700],\n",
      "        [ 0.2400,  1.6000,  0.9300, -0.9300,  1.2400,  1.1500, -0.6900],\n",
      "        [-1.1100,  0.2300, -1.5200,  3.9100,  1.6700, -2.3900,  0.2200]],\n",
      "       dtype=torch.float64)\n",
      " \n",
      "tensor([[-0.2700, -0.9600,  0.0400, -2.5100, -2.4200,  2.2300, -0.1700],\n",
      "        [ 0.2400,  1.6000,  0.9300, -0.9300,  1.2400,  1.1500, -0.6900],\n",
      "        [-1.1100,  0.2300, -1.5200,  3.9100,  1.6700, -2.3900,  0.2200]])\n"
     ]
    },
    {
     "name": "stderr",
     "output_type": "stream",
     "text": [
      "C:\\Users\\arumu\\AppData\\Local\\Temp\\ipykernel_25276\\1942075091.py:10: DeprecationWarning: __array_wrap__ must accept context and return_scalar arguments (positionally) in the future. (Deprecated NumPy 2.0)\n",
      "  print(np.round( A@C1  ,2)), print(' ')\n"
     ]
    }
   ],
   "source": [
    "# create some random matrices\n",
    "A  = torch.randn(3,4)\n",
    "B  = torch.randn(4,5)\n",
    "C1 = np.random.randn(4,7)\n",
    "C2 = torch.tensor( C1,dtype=torch.float )\n",
    "\n",
    "# try some multiplications...\n",
    "print(np.round( A@B   ,2)), print(' ')\n",
    "# print(np.round( A@B.T ,2)), print(' ')\n",
    "print(np.round( A@C1  ,2)), print(' ')\n",
    "print(np.round( A@C2  ,2))"
   ]
  }
 ],
 "metadata": {
  "colab": {
   "authorship_tag": "ABX9TyN3xNttY0efRLiZkxgkBGe2",
   "collapsed_sections": [],
   "name": "DUDL_math_matrixMult.ipynb",
   "provenance": []
  },
  "kernelspec": {
   "display_name": ".venv",
   "language": "python",
   "name": "python3"
  },
  "language_info": {
   "codemirror_mode": {
    "name": "ipython",
    "version": 3
   },
   "file_extension": ".py",
   "mimetype": "text/x-python",
   "name": "python",
   "nbconvert_exporter": "python",
   "pygments_lexer": "ipython3",
   "version": "3.10.6"
  }
 },
 "nbformat": 4,
 "nbformat_minor": 0
}
