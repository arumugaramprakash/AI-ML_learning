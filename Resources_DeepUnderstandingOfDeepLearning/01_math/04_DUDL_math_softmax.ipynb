{
 "cells": [
  {
   "cell_type": "markdown",
   "metadata": {
    "id": "bhWV8oes-wKR"
   },
   "source": [
    "# COURSE: A deep understanding of deep learning\n",
    "## SECTION: Math prerequisites\n",
    "### LECTURE: Softmax\n",
    "#### TEACHER: Mike X Cohen, sincxpress.com\n",
    "##### COURSE URL: udemy.com/course/deeplearning_x/?couponCode=202401"
   ]
  },
  {
   "cell_type": "code",
   "execution_count": 18,
   "metadata": {
    "executionInfo": {
     "elapsed": 5927,
     "status": "ok",
     "timestamp": 1676547421592,
     "user": {
      "displayName": "Mike X Cohen",
      "userId": "13901636194183843661"
     },
     "user_tz": -540
    },
    "id": "2TD8IyfBGXiY"
   },
   "outputs": [],
   "source": [
    "# import libraries\n",
    "import numpy as np\n",
    "import torch\n",
    "import torch.nn as nn\n",
    "import matplotlib.pyplot as plt"
   ]
  },
  {
   "cell_type": "code",
   "execution_count": 19,
   "metadata": {
    "colab": {
     "base_uri": "https://localhost:8080/"
    },
    "executionInfo": {
     "elapsed": 10,
     "status": "ok",
     "timestamp": 1676547421593,
     "user": {
      "displayName": "Mike X Cohen",
      "userId": "13901636194183843661"
     },
     "user_tz": -540
    },
    "id": "vmjUxlEqGbDu",
    "outputId": "f8cc398b-6720-46d9-c689-088ff5d05118"
   },
   "outputs": [
    {
     "name": "stdout",
     "output_type": "stream",
     "text": [
      "[0.09003057 0.24472847 0.66524096]\n",
      "1.0\n"
     ]
    }
   ],
   "source": [
    "# \"manually\" in numpy\n",
    "\n",
    "# the list of numbers\n",
    "z = [1,2,3]\n",
    "\n",
    "# compute the softmax result\n",
    "num = np.exp(z)\n",
    "den = np.sum( np.exp(z) )\n",
    "sigma = num / den\n",
    "\n",
    "print(sigma)\n",
    "print(np.sum(sigma))"
   ]
  },
  {
   "cell_type": "code",
   "execution_count": 20,
   "metadata": {
    "colab": {
     "base_uri": "https://localhost:8080/",
     "height": 334
    },
    "executionInfo": {
     "elapsed": 919,
     "status": "ok",
     "timestamp": 1676547439227,
     "user": {
      "displayName": "Mike X Cohen",
      "userId": "13901636194183843661"
     },
     "user_tz": -540
    },
    "id": "sOug_tPzHY1y",
    "outputId": "8951221a-0238-490f-bb0c-6288fb2cede2"
   },
   "outputs": [
    {
     "name": "stdout",
     "output_type": "stream",
     "text": [
      "[ 6  8 -1  9 -5 -4  5 11  6  9  9  1  9 -5  1 -4  3  2 13 -3 14  6  7 -4\n",
      "  7]\n",
      "[2.31341031e-04 1.70939186e-03 2.10955714e-07 4.64660882e-03\n",
      " 3.86378868e-09 1.05028666e-08 8.51056092e-05 3.43340532e-02\n",
      " 2.31341031e-04 4.64660882e-03 4.64660882e-03 1.55876361e-06\n",
      " 4.64660882e-03 3.86378868e-09 1.55876361e-06 1.05028666e-08\n",
      " 1.15177917e-05 4.23715878e-06 2.53696245e-01 2.85497513e-08\n",
      " 6.89617894e-01 2.31341031e-04 6.28850121e-04 1.05028666e-08\n",
      " 6.28850121e-04]\n"
     ]
    },
    {
     "data": {
      "image/png": "[encoded data removed]",
      "text/plain": [
       "<Figure size 640x480 with 1 Axes>"
      ]
     },
     "metadata": {},
     "output_type": "display_data"
    }
   ],
   "source": [
    "# repeat with some random integers\n",
    "z = np.random.randint(-5,high=15,size=25)\n",
    "print(z)\n",
    "\n",
    "# compute the softmax result\n",
    "num = np.exp(z)\n",
    "den = np.sum( num )\n",
    "sigma = num / den\n",
    "\n",
    "print(sigma)\n",
    "\n",
    "# compare\n",
    "plt.plot(z,sigma,'ro')\n",
    "plt.xlabel('Original number (z)')\n",
    "plt.ylabel('Softmaxified $\\sigma$')\n",
    "plt.yscale('log')\n",
    "plt.title('$\\sum\\sigma$ = %g' %np.sum(sigma)) # $\\sum\\sigma$ is a latex expression which gives the summation symbol over sigma\n",
    "plt.show()"
   ]
  },
  {
   "cell_type": "code",
   "execution_count": 21,
   "metadata": {},
   "outputs": [
    {
     "name": "stdout",
     "output_type": "stream",
     "text": [
      "Mathematical Symbols:\n"
     ]
    },
    {
     "data": {
      "text/latex": [
       "$\\displaystyle a + b$"
      ],
      "text/plain": [
       "<IPython.core.display.Math object>"
      ]
     },
     "metadata": {},
     "output_type": "display_data"
    },
    {
     "name": "stdout",
     "output_type": "stream",
     "text": [
      "  Rendered $a + b$\n"
     ]
    },
    {
     "data": {
      "text/latex": [
       "$\\displaystyle a - b$"
      ],
      "text/plain": [
       "<IPython.core.display.Math object>"
      ]
     },
     "metadata": {},
     "output_type": "display_data"
    },
    {
     "name": "stdout",
     "output_type": "stream",
     "text": [
      "  Rendered $a - b$\n"
     ]
    },
    {
     "data": {
      "text/latex": [
       "$\\displaystyle a \times b$"
      ],
      "text/plain": [
       "<IPython.core.display.Math object>"
      ]
     },
     "metadata": {},
     "output_type": "display_data"
    },
    {
     "name": "stdout",
     "output_type": "stream",
     "text": [
      "  Rendered $a \times b$\n"
     ]
    },
    {
     "data": {
      "text/latex": [
       "$\\displaystyle a \\cdot b$"
      ],
      "text/plain": [
       "<IPython.core.display.Math object>"
      ]
     },
     "metadata": {},
     "output_type": "display_data"
    },
    {
     "name": "stdout",
     "output_type": "stream",
     "text": [
      "  Rendered $a \\cdot b$\n"
     ]
    },
    {
     "data": {
      "text/latex": [
       "$\\displaystyle a / b$"
      ],
      "text/plain": [
       "<IPython.core.display.Math object>"
      ]
     },
     "metadata": {},
     "output_type": "display_data"
    },
    {
     "name": "stdout",
     "output_type": "stream",
     "text": [
      "  Rendered $a / b$\n"
     ]
    },
    {
     "data": {
      "text/latex": [
       "$\\displaystyle a \\div b$"
      ],
      "text/plain": [
       "<IPython.core.display.Math object>"
      ]
     },
     "metadata": {},
     "output_type": "display_data"
    },
    {
     "name": "stdout",
     "output_type": "stream",
     "text": [
      "  Rendered $a \\div b$\n"
     ]
    },
    {
     "data": {
      "text/latex": [
       "$\\displaystyle a = b$"
      ],
      "text/plain": [
       "<IPython.core.display.Math object>"
      ]
     },
     "metadata": {},
     "output_type": "display_data"
    },
    {
     "name": "stdout",
     "output_type": "stream",
     "text": [
      "  Rendered $a = b$\n"
     ]
    },
    {
     "data": {
      "text/latex": [
       "$\\displaystyle a \n",
       "eq b$"
      ],
      "text/plain": [
       "<IPython.core.display.Math object>"
      ]
     },
     "metadata": {},
     "output_type": "display_data"
    },
    {
     "name": "stdout",
     "output_type": "stream",
     "text": [
      "  Rendered $a \n",
      "eq b$\n"
     ]
    },
    {
     "data": {
      "text/latex": [
       "$\\displaystyle a < b$"
      ],
      "text/plain": [
       "<IPython.core.display.Math object>"
      ]
     },
     "metadata": {},
     "output_type": "display_data"
    },
    {
     "name": "stdout",
     "output_type": "stream",
     "text": [
      "  Rendered $a < b$\n"
     ]
    },
    {
     "data": {
      "text/latex": [
       "$\\displaystyle a > b$"
      ],
      "text/plain": [
       "<IPython.core.display.Math object>"
      ]
     },
     "metadata": {},
     "output_type": "display_data"
    },
    {
     "name": "stdout",
     "output_type": "stream",
     "text": [
      "  Rendered $a > b$\n"
     ]
    },
    {
     "data": {
      "text/latex": [
       "$\\displaystyle a \\leq b$"
      ],
      "text/plain": [
       "<IPython.core.display.Math object>"
      ]
     },
     "metadata": {},
     "output_type": "display_data"
    },
    {
     "name": "stdout",
     "output_type": "stream",
     "text": [
      "  Rendered $a \\leq b$\n"
     ]
    },
    {
     "data": {
      "text/latex": [
       "$\\displaystyle a \\geq b$"
      ],
      "text/plain": [
       "<IPython.core.display.Math object>"
      ]
     },
     "metadata": {},
     "output_type": "display_data"
    },
    {
     "name": "stdout",
     "output_type": "stream",
     "text": [
      "  Rendered $a \\geq b$\n"
     ]
    },
    {
     "data": {
      "text/latex": [
       "$\\displaystyle a \u0007pprox b$"
      ],
      "text/plain": [
       "<IPython.core.display.Math object>"
      ]
     },
     "metadata": {},
     "output_type": "display_data"
    },
    {
     "name": "stdout",
     "output_type": "stream",
     "text": [
      "  Rendered $a \u0007pprox b$\n"
     ]
    },
    {
     "data": {
      "text/latex": [
       "$\\displaystyle a \\sim b$"
      ],
      "text/plain": [
       "<IPython.core.display.Math object>"
      ]
     },
     "metadata": {},
     "output_type": "display_data"
    },
    {
     "name": "stdout",
     "output_type": "stream",
     "text": [
      "  Rendered $a \\sim b$\n"
     ]
    },
    {
     "data": {
      "text/latex": [
       "$\\displaystyle a \\propto b$"
      ],
      "text/plain": [
       "<IPython.core.display.Math object>"
      ]
     },
     "metadata": {},
     "output_type": "display_data"
    },
    {
     "name": "stdout",
     "output_type": "stream",
     "text": [
      "  Rendered $a \\propto b$\n"
     ]
    },
    {
     "data": {
      "text/latex": [
       "$\\displaystyle a \\in b$"
      ],
      "text/plain": [
       "<IPython.core.display.Math object>"
      ]
     },
     "metadata": {},
     "output_type": "display_data"
    },
    {
     "name": "stdout",
     "output_type": "stream",
     "text": [
      "  Rendered $a \\in b$\n"
     ]
    },
    {
     "data": {
      "text/latex": [
       "$\\displaystyle a \n",
       "otin b$"
      ],
      "text/plain": [
       "<IPython.core.display.Math object>"
      ]
     },
     "metadata": {},
     "output_type": "display_data"
    },
    {
     "name": "stdout",
     "output_type": "stream",
     "text": [
      "  Rendered $a \n",
      "otin b$\n"
     ]
    },
    {
     "data": {
      "text/latex": [
       "$\\displaystyle a \\subseteq b$"
      ],
      "text/plain": [
       "<IPython.core.display.Math object>"
      ]
     },
     "metadata": {},
     "output_type": "display_data"
    },
    {
     "name": "stdout",
     "output_type": "stream",
     "text": [
      "  Rendered $a \\subseteq b$\n"
     ]
    },
    {
     "data": {
      "text/latex": [
       "$\\displaystyle a \\supseteq b$"
      ],
      "text/plain": [
       "<IPython.core.display.Math object>"
      ]
     },
     "metadata": {},
     "output_type": "display_data"
    },
    {
     "name": "stdout",
     "output_type": "stream",
     "text": [
      "  Rendered $a \\supseteq b$\n"
     ]
    },
    {
     "data": {
      "text/latex": [
       "$\\displaystyle a \\cup b$"
      ],
      "text/plain": [
       "<IPython.core.display.Math object>"
      ]
     },
     "metadata": {},
     "output_type": "display_data"
    },
    {
     "name": "stdout",
     "output_type": "stream",
     "text": [
      "  Rendered $a \\cup b$\n"
     ]
    },
    {
     "data": {
      "text/latex": [
       "$\\displaystyle a \\cap b$"
      ],
      "text/plain": [
       "<IPython.core.display.Math object>"
      ]
     },
     "metadata": {},
     "output_type": "display_data"
    },
    {
     "name": "stdout",
     "output_type": "stream",
     "text": [
      "  Rendered $a \\cap b$\n"
     ]
    },
    {
     "data": {
      "text/latex": [
       "$\\displaystyle a \\setminus b$"
      ],
      "text/plain": [
       "<IPython.core.display.Math object>"
      ]
     },
     "metadata": {},
     "output_type": "display_data"
    },
    {
     "name": "stdout",
     "output_type": "stream",
     "text": [
      "  Rendered $a \\setminus b$\n"
     ]
    },
    {
     "data": {
      "text/latex": [
       "$\\displaystyle a \\oplus b$"
      ],
      "text/plain": [
       "<IPython.core.display.Math object>"
      ]
     },
     "metadata": {},
     "output_type": "display_data"
    },
    {
     "name": "stdout",
     "output_type": "stream",
     "text": [
      "  Rendered $a \\oplus b$\n"
     ]
    },
    {
     "data": {
      "text/latex": [
       "$\\displaystyle a^b$"
      ],
      "text/plain": [
       "<IPython.core.display.Math object>"
      ]
     },
     "metadata": {},
     "output_type": "display_data"
    },
    {
     "name": "stdout",
     "output_type": "stream",
     "text": [
      "  Rendered $a^b$\n"
     ]
    },
    {
     "data": {
      "text/latex": [
       "$\\displaystyle a_b$"
      ],
      "text/plain": [
       "<IPython.core.display.Math object>"
      ]
     },
     "metadata": {},
     "output_type": "display_data"
    },
    {
     "name": "stdout",
     "output_type": "stream",
     "text": [
      "  Rendered $a_b$\n"
     ]
    },
    {
     "data": {
      "text/latex": [
       "$\\displaystyle \\sqrt{a}$"
      ],
      "text/plain": [
       "<IPython.core.display.Math object>"
      ]
     },
     "metadata": {},
     "output_type": "display_data"
    },
    {
     "name": "stdout",
     "output_type": "stream",
     "text": [
      "  Rendered $\\sqrt{a}$\n"
     ]
    },
    {
     "data": {
      "text/latex": [
       "$\\displaystyle \\sqrt[n]{a}$"
      ],
      "text/plain": [
       "<IPython.core.display.Math object>"
      ]
     },
     "metadata": {},
     "output_type": "display_data"
    },
    {
     "name": "stdout",
     "output_type": "stream",
     "text": [
      "  Rendered $\\sqrt[n]{a}$\n"
     ]
    },
    {
     "data": {
      "text/latex": [
       "$\\displaystyle |a|$"
      ],
      "text/plain": [
       "<IPython.core.display.Math object>"
      ]
     },
     "metadata": {},
     "output_type": "display_data"
    },
    {
     "name": "stdout",
     "output_type": "stream",
     "text": [
      "  Rendered $|a|$\n"
     ]
    },
    {
     "data": {
      "text/latex": [
       "$\\displaystyle ||a||$"
      ],
      "text/plain": [
       "<IPython.core.display.Math object>"
      ]
     },
     "metadata": {},
     "output_type": "display_data"
    },
    {
     "name": "stdout",
     "output_type": "stream",
     "text": [
      "  Rendered $||a||$\n",
      "\n",
      "Mathematical Operators:\n"
     ]
    },
    {
     "data": {
      "text/latex": [
       "$\\displaystyle \\sin(x)$"
      ],
      "text/plain": [
       "<IPython.core.display.Math object>"
      ]
     },
     "metadata": {},
     "output_type": "display_data"
    },
    {
     "name": "stdout",
     "output_type": "stream",
     "text": [
      "  Rendered $\\sin(x)$\n"
     ]
    },
    {
     "data": {
      "text/latex": [
       "$\\displaystyle \\cos(x)$"
      ],
      "text/plain": [
       "<IPython.core.display.Math object>"
      ]
     },
     "metadata": {},
     "output_type": "display_data"
    },
    {
     "name": "stdout",
     "output_type": "stream",
     "text": [
      "  Rendered $\\cos(x)$\n"
     ]
    },
    {
     "data": {
      "text/latex": [
       "$\\displaystyle \tan(x)$"
      ],
      "text/plain": [
       "<IPython.core.display.Math object>"
      ]
     },
     "metadata": {},
     "output_type": "display_data"
    },
    {
     "name": "stdout",
     "output_type": "stream",
     "text": [
      "  Rendered $\tan(x)$\n"
     ]
    },
    {
     "data": {
      "text/latex": [
       "$\\displaystyle \\lim_{x \to a} f(x)$"
      ],
      "text/plain": [
       "<IPython.core.display.Math object>"
      ]
     },
     "metadata": {},
     "output_type": "display_data"
    },
    {
     "name": "stdout",
     "output_type": "stream",
     "text": [
      "  Rendered $\\lim_{x \to a} f(x)$\n"
     ]
    },
    {
     "data": {
      "text/latex": [
       "$\\displaystyle \\sum_{i=1}^{n} a_i$"
      ],
      "text/plain": [
       "<IPython.core.display.Math object>"
      ]
     },
     "metadata": {},
     "output_type": "display_data"
    },
    {
     "name": "stdout",
     "output_type": "stream",
     "text": [
      "  Rendered $\\sum_{i=1}^{n} a_i$\n"
     ]
    },
    {
     "data": {
      "text/latex": [
       "$\\displaystyle \\prod_{i=1}^{n} a_i$"
      ],
      "text/plain": [
       "<IPython.core.display.Math object>"
      ]
     },
     "metadata": {},
     "output_type": "display_data"
    },
    {
     "name": "stdout",
     "output_type": "stream",
     "text": [
      "  Rendered $\\prod_{i=1}^{n} a_i$\n"
     ]
    },
    {
     "data": {
      "text/latex": [
       "$\\displaystyle \\int_{a}^{b} f(x) \\, dx$"
      ],
      "text/plain": [
       "<IPython.core.display.Math object>"
      ]
     },
     "metadata": {},
     "output_type": "display_data"
    },
    {
     "name": "stdout",
     "output_type": "stream",
     "text": [
      "  Rendered $\\int_{a}^{b} f(x) \\, dx$\n"
     ]
    },
    {
     "data": {
      "text/latex": [
       "$\\displaystyle \\iint_{R} f(x, y) \\, dA$"
      ],
      "text/plain": [
       "<IPython.core.display.Math object>"
      ]
     },
     "metadata": {},
     "output_type": "display_data"
    },
    {
     "name": "stdout",
     "output_type": "stream",
     "text": [
      "  Rendered $\\iint_{R} f(x, y) \\, dA$\n"
     ]
    },
    {
     "data": {
      "text/latex": [
       "$\\displaystyle \\iiint_{V} f(x, y, z) \\, dV$"
      ],
      "text/plain": [
       "<IPython.core.display.Math object>"
      ]
     },
     "metadata": {},
     "output_type": "display_data"
    },
    {
     "name": "stdout",
     "output_type": "stream",
     "text": [
      "  Rendered $\\iiint_{V} f(x, y, z) \\, dV$\n"
     ]
    },
    {
     "data": {
      "text/latex": [
       "$\\displaystyle \\oint_{C} f(r) \\cdot dr$"
      ],
      "text/plain": [
       "<IPython.core.display.Math object>"
      ]
     },
     "metadata": {},
     "output_type": "display_data"
    },
    {
     "name": "stdout",
     "output_type": "stream",
     "text": [
      "  Rendered $\\oint_{C} f(r) \\cdot dr$\n",
      "\n",
      "Environments:\n"
     ]
    },
    {
     "data": {
      "text/latex": [
       "$\\displaystyle \\begin{equation*} ... \\end{equation*}$"
      ],
      "text/plain": [
       "<IPython.core.display.Math object>"
      ]
     },
     "metadata": {},
     "output_type": "display_data"
    },
    {
     "name": "stdout",
     "output_type": "stream",
     "text": [
      "  Rendered \\begin{equation*} ... \\end{equation*}\n"
     ]
    },
    {
     "data": {
      "text/latex": [
       "$\\displaystyle \\begin{align*} ... \\end{align*}$"
      ],
      "text/plain": [
       "<IPython.core.display.Math object>"
      ]
     },
     "metadata": {},
     "output_type": "display_data"
    },
    {
     "name": "stdout",
     "output_type": "stream",
     "text": [
      "  Rendered \\begin{align*} ... \\end{align*}\n"
     ]
    },
    {
     "data": {
      "text/latex": [
       "$\\displaystyle \\begin{cases} ... \\end{cases}$"
      ],
      "text/plain": [
       "<IPython.core.display.Math object>"
      ]
     },
     "metadata": {},
     "output_type": "display_data"
    },
    {
     "name": "stdout",
     "output_type": "stream",
     "text": [
      "  Rendered \\begin{cases} ... \\end{cases}\n"
     ]
    },
    {
     "data": {
      "text/latex": [
       "$\\displaystyle \\begin{itemize} ... \\end{itemize}$"
      ],
      "text/plain": [
       "<IPython.core.display.Math object>"
      ]
     },
     "metadata": {},
     "output_type": "display_data"
    },
    {
     "name": "stdout",
     "output_type": "stream",
     "text": [
      "  Rendered \\begin{itemize} ... \\end{itemize}\n"
     ]
    },
    {
     "data": {
      "text/latex": [
       "$\\displaystyle \\begin{enumerate} ... \\end{enumerate}$"
      ],
      "text/plain": [
       "<IPython.core.display.Math object>"
      ]
     },
     "metadata": {},
     "output_type": "display_data"
    },
    {
     "name": "stdout",
     "output_type": "stream",
     "text": [
      "  Rendered \\begin{enumerate} ... \\end{enumerate}\n"
     ]
    },
    {
     "data": {
      "text/latex": [
       "$\\displaystyle \\begin{description} ... \\end{description}$"
      ],
      "text/plain": [
       "<IPython.core.display.Math object>"
      ]
     },
     "metadata": {},
     "output_type": "display_data"
    },
    {
     "name": "stdout",
     "output_type": "stream",
     "text": [
      "  Rendered \\begin{description} ... \\end{description}\n",
      "\n",
      "Other Constructs:\n"
     ]
    },
    {
     "data": {
      "text/latex": [
       "$\\displaystyle \\textbf{text}$"
      ],
      "text/plain": [
       "<IPython.core.display.Math object>"
      ]
     },
     "metadata": {},
     "output_type": "display_data"
    },
    {
     "name": "stdout",
     "output_type": "stream",
     "text": [
      "  Rendered \\textbf{text}\n"
     ]
    },
    {
     "data": {
      "text/latex": [
       "$\\displaystyle \\textit{text}$"
      ],
      "text/plain": [
       "<IPython.core.display.Math object>"
      ]
     },
     "metadata": {},
     "output_type": "display_data"
    },
    {
     "name": "stdout",
     "output_type": "stream",
     "text": [
      "  Rendered \\textit{text}\n"
     ]
    },
    {
     "data": {
      "text/latex": [
       "$\\displaystyle \\underline{text}$"
      ],
      "text/plain": [
       "<IPython.core.display.Math object>"
      ]
     },
     "metadata": {},
     "output_type": "display_data"
    },
    {
     "name": "stdout",
     "output_type": "stream",
     "text": [
      "  Rendered \\underline{text}\n"
     ]
    },
    {
     "data": {
      "text/latex": [
       "$\\displaystyle \\emph{text}$"
      ],
      "text/plain": [
       "<IPython.core.display.Math object>"
      ]
     },
     "metadata": {},
     "output_type": "display_data"
    },
    {
     "name": "stdout",
     "output_type": "stream",
     "text": [
      "  Rendered \\emph{text}\n"
     ]
    },
    {
     "data": {
      "text/latex": [
       "$\\displaystyle \\cite{reference}$"
      ],
      "text/plain": [
       "<IPython.core.display.Math object>"
      ]
     },
     "metadata": {},
     "output_type": "display_data"
    },
    {
     "name": "stdout",
     "output_type": "stream",
     "text": [
      "  Rendered \\cite{reference}\n"
     ]
    },
    {
     "data": {
      "text/latex": [
       "$\\displaystyle \\ref{label}$"
      ],
      "text/plain": [
       "<IPython.core.display.Math object>"
      ]
     },
     "metadata": {},
     "output_type": "display_data"
    },
    {
     "name": "stdout",
     "output_type": "stream",
     "text": [
      "  Rendered \\ref{label}\n"
     ]
    },
    {
     "data": {
      "text/latex": [
       "$\\displaystyle \\label{label}$"
      ],
      "text/plain": [
       "<IPython.core.display.Math object>"
      ]
     },
     "metadata": {},
     "output_type": "display_data"
    },
    {
     "name": "stdout",
     "output_type": "stream",
     "text": [
      "  Rendered \\label{label}\n"
     ]
    },
    {
     "data": {
      "text/latex": [
       "$\\displaystyle \\section*{title}$"
      ],
      "text/plain": [
       "<IPython.core.display.Math object>"
      ]
     },
     "metadata": {},
     "output_type": "display_data"
    },
    {
     "name": "stdout",
     "output_type": "stream",
     "text": [
      "  Rendered \\section*{title}\n"
     ]
    },
    {
     "data": {
      "text/latex": [
       "$\\displaystyle \\subsection*{title}$"
      ],
      "text/plain": [
       "<IPython.core.display.Math object>"
      ]
     },
     "metadata": {},
     "output_type": "display_data"
    },
    {
     "name": "stdout",
     "output_type": "stream",
     "text": [
      "  Rendered \\subsection*{title}\n"
     ]
    },
    {
     "data": {
      "text/latex": [
       "$\\displaystyle \\subsubsection*{title}$"
      ],
      "text/plain": [
       "<IPython.core.display.Math object>"
      ]
     },
     "metadata": {},
     "output_type": "display_data"
    },
    {
     "name": "stdout",
     "output_type": "stream",
     "text": [
      "  Rendered \\subsubsection*{title}\n",
      "\n"
     ]
    }
   ],
   "source": [
    "import matplotlib.pyplot as plt\n",
    "from IPython.display import Math, display\n",
    "#write a code to list needed latex expressions\n",
    "latex_expressions = {\n",
    "    \"Mathematical Symbols\": [\n",
    "        \"$a + b$\",\n",
    "        \"$a - b$\",\n",
    "        \"$a \\times b$\",\n",
    "        \"$a \\cdot b$\",\n",
    "        \"$a / b$\",\n",
    "        \"$a \\div b$\",\n",
    "        \"$a = b$\",\n",
    "        \"$a \\neq b$\",\n",
    "        \"$a < b$\",\n",
    "        \"$a > b$\",\n",
    "        \"$a \\leq b$\",\n",
    "        \"$a \\geq b$\",\n",
    "        \"$a \\approx b$\",\n",
    "        \"$a \\sim b$\",\n",
    "        \"$a \\propto b$\",\n",
    "        \"$a \\in b$\",\n",
    "        \"$a \\notin b$\",\n",
    "        \"$a \\subseteq b$\",\n",
    "        \"$a \\supseteq b$\",\n",
    "        \"$a \\cup b$\",\n",
    "        \"$a \\cap b$\",\n",
    "        \"$a \\setminus b$\",\n",
    "        \"$a \\oplus b$\",\n",
    "        \"$a^b$\",\n",
    "        \"$a_b$\",\n",
    "        \"$\\sqrt{a}$\",\n",
    "        \"$\\sqrt[n]{a}$\",\n",
    "        \"$|a|$\",\n",
    "        \"$||a||$\"\n",
    "    ],\n",
    "    \"Mathematical Operators\": [\n",
    "        \"$\\sin(x)$\",\n",
    "        \"$\\cos(x)$\",\n",
    "        \"$\\tan(x)$\",\n",
    "        \"$\\lim_{x \\to a} f(x)$\",\n",
    "        \"$\\sum_{i=1}^{n} a_i$\",\n",
    "        \"$\\prod_{i=1}^{n} a_i$\",\n",
    "        \"$\\int_{a}^{b} f(x) \\, dx$\",\n",
    "        \"$\\iint_{R} f(x, y) \\, dA$\",\n",
    "        \"$\\iiint_{V} f(x, y, z) \\, dV$\",\n",
    "        \"$\\oint_{C} f(r) \\cdot dr$\"\n",
    "    ],\n",
    "    \"Environments\": [\n",
    "        \"\\\\begin{equation*} ... \\\\end{equation*}\",\n",
    "        \"\\\\begin{align*} ... \\\\end{align*}\",\n",
    "        \"\\\\begin{cases} ... \\\\end{cases}\",\n",
    "        \"\\\\begin{itemize} ... \\\\end{itemize}\",\n",
    "        \"\\\\begin{enumerate} ... \\\\end{enumerate}\",\n",
    "        \"\\\\begin{description} ... \\\\end{description}\"\n",
    "    ],\n",
    "    \"Other Constructs\": [\n",
    "        \"\\\\textbf{text}\",\n",
    "        \"\\\\textit{text}\",\n",
    "        \"\\\\underline{text}\",\n",
    "        \"\\\\emph{text}\",\n",
    "        \"\\\\cite{reference}\",\n",
    "        \"\\\\ref{label}\",\n",
    "        \"\\\\label{label}\",\n",
    "        \"\\\\section*{title}\",\n",
    "        \"\\\\subsection*{title}\",\n",
    "        \"\\\\subsubsection*{title}\"\n",
    "    ]\n",
    "}\n",
    "\n",
    "for category, expressions in latex_expressions.items():\n",
    "    print(f\"{category}:\")\n",
    "    for expr in expressions:\n",
    "        try:\n",
    "            # Attempt to render the LaTeX expression using Matplotlib and IPython.display\n",
    "            display(Math(expr))\n",
    "        except Exception as e:\n",
    "            print(f\"  Error rendering {expr}: {e}\")\n",
    "        else:\n",
    "            print(f\"  Rendered {expr}\")\n",
    "    print()"
   ]
  },
  {
   "cell_type": "code",
   "execution_count": 22,
   "metadata": {},
   "outputs": [
    {
     "name": "stdout",
     "output_type": "stream",
     "text": [
      "Mathematical Symbols:\n"
     ]
    },
    {
     "data": {
      "text/latex": [
       "$\\displaystyle a + b$"
      ],
      "text/plain": [
       "<IPython.core.display.Math object>"
      ]
     },
     "metadata": {},
     "output_type": "display_data"
    },
    {
     "name": "stdout",
     "output_type": "stream",
     "text": [
      "  Rendered $a + b$\n"
     ]
    },
    {
     "data": {
      "text/latex": [
       "$\\displaystyle a - b$"
      ],
      "text/plain": [
       "<IPython.core.display.Math object>"
      ]
     },
     "metadata": {},
     "output_type": "display_data"
    },
    {
     "name": "stdout",
     "output_type": "stream",
     "text": [
      "  Rendered $a - b$\n"
     ]
    },
    {
     "data": {
      "text/latex": [
       "$\\displaystyle a \times b$"
      ],
      "text/plain": [
       "<IPython.core.display.Math object>"
      ]
     },
     "metadata": {},
     "output_type": "display_data"
    },
    {
     "name": "stdout",
     "output_type": "stream",
     "text": [
      "  Rendered $a \times b$\n"
     ]
    },
    {
     "data": {
      "text/latex": [
       "$\\displaystyle a \\cdot b$"
      ],
      "text/plain": [
       "<IPython.core.display.Math object>"
      ]
     },
     "metadata": {},
     "output_type": "display_data"
    },
    {
     "name": "stdout",
     "output_type": "stream",
     "text": [
      "  Rendered $a \\cdot b$\n"
     ]
    },
    {
     "data": {
      "text/latex": [
       "$\\displaystyle a / b$"
      ],
      "text/plain": [
       "<IPython.core.display.Math object>"
      ]
     },
     "metadata": {},
     "output_type": "display_data"
    },
    {
     "name": "stdout",
     "output_type": "stream",
     "text": [
      "  Rendered $a / b$\n"
     ]
    },
    {
     "data": {
      "text/latex": [
       "$\\displaystyle a \\div b$"
      ],
      "text/plain": [
       "<IPython.core.display.Math object>"
      ]
     },
     "metadata": {},
     "output_type": "display_data"
    },
    {
     "name": "stdout",
     "output_type": "stream",
     "text": [
      "  Rendered $a \\div b$\n"
     ]
    },
    {
     "data": {
      "text/latex": [
       "$\\displaystyle a = b$"
      ],
      "text/plain": [
       "<IPython.core.display.Math object>"
      ]
     },
     "metadata": {},
     "output_type": "display_data"
    },
    {
     "name": "stdout",
     "output_type": "stream",
     "text": [
      "  Rendered $a = b$\n"
     ]
    },
    {
     "data": {
      "text/latex": [
       "$\\displaystyle a \n",
       "eq b$"
      ],
      "text/plain": [
       "<IPython.core.display.Math object>"
      ]
     },
     "metadata": {},
     "output_type": "display_data"
    },
    {
     "name": "stdout",
     "output_type": "stream",
     "text": [
      "  Rendered $a \n",
      "eq b$\n"
     ]
    },
    {
     "data": {
      "text/latex": [
       "$\\displaystyle a < b$"
      ],
      "text/plain": [
       "<IPython.core.display.Math object>"
      ]
     },
     "metadata": {},
     "output_type": "display_data"
    },
    {
     "name": "stdout",
     "output_type": "stream",
     "text": [
      "  Rendered $a < b$\n"
     ]
    },
    {
     "data": {
      "text/latex": [
       "$\\displaystyle a > b$"
      ],
      "text/plain": [
       "<IPython.core.display.Math object>"
      ]
     },
     "metadata": {},
     "output_type": "display_data"
    },
    {
     "name": "stdout",
     "output_type": "stream",
     "text": [
      "  Rendered $a > b$\n"
     ]
    },
    {
     "data": {
      "text/latex": [
       "$\\displaystyle a \\leq b$"
      ],
      "text/plain": [
       "<IPython.core.display.Math object>"
      ]
     },
     "metadata": {},
     "output_type": "display_data"
    },
    {
     "name": "stdout",
     "output_type": "stream",
     "text": [
      "  Rendered $a \\leq b$\n"
     ]
    },
    {
     "data": {
      "text/latex": [
       "$\\displaystyle a \\geq b$"
      ],
      "text/plain": [
       "<IPython.core.display.Math object>"
      ]
     },
     "metadata": {},
     "output_type": "display_data"
    },
    {
     "name": "stdout",
     "output_type": "stream",
     "text": [
      "  Rendered $a \\geq b$\n"
     ]
    },
    {
     "data": {
      "text/latex": [
       "$\\displaystyle a \u0007pprox b$"
      ],
      "text/plain": [
       "<IPython.core.display.Math object>"
      ]
     },
     "metadata": {},
     "output_type": "display_data"
    },
    {
     "name": "stdout",
     "output_type": "stream",
     "text": [
      "  Rendered $a \u0007pprox b$\n"
     ]
    },
    {
     "data": {
      "text/latex": [
       "$\\displaystyle a \\sim b$"
      ],
      "text/plain": [
       "<IPython.core.display.Math object>"
      ]
     },
     "metadata": {},
     "output_type": "display_data"
    },
    {
     "name": "stdout",
     "output_type": "stream",
     "text": [
      "  Rendered $a \\sim b$\n"
     ]
    },
    {
     "data": {
      "text/latex": [
       "$\\displaystyle a \\propto b$"
      ],
      "text/plain": [
       "<IPython.core.display.Math object>"
      ]
     },
     "metadata": {},
     "output_type": "display_data"
    },
    {
     "name": "stdout",
     "output_type": "stream",
     "text": [
      "  Rendered $a \\propto b$\n"
     ]
    },
    {
     "data": {
      "text/latex": [
       "$\\displaystyle a \\in b$"
      ],
      "text/plain": [
       "<IPython.core.display.Math object>"
      ]
     },
     "metadata": {},
     "output_type": "display_data"
    },
    {
     "name": "stdout",
     "output_type": "stream",
     "text": [
      "  Rendered $a \\in b$\n"
     ]
    },
    {
     "data": {
      "text/latex": [
       "$\\displaystyle a \n",
       "otin b$"
      ],
      "text/plain": [
       "<IPython.core.display.Math object>"
      ]
     },
     "metadata": {},
     "output_type": "display_data"
    },
    {
     "name": "stdout",
     "output_type": "stream",
     "text": [
      "  Rendered $a \n",
      "otin b$\n"
     ]
    },
    {
     "data": {
      "text/latex": [
       "$\\displaystyle a \\subseteq b$"
      ],
      "text/plain": [
       "<IPython.core.display.Math object>"
      ]
     },
     "metadata": {},
     "output_type": "display_data"
    },
    {
     "name": "stdout",
     "output_type": "stream",
     "text": [
      "  Rendered $a \\subseteq b$\n"
     ]
    },
    {
     "data": {
      "text/latex": [
       "$\\displaystyle a \\supseteq b$"
      ],
      "text/plain": [
       "<IPython.core.display.Math object>"
      ]
     },
     "metadata": {},
     "output_type": "display_data"
    },
    {
     "name": "stdout",
     "output_type": "stream",
     "text": [
      "  Rendered $a \\supseteq b$\n"
     ]
    },
    {
     "data": {
      "text/latex": [
       "$\\displaystyle a \\cup b$"
      ],
      "text/plain": [
       "<IPython.core.display.Math object>"
      ]
     },
     "metadata": {},
     "output_type": "display_data"
    },
    {
     "name": "stdout",
     "output_type": "stream",
     "text": [
      "  Rendered $a \\cup b$\n"
     ]
    },
    {
     "data": {
      "text/latex": [
       "$\\displaystyle a \\cap b$"
      ],
      "text/plain": [
       "<IPython.core.display.Math object>"
      ]
     },
     "metadata": {},
     "output_type": "display_data"
    },
    {
     "name": "stdout",
     "output_type": "stream",
     "text": [
      "  Rendered $a \\cap b$\n"
     ]
    },
    {
     "data": {
      "text/latex": [
       "$\\displaystyle a \\setminus b$"
      ],
      "text/plain": [
       "<IPython.core.display.Math object>"
      ]
     },
     "metadata": {},
     "output_type": "display_data"
    },
    {
     "name": "stdout",
     "output_type": "stream",
     "text": [
      "  Rendered $a \\setminus b$\n"
     ]
    },
    {
     "data": {
      "text/latex": [
       "$\\displaystyle a \\oplus b$"
      ],
      "text/plain": [
       "<IPython.core.display.Math object>"
      ]
     },
     "metadata": {},
     "output_type": "display_data"
    },
    {
     "name": "stdout",
     "output_type": "stream",
     "text": [
      "  Rendered $a \\oplus b$\n"
     ]
    },
    {
     "data": {
      "text/latex": [
       "$\\displaystyle a^b$"
      ],
      "text/plain": [
       "<IPython.core.display.Math object>"
      ]
     },
     "metadata": {},
     "output_type": "display_data"
    },
    {
     "name": "stdout",
     "output_type": "stream",
     "text": [
      "  Rendered $a^b$\n"
     ]
    },
    {
     "data": {
      "text/latex": [
       "$\\displaystyle a_b$"
      ],
      "text/plain": [
       "<IPython.core.display.Math object>"
      ]
     },
     "metadata": {},
     "output_type": "display_data"
    },
    {
     "name": "stdout",
     "output_type": "stream",
     "text": [
      "  Rendered $a_b$\n"
     ]
    },
    {
     "data": {
      "text/latex": [
       "$\\displaystyle \\sqrt{a}$"
      ],
      "text/plain": [
       "<IPython.core.display.Math object>"
      ]
     },
     "metadata": {},
     "output_type": "display_data"
    },
    {
     "name": "stdout",
     "output_type": "stream",
     "text": [
      "  Rendered $\\sqrt{a}$\n"
     ]
    },
    {
     "data": {
      "text/latex": [
       "$\\displaystyle \\sqrt[n]{a}$"
      ],
      "text/plain": [
       "<IPython.core.display.Math object>"
      ]
     },
     "metadata": {},
     "output_type": "display_data"
    },
    {
     "name": "stdout",
     "output_type": "stream",
     "text": [
      "  Rendered $\\sqrt[n]{a}$\n"
     ]
    },
    {
     "data": {
      "text/latex": [
       "$\\displaystyle |a|$"
      ],
      "text/plain": [
       "<IPython.core.display.Math object>"
      ]
     },
     "metadata": {},
     "output_type": "display_data"
    },
    {
     "name": "stdout",
     "output_type": "stream",
     "text": [
      "  Rendered $|a|$\n"
     ]
    },
    {
     "data": {
      "text/latex": [
       "$\\displaystyle ||a||$"
      ],
      "text/plain": [
       "<IPython.core.display.Math object>"
      ]
     },
     "metadata": {},
     "output_type": "display_data"
    },
    {
     "name": "stdout",
     "output_type": "stream",
     "text": [
      "  Rendered $||a||$\n",
      "\n",
      "Mathematical Operators:\n"
     ]
    },
    {
     "data": {
      "text/latex": [
       "$\\displaystyle \\sin(x)$"
      ],
      "text/plain": [
       "<IPython.core.display.Math object>"
      ]
     },
     "metadata": {},
     "output_type": "display_data"
    },
    {
     "name": "stdout",
     "output_type": "stream",
     "text": [
      "  Rendered $\\sin(x)$\n"
     ]
    },
    {
     "data": {
      "text/latex": [
       "$\\displaystyle \\cos(x)$"
      ],
      "text/plain": [
       "<IPython.core.display.Math object>"
      ]
     },
     "metadata": {},
     "output_type": "display_data"
    },
    {
     "name": "stdout",
     "output_type": "stream",
     "text": [
      "  Rendered $\\cos(x)$\n"
     ]
    },
    {
     "data": {
      "text/latex": [
       "$\\displaystyle \tan(x)$"
      ],
      "text/plain": [
       "<IPython.core.display.Math object>"
      ]
     },
     "metadata": {},
     "output_type": "display_data"
    },
    {
     "name": "stdout",
     "output_type": "stream",
     "text": [
      "  Rendered $\tan(x)$\n"
     ]
    },
    {
     "data": {
      "text/latex": [
       "$\\displaystyle \\lim_{x \to a} f(x)$"
      ],
      "text/plain": [
       "<IPython.core.display.Math object>"
      ]
     },
     "metadata": {},
     "output_type": "display_data"
    },
    {
     "name": "stdout",
     "output_type": "stream",
     "text": [
      "  Rendered $\\lim_{x \to a} f(x)$\n"
     ]
    },
    {
     "data": {
      "text/latex": [
       "$\\displaystyle \\sum_{i=1}^{n} a_i$"
      ],
      "text/plain": [
       "<IPython.core.display.Math object>"
      ]
     },
     "metadata": {},
     "output_type": "display_data"
    },
    {
     "name": "stdout",
     "output_type": "stream",
     "text": [
      "  Rendered $\\sum_{i=1}^{n} a_i$\n"
     ]
    },
    {
     "data": {
      "text/latex": [
       "$\\displaystyle \\prod_{i=1}^{n} a_i$"
      ],
      "text/plain": [
       "<IPython.core.display.Math object>"
      ]
     },
     "metadata": {},
     "output_type": "display_data"
    },
    {
     "name": "stdout",
     "output_type": "stream",
     "text": [
      "  Rendered $\\prod_{i=1}^{n} a_i$\n"
     ]
    },
    {
     "data": {
      "text/latex": [
       "$\\displaystyle \\int_{a}^{b} f(x) \\, dx$"
      ],
      "text/plain": [
       "<IPython.core.display.Math object>"
      ]
     },
     "metadata": {},
     "output_type": "display_data"
    },
    {
     "name": "stdout",
     "output_type": "stream",
     "text": [
      "  Rendered $\\int_{a}^{b} f(x) \\, dx$\n"
     ]
    },
    {
     "data": {
      "text/latex": [
       "$\\displaystyle \\iint_{R} f(x, y) \\, dA$"
      ],
      "text/plain": [
       "<IPython.core.display.Math object>"
      ]
     },
     "metadata": {},
     "output_type": "display_data"
    },
    {
     "name": "stdout",
     "output_type": "stream",
     "text": [
      "  Rendered $\\iint_{R} f(x, y) \\, dA$\n"
     ]
    },
    {
     "data": {
      "text/latex": [
       "$\\displaystyle \\iiint_{V} f(x, y, z) \\, dV$"
      ],
      "text/plain": [
       "<IPython.core.display.Math object>"
      ]
     },
     "metadata": {},
     "output_type": "display_data"
    },
    {
     "name": "stdout",
     "output_type": "stream",
     "text": [
      "  Rendered $\\iiint_{V} f(x, y, z) \\, dV$\n"
     ]
    },
    {
     "data": {
      "text/latex": [
       "$\\displaystyle \\oint_{C} f(r) \\cdot dr$"
      ],
      "text/plain": [
       "<IPython.core.display.Math object>"
      ]
     },
     "metadata": {},
     "output_type": "display_data"
    },
    {
     "name": "stdout",
     "output_type": "stream",
     "text": [
      "  Rendered $\\oint_{C} f(r) \\cdot dr$\n",
      "\n",
      "Environments:\n"
     ]
    },
    {
     "data": {
      "text/latex": [
       "$\\displaystyle \\begin{equation*} ... \\end{equation*}$"
      ],
      "text/plain": [
       "<IPython.core.display.Math object>"
      ]
     },
     "metadata": {},
     "output_type": "display_data"
    },
    {
     "name": "stdout",
     "output_type": "stream",
     "text": [
      "  Rendered \\begin{equation*} ... \\end{equation*}\n"
     ]
    },
    {
     "data": {
      "text/latex": [
       "$\\displaystyle \\begin{align*} ... \\end{align*}$"
      ],
      "text/plain": [
       "<IPython.core.display.Math object>"
      ]
     },
     "metadata": {},
     "output_type": "display_data"
    },
    {
     "name": "stdout",
     "output_type": "stream",
     "text": [
      "  Rendered \\begin{align*} ... \\end{align*}\n"
     ]
    },
    {
     "data": {
      "text/latex": [
       "$\\displaystyle \\begin{cases} ... \\end{cases}$"
      ],
      "text/plain": [
       "<IPython.core.display.Math object>"
      ]
     },
     "metadata": {},
     "output_type": "display_data"
    },
    {
     "name": "stdout",
     "output_type": "stream",
     "text": [
      "  Rendered \\begin{cases} ... \\end{cases}\n"
     ]
    },
    {
     "data": {
      "text/latex": [
       "$\\displaystyle \\begin{itemize} ... \\end{itemize}$"
      ],
      "text/plain": [
       "<IPython.core.display.Math object>"
      ]
     },
     "metadata": {},
     "output_type": "display_data"
    },
    {
     "name": "stdout",
     "output_type": "stream",
     "text": [
      "  Rendered \\begin{itemize} ... \\end{itemize}\n"
     ]
    },
    {
     "data": {
      "text/latex": [
       "$\\displaystyle \\begin{enumerate} ... \\end{enumerate}$"
      ],
      "text/plain": [
       "<IPython.core.display.Math object>"
      ]
     },
     "metadata": {},
     "output_type": "display_data"
    },
    {
     "name": "stdout",
     "output_type": "stream",
     "text": [
      "  Rendered \\begin{enumerate} ... \\end{enumerate}\n"
     ]
    },
    {
     "data": {
      "text/latex": [
       "$\\displaystyle \\begin{description} ... \\end{description}$"
      ],
      "text/plain": [
       "<IPython.core.display.Math object>"
      ]
     },
     "metadata": {},
     "output_type": "display_data"
    },
    {
     "name": "stdout",
     "output_type": "stream",
     "text": [
      "  Rendered \\begin{description} ... \\end{description}\n",
      "\n",
      "Other Constructs:\n"
     ]
    },
    {
     "data": {
      "text/latex": [
       "$\\displaystyle \\textbf{text}$"
      ],
      "text/plain": [
       "<IPython.core.display.Math object>"
      ]
     },
     "metadata": {},
     "output_type": "display_data"
    },
    {
     "name": "stdout",
     "output_type": "stream",
     "text": [
      "  Rendered \\textbf{text}\n"
     ]
    },
    {
     "data": {
      "text/latex": [
       "$\\displaystyle \\textit{text}$"
      ],
      "text/plain": [
       "<IPython.core.display.Math object>"
      ]
     },
     "metadata": {},
     "output_type": "display_data"
    },
    {
     "name": "stdout",
     "output_type": "stream",
     "text": [
      "  Rendered \\textit{text}\n"
     ]
    },
    {
     "data": {
      "text/latex": [
       "$\\displaystyle \\underline{text}$"
      ],
      "text/plain": [
       "<IPython.core.display.Math object>"
      ]
     },
     "metadata": {},
     "output_type": "display_data"
    },
    {
     "name": "stdout",
     "output_type": "stream",
     "text": [
      "  Rendered \\underline{text}\n"
     ]
    },
    {
     "data": {
      "text/latex": [
       "$\\displaystyle \\emph{text}$"
      ],
      "text/plain": [
       "<IPython.core.display.Math object>"
      ]
     },
     "metadata": {},
     "output_type": "display_data"
    },
    {
     "name": "stdout",
     "output_type": "stream",
     "text": [
      "  Rendered \\emph{text}\n"
     ]
    },
    {
     "data": {
      "text/latex": [
       "$\\displaystyle \\cite{reference}$"
      ],
      "text/plain": [
       "<IPython.core.display.Math object>"
      ]
     },
     "metadata": {},
     "output_type": "display_data"
    },
    {
     "name": "stdout",
     "output_type": "stream",
     "text": [
      "  Rendered \\cite{reference}\n"
     ]
    },
    {
     "data": {
      "text/latex": [
       "$\\displaystyle \\ref{label}$"
      ],
      "text/plain": [
       "<IPython.core.display.Math object>"
      ]
     },
     "metadata": {},
     "output_type": "display_data"
    },
    {
     "name": "stdout",
     "output_type": "stream",
     "text": [
      "  Rendered \\ref{label}\n"
     ]
    },
    {
     "data": {
      "text/latex": [
       "$\\displaystyle \\label{label}$"
      ],
      "text/plain": [
       "<IPython.core.display.Math object>"
      ]
     },
     "metadata": {},
     "output_type": "display_data"
    },
    {
     "name": "stdout",
     "output_type": "stream",
     "text": [
      "  Rendered \\label{label}\n"
     ]
    },
    {
     "data": {
      "text/latex": [
       "$\\displaystyle \\section*{title}$"
      ],
      "text/plain": [
       "<IPython.core.display.Math object>"
      ]
     },
     "metadata": {},
     "output_type": "display_data"
    },
    {
     "name": "stdout",
     "output_type": "stream",
     "text": [
      "  Rendered \\section*{title}\n"
     ]
    },
    {
     "data": {
      "text/latex": [
       "$\\displaystyle \\subsection*{title}$"
      ],
      "text/plain": [
       "<IPython.core.display.Math object>"
      ]
     },
     "metadata": {},
     "output_type": "display_data"
    },
    {
     "name": "stdout",
     "output_type": "stream",
     "text": [
      "  Rendered \\subsection*{title}\n"
     ]
    },
    {
     "data": {
      "text/latex": [
       "$\\displaystyle \\subsubsection*{title}$"
      ],
      "text/plain": [
       "<IPython.core.display.Math object>"
      ]
     },
     "metadata": {},
     "output_type": "display_data"
    },
    {
     "name": "stdout",
     "output_type": "stream",
     "text": [
      "  Rendered \\subsubsection*{title}\n",
      "\n"
     ]
    }
   ],
   "source": [
    "import matplotlib.pyplot as plt\n",
    "from IPython.display import Math, display\n",
    "\n",
    "# Data to plot\n",
    "categories = list(latex_expressions.keys())\n",
    "for category, expressions in latex_expressions.items():\n",
    "    print(f\"{category}:\")\n",
    "    for expr in expressions:\n",
    "        try:\n",
    "            # Attempt to render the LaTeX expression using Matplotlib and IPython.display\n",
    "            display(Math(expr))\n",
    "        except Exception as e:\n",
    "            print(f\"  Error rendering {expr}: {e}\")\n",
    "        else:\n",
    "            print(f\"  Rendered {expr}\")\n",
    "    print()"
   ]
  },
  {
   "cell_type": "markdown",
   "metadata": {
    "id": "jDIYW2bKHxXB"
   },
   "source": [
    "# Using pytorch"
   ]
  },
  {
   "cell_type": "code",
   "execution_count": 26,
   "metadata": {
    "colab": {
     "base_uri": "https://localhost:8080/"
    },
    "executionInfo": {
     "elapsed": 8,
     "status": "ok",
     "timestamp": 1676547425015,
     "user": {
      "displayName": "Mike X Cohen",
      "userId": "13901636194183843661"
     },
     "user_tz": -540
    },
    "id": "TxerJIwvIREg",
    "outputId": "b37be36d-a761-4482-815f-8ea0c80e378d"
   },
   "outputs": [
    {
     "name": "stdout",
     "output_type": "stream",
     "text": [
      "[ 6  8 -1  9 -5 -4  5 11  6  9  9  1  9 -5  1 -4  3  2 13 -3 14  6  7 -4\n",
      "  7]\n",
      "tensor([2.3134e-04, 1.7094e-03, 2.1096e-07, 4.6466e-03, 3.8638e-09, 1.0503e-08,\n",
      "        8.5106e-05, 3.4334e-02, 2.3134e-04, 4.6466e-03, 4.6466e-03, 1.5588e-06,\n",
      "        4.6466e-03, 3.8638e-09, 1.5588e-06, 1.0503e-08, 1.1518e-05, 4.2372e-06,\n",
      "        2.5370e-01, 2.8550e-08, 6.8962e-01, 2.3134e-04, 6.2885e-04, 1.0503e-08,\n",
      "        6.2885e-04])\n"
     ]
    }
   ],
   "source": [
    "# slightly more involved using torch.nn\n",
    "\n",
    "# create an instance of the softmax activation class\n",
    "softfun = nn.Softmax(dim=0)\n",
    "\n",
    "# then apply the data to that function\n",
    "sigmaT = softfun( torch.Tensor(z) )\n",
    "\n",
    "# now we get the results\n",
    "print(z)\n",
    "print(sigmaT)"
   ]
  },
  {
   "cell_type": "code",
   "execution_count": 25,
   "metadata": {},
   "outputs": [
    {
     "name": "stdout",
     "output_type": "stream",
     "text": [
      "Softmax(\n",
      "  dim=tensor([ 6.,  8., -1.,  9., -5., -4.,  5., 11.,  6.,  9.,  9.,  1.,  9., -5.,\n",
      "           1., -4.,  3.,  2., 13., -3., 14.,  6.,  7., -4.,  7.])\n",
      ")\n"
     ]
    }
   ],
   "source": [
    "# slightly more involved using torch.nn\n",
    "\n",
    "# then apply the data to that function\n",
    "sigmaT = nn.Softmax( torch.Tensor(z) )\n",
    "\n",
    "# now we get the results\n",
    "print(sigmaT)"
   ]
  },
  {
   "cell_type": "code",
   "execution_count": 27,
   "metadata": {
    "colab": {
     "base_uri": "https://localhost:8080/",
     "height": 295
    },
    "executionInfo": {
     "elapsed": 979,
     "status": "ok",
     "timestamp": 1676547425989,
     "user": {
      "displayName": "Mike X Cohen",
      "userId": "13901636194183843661"
     },
     "user_tz": -540
    },
    "id": "WY4hMa2BIRLQ",
    "outputId": "eebc99c7-584e-4926-9706-96094252a833"
   },
   "outputs": [
    {
     "data": {
      "image/png": "[encoded data removed]",
      "text/plain": [
       "<Figure size 640x480 with 1 Axes>"
      ]
     },
     "metadata": {},
     "output_type": "display_data"
    }
   ],
   "source": [
    "# show that they are the same\n",
    "plt.plot(sigma,sigmaT,'ko')\n",
    "plt.xlabel('\"Manual\" softmax')\n",
    "plt.ylabel('Pytorch nn.Softmax')\n",
    "plt.title(f'The two methods correlate at r={np.corrcoef(sigma,sigmaT)[0,1]}')\n",
    "plt.show()"
   ]
  },
  {
   "cell_type": "code",
   "execution_count": 6,
   "metadata": {},
   "outputs": [
    {
     "data": {
      "image/png": "[encoded data removed]",
      "text/plain": [
       "<Figure size 640x480 with 1 Axes>"
      ]
     },
     "metadata": {},
     "output_type": "display_data"
    }
   ],
   "source": [
    "# ploting a exponent\n",
    "import numpy as np\n",
    "import matplotlib.pyplot as plt\n",
    "x = np.linspace(-2,2,1000)\n",
    "y = np.exp(x)\n",
    "plt.plot(x,y,'k-')\n",
    "plt.xlabel('x')\n",
    "plt.ylabel('exp(x)')\n",
    "plt.show()\n",
    "\n"
   ]
  }
 ],
 "metadata": {
  "colab": {
   "authorship_tag": "ABX9TyP3eGKdOz6wpqWd2dmYzvBT",
   "provenance": []
  },
  "kernelspec": {
   "display_name": ".venv",
   "language": "python",
   "name": "python3"
  },
  "language_info": {
   "codemirror_mode": {
    "name": "ipython",
    "version": 3
   },
   "file_extension": ".py",
   "mimetype": "text/x-python",
   "name": "python",
   "nbconvert_exporter": "python",
   "pygments_lexer": "ipython3",
   "version": "3.10.6"
  }
 },
 "nbformat": 4,
 "nbformat_minor": 0
}
