{
 "cells": [
  {
   "cell_type": "markdown",
   "metadata": {
    "id": "bhWV8oes-wKR"
   },
   "source": [
    "# COURSE: A deep understanding of deep learning\n",
    "## SECTION: Math prerequisites\n",
    "### LECTURE: Min/max and argmin/max\n",
    "#### TEACHER: Mike X Cohen, sincxpress.com\n",
    "##### COURSE URL: udemy.com/course/deeplearning_x/?couponCode=202401"
   ]
  },
  {
   "cell_type": "code",
   "execution_count": 2,
   "metadata": {
    "id": "wYjuZD1kPb3g"
   },
   "outputs": [],
   "source": [
    "# import libraries\n",
    "import numpy as np\n",
    "import torch"
   ]
  },
  {
   "cell_type": "markdown",
   "metadata": {
    "id": "8HsmHiC6Pf3t"
   },
   "source": [
    "# Using numpy"
   ]
  },
  {
   "cell_type": "code",
   "execution_count": 8,
   "metadata": {
    "id": "eDMs2HT0Ph4r"
   },
   "outputs": [
    {
     "name": "stdout",
     "output_type": "stream",
     "text": [
      "Min,max: -3,40\n",
      "Min,max indices: 3,1\n",
      " \n",
      "Min val is -3, max val is 40\n"
     ]
    }
   ],
   "source": [
    "# create a vector\n",
    "v = np.array([ 1,40,2,-3])\n",
    "\n",
    "# find and report the maximum and minimum values\n",
    "minval = np.min(v)\n",
    "maxval = np.max(v)\n",
    "\n",
    "print('Min,max: %g,%g' %(minval,maxval) )\n",
    "\n",
    "\n",
    "# now for the argmin/max\n",
    "minidx = np.argmin(v)\n",
    "maxidx = np.argmax(v)\n",
    "\n",
    "print('Min,max indices: %g,%g' %(minidx,maxidx) ), print(' ')\n",
    "\n",
    "# confirm\n",
    "print(f'Min val is { v[minidx] }, max val is { v[maxidx] }')"
   ]
  },
  {
   "cell_type": "code",
   "execution_count": 12,
   "metadata": {
    "id": "KVsOLZ66Ph7s"
   },
   "outputs": [
    {
     "name": "stdout",
     "output_type": "stream",
     "text": [
      "[[ 0  1 10]\n",
      " [20  8  5]]\n",
      " \n",
      "np.min(M)=0 minimum from ENTIRE matrix\n",
      "\n",
      "npmin(M,axis=0)=[0 1 5] minimum of each column (across rows)\n",
      "\n",
      "np.min(M,axis=1)=[0 5] minimum of each row (across columns)\n",
      "\n",
      " \n"
     ]
    }
   ],
   "source": [
    "# repeat with matrix\n",
    "M = np.array([ [0,1,10], \n",
    "               [20,8,5] ])\n",
    "print(M), print(' ')\n",
    "\n",
    "# various minima in this matrix!\n",
    "minvals1 = np.min(M)        # minimum from ENTIRE matrix\n",
    "minvals2 = np.min(M,axis=0) # minimum of each column (across rows)\n",
    "minvals3 = np.min(M,axis=1) # minimum of each row (across columns)\n",
    "\n",
    "# print them out\n",
    "print(f'np.min(M)={minvals1} minimum from ENTIRE matrix\\n')\n",
    "print(f'npmin(M,axis=0)={minvals2} minimum of each column (across rows)\\n')\n",
    "print(f'np.min(M,axis=1)={minvals3} minimum of each row (across columns)\\n')\n",
    "print(' ')"
   ]
  },
  {
   "cell_type": "code",
   "execution_count": 17,
   "metadata": {
    "id": "KygYLWYoTIT4"
   },
   "outputs": [
    {
     "name": "stdout",
     "output_type": "stream",
     "text": [
      "[[ 0  1 10]\n",
      " [20  8  5]]\n",
      " \n",
      "np.argmin(M)=0 minimum from ENTIRE matrix\n",
      "\n",
      "np.argmin(M,axis=0)=[0 0 1] minimum of each column (across rows)\n",
      "\n",
      "np.argmin(M,axis=1)=[0 2] minimum of each row (across columns)\n",
      "\n"
     ]
    }
   ],
   "source": [
    "# various minima in this matrix!\n",
    "minidx1 = np.argmin(M)        # minimum from ENTIRE matrix\n",
    "minidx2 = np.argmin(M,axis=0) # minimum of each column (across rows)\n",
    "minidx3 = np.argmin(M,axis=1) # minimum of each row (across columns)\n",
    "\n",
    "# print them out\n",
    "print(M), print(' ') # reminder\n",
    "print(f'np.argmin(M)={minidx1} minimum from ENTIRE matrix\\n')\n",
    "print(f'np.argmin(M,axis=0)={minidx2} minimum of each column (across rows)\\n')\n",
    "print(f'np.argmin(M,axis=1)={minidx3} minimum of each row (across columns)\\n')"
   ]
  },
  {
   "cell_type": "code",
   "execution_count": 20,
   "metadata": {},
   "outputs": [
    {
     "name": "stdout",
     "output_type": "stream",
     "text": [
      "[[ 0  1 10]\n",
      " [20  8  5]]\n",
      " \n",
      "np.max(M)=20 maximum from ENTIRE matrix\n",
      "\n",
      "np.max(M,axis=0)=[20  8 10] maximum of each column (across rows)\n",
      "\n",
      "np.max(M,axis=1)=[10 20] maximum of each row (across columns)\n",
      "\n"
     ]
    }
   ],
   "source": [
    "# various maxima in this matrix!\n",
    "maxvals1 = np.max(M)        # maximum from ENTIRE matrix\n",
    "maxvals2 = np.max(M,axis=0) # maximum of each column (across rows)\n",
    "maxvals3 = np.max(M,axis=1) # maximum of each row (across columns)\n",
    "\n",
    "# print them out\n",
    "print(M), print(' ') # reminder\n",
    "print(f'np.max(M)={maxvals1} maximum from ENTIRE matrix\\n')\n",
    "print(f'np.max(M,axis=0)={maxvals2} maximum of each column (across rows)\\n')\n",
    "print(f'np.max(M,axis=1)={maxvals3} maximum of each row (across columns)\\n')"
   ]
  },
  {
   "cell_type": "code",
   "execution_count": 23,
   "metadata": {},
   "outputs": [
    {
     "name": "stdout",
     "output_type": "stream",
     "text": [
      "[[ 0  1 10]\n",
      " [20  8  5]]\n",
      " \n",
      "np.argmax(M)=3 maximum from ENTIRE matrix\n",
      "\n",
      "np.argmax(M,axis=0)=[1 1 0] maximum of each column (across rows)\n",
      "\n",
      "np.argmax(M,axis=1)=[2 0] maximum of each row (across columns)\n",
      "\n"
     ]
    }
   ],
   "source": [
    "# various maxima index in this matrix!\n",
    "maxidx1 = np.argmax(M)        # maximum from ENTIRE matrix\n",
    "maxidx2 = np.argmax(M,axis=0) # maximum of each column (across rows)\n",
    "maxidx3 = np.argmax(M,axis=1) # maximum of each row (across columns)\n",
    "\n",
    "# print them out\n",
    "print(M), print(' ') # reminder\n",
    "print(f'np.argmax(M)={maxidx1} maximum from ENTIRE matrix\\n')\n",
    "print(f'np.argmax(M,axis=0)={maxidx2} maximum of each column (across rows)\\n')\n",
    "print(f'np.argmax(M,axis=1)={maxidx3} maximum of each row (across columns)\\n')"
   ]
  },
  {
   "cell_type": "markdown",
   "metadata": {
    "id": "-M4TujzAR5vb"
   },
   "source": [
    "# Now using pytorch"
   ]
  },
  {
   "cell_type": "code",
   "execution_count": 24,
   "metadata": {
    "id": "4wYM8pGRR76s"
   },
   "outputs": [
    {
     "name": "stdout",
     "output_type": "stream",
     "text": [
      "Min,max: -3,40\n",
      "Min,max indices: 3,1\n",
      " \n",
      "Min val is -3, max val is 40\n"
     ]
    }
   ],
   "source": [
    "# create a vector\n",
    "v = torch.tensor([ 1,40,2,-3 ])\n",
    "\n",
    "# find and report the maximum and minimum values\n",
    "minval = torch.min(v)\n",
    "maxval = torch.max(v)\n",
    "\n",
    "print('Min,max: %g,%g' %(minval,maxval) )\n",
    "\n",
    "\n",
    "# now for the argmin/max\n",
    "minidx = torch.argmin(v)\n",
    "maxidx = torch.argmax(v)\n",
    "\n",
    "print('Min,max indices: %g,%g' %(minidx,maxidx) ), print(' ')\n",
    "\n",
    "# confirm\n",
    "print(f'Min val is { v[minidx] }, max val is { v[maxidx] }')"
   ]
  },
  {
   "cell_type": "code",
   "execution_count": 34,
   "metadata": {
    "id": "7AP93vgZR788"
   },
   "outputs": [
    {
     "name": "stdout",
     "output_type": "stream",
     "text": [
      "tensor([[ 0,  1, 10],\n",
      "        [20,  8,  5]])\n",
      " \n",
      "tensor(0)\n",
      " \n",
      "torch.return_types.min(\n",
      "values=tensor([0, 1, 5]),\n",
      "indices=tensor([0, 0, 1]))\n",
      " \n",
      "<built-in method values of Tensor object at 0x0000018C72311120>\n",
      "<built-in method indices of Tensor object at 0x0000018C72311120>\n",
      " \n",
      "tensor([0, 1, 5])\n",
      "tensor([0, 0, 1])\n",
      " \n",
      "tensor([0, 5])\n",
      "tensor([0, 2])\n",
      " \n"
     ]
    },
    {
     "data": {
      "text/plain": [
       "(None, None)"
      ]
     },
     "execution_count": 34,
     "metadata": {},
     "output_type": "execute_result"
    }
   ],
   "source": [
    "# repeat with matrix\n",
    "M = torch.tensor([ [0,1,10], \n",
    "                   [20,8,5] ])\n",
    "\n",
    "# various minima in this matrix!\n",
    "min1 = torch.min(M)        # minimum from ENTIRE matrix\n",
    "min2 = torch.min(M,axis=0) # minimum of each column (across rows)\n",
    "min3 = torch.min(M,axis=1) # minimum of each row (across columns)\n",
    "\n",
    "# print them out\n",
    "print(M), print(' ')\n",
    "print(min1), print(' ')\n",
    "print(min2), print(' ')\n",
    "print(min1.values)\n",
    "print(min1.indices), print(' ')\n",
    "print(min2.values)\n",
    "print(min2.indices), print(' ')\n",
    "print(min3.values)\n",
    "print(min3.indices), print(' ')"
   ]
  },
  {
   "cell_type": "code",
   "execution_count": 31,
   "metadata": {
    "id": "A5iVm1IWeP3_"
   },
   "outputs": [
    {
     "data": {
      "text/plain": [
       "<function min.count(value, /)>"
      ]
     },
     "execution_count": 31,
     "metadata": {},
     "output_type": "execute_result"
    }
   ],
   "source": [
    "min2.count"
   ]
  }
 ],
 "metadata": {
  "colab": {
   "authorship_tag": "ABX9TyOAnDMLXriVbV0NCcYRd0xe",
   "collapsed_sections": [],
   "name": "DUDL_math_argmin.ipynb",
   "provenance": []
  },
  "kernelspec": {
   "display_name": ".venv",
   "language": "python",
   "name": "python3"
  },
  "language_info": {
   "codemirror_mode": {
    "name": "ipython",
    "version": 3
   },
   "file_extension": ".py",
   "mimetype": "text/x-python",
   "name": "python",
   "nbconvert_exporter": "python",
   "pygments_lexer": "ipython3",
   "version": "3.10.6"
  }
 },
 "nbformat": 4,
 "nbformat_minor": 0
}
