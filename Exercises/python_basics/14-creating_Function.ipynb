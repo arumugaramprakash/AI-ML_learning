{
 "cells": [
  {
   "cell_type": "code",
   "execution_count": 10,
   "id": "739b08ef",
   "metadata": {},
   "outputs": [
    {
     "name": "stdout",
     "output_type": "stream",
     "text": [
      "Hi\n"
     ]
    }
   ],
   "source": [
    "def awesomeFunction():\n",
    "    print(1+1)\n",
    "\n",
    "print(\"Hi\")"
   ]
  },
  {
   "cell_type": "code",
   "execution_count": 7,
   "id": "711a53d2",
   "metadata": {},
   "outputs": [
    {
     "data": {
      "text/plain": [
       "<function __main__.awesomeFunction()>"
      ]
     },
     "execution_count": 7,
     "metadata": {},
     "output_type": "execute_result"
    }
   ],
   "source": [
    "awesomeFunction"
   ]
  },
  {
   "cell_type": "code",
   "execution_count": 8,
   "id": "423be1c9",
   "metadata": {},
   "outputs": [
    {
     "name": "stdout",
     "output_type": "stream",
     "text": [
      "2\n"
     ]
    }
   ],
   "source": [
    "awesomeFunction()"
   ]
  },
  {
   "cell_type": "code",
   "execution_count": 11,
   "id": "1551e9e5",
   "metadata": {},
   "outputs": [],
   "source": [
    "def SuperAwesomeFunction(input1,input2):\n",
    "    print(input1 + input2)"
   ]
  },
  {
   "cell_type": "code",
   "execution_count": 12,
   "id": "dfc4c5c0",
   "metadata": {},
   "outputs": [
    {
     "data": {
      "text/plain": [
       "<function __main__.SuperAwesomeFunction(input1, input2)>"
      ]
     },
     "execution_count": 12,
     "metadata": {},
     "output_type": "execute_result"
    }
   ],
   "source": [
    "SuperAwesomeFunction"
   ]
  },
  {
   "cell_type": "code",
   "execution_count": 13,
   "id": "98ce2b39",
   "metadata": {},
   "outputs": [
    {
     "ename": "TypeError",
     "evalue": "SuperAwesomeFunction() missing 2 required positional arguments: 'input1' and 'input2'",
     "output_type": "error",
     "traceback": [
      "\u001b[1;31m---------------------------------------------------------------------------\u001b[0m",
      "\u001b[1;31mTypeError\u001b[0m                                 Traceback (most recent call last)",
      "Cell \u001b[1;32mIn[13], line 1\u001b[0m\n\u001b[1;32m----> 1\u001b[0m \u001b[43mSuperAwesomeFunction\u001b[49m\u001b[43m(\u001b[49m\u001b[43m)\u001b[49m\n",
      "\u001b[1;31mTypeError\u001b[0m: SuperAwesomeFunction() missing 2 required positional arguments: 'input1' and 'input2'"
     ]
    }
   ],
   "source": [
    "SuperAwesomeFunction()"
   ]
  },
  {
   "cell_type": "code",
   "execution_count": 14,
   "id": "9df40d1c",
   "metadata": {},
   "outputs": [
    {
     "name": "stdout",
     "output_type": "stream",
     "text": [
      "11\n"
     ]
    }
   ],
   "source": [
    "SuperAwesomeFunction(5,6)"
   ]
  },
  {
   "cell_type": "code",
   "execution_count": 21,
   "id": "25d1a5bf",
   "metadata": {},
   "outputs": [],
   "source": [
    "def SuperAwesomeFunction(input1,input2):\n",
    "    sum =  input1 + input2\n",
    "    prod = input1 * input2\n",
    "    return sum,prod # returnes a tuple of values\n",
    "\n",
    "\n"
   ]
  },
  {
   "cell_type": "code",
   "execution_count": 22,
   "id": "d01484d6",
   "metadata": {},
   "outputs": [
    {
     "data": {
      "text/plain": [
       "(3, -70)"
      ]
     },
     "execution_count": 22,
     "metadata": {},
     "output_type": "execute_result"
    }
   ],
   "source": [
    "SuperAwesomeFunction(10,-7)"
   ]
  },
  {
   "cell_type": "code",
   "execution_count": 23,
   "id": "be763ca6",
   "metadata": {},
   "outputs": [
    {
     "name": "stdout",
     "output_type": "stream",
     "text": [
      "3\n",
      "-70\n"
     ]
    }
   ],
   "source": [
    "out1,out2 = SuperAwesomeFunction(10,-7)\n",
    "print(out1)\n",
    "print(out2)\n"
   ]
  },
  {
   "cell_type": "code",
   "execution_count": 24,
   "id": "9f690a58",
   "metadata": {},
   "outputs": [
    {
     "name": "stdout",
     "output_type": "stream",
     "text": [
      "3\n",
      "-70\n"
     ]
    }
   ],
   "source": [
    "out = SuperAwesomeFunction(10,-7)\n",
    "print(out[0])\n",
    "print(out[1])"
   ]
  },
  {
   "cell_type": "code",
   "execution_count": 27,
   "id": "46241072",
   "metadata": {},
   "outputs": [],
   "source": [
    "# lambda function\n",
    "funname = lambda x: x**2 - 1\n"
   ]
  },
  {
   "cell_type": "code",
   "execution_count": 28,
   "id": "7adb8c85",
   "metadata": {},
   "outputs": [
    {
     "data": {
      "text/plain": [
       "8"
      ]
     },
     "execution_count": 28,
     "metadata": {},
     "output_type": "execute_result"
    }
   ],
   "source": [
    "funname(3)"
   ]
  },
  {
   "cell_type": "code",
   "execution_count": 38,
   "id": "96caa525",
   "metadata": {},
   "outputs": [],
   "source": [
    "# createa a function that computes factorial.\n",
    "# 4! = 4 * 3 * 2 * 1\n",
    "# compare against math.factorial()\n",
    "\n",
    "def factorial(n):\n",
    "    if n == 0:\n",
    "        return 1\n",
    "    else:\n",
    "        fact = 1\n",
    "        for i in range(1,n+1):\n",
    "            fact *= i\n",
    "        return fact\n",
    "\n"
   ]
  },
  {
   "cell_type": "code",
   "execution_count": 48,
   "id": "bd591de2",
   "metadata": {},
   "outputs": [
    {
     "name": "stdout",
     "output_type": "stream",
     "text": [
      "1\n",
      "2\n",
      "3\n"
     ]
    }
   ],
   "source": [
    "n = 3\n",
    "for i in range(1,n+1):\n",
    "    print(i)"
   ]
  },
  {
   "cell_type": "code",
   "execution_count": 51,
   "id": "cd5e7533",
   "metadata": {},
   "outputs": [
    {
     "name": "stdout",
     "output_type": "stream",
     "text": [
      "30414093201713378043612608166064768844377641568960512000000000000\n",
      "30414093201713378043612608166064768844377641568960512000000000000\n",
      "Both are equal\n"
     ]
    }
   ],
   "source": [
    "n = 50\n",
    "print(factorial(n))\n",
    "import math\n",
    "print(math.factorial(n))\n",
    "\n",
    "if (factorial(n) == math.factorial(n)):\n",
    "    print(\"Both are equal\")\n",
    "else:\n",
    "    print(\"Both are not equal\")\n"
   ]
  },
  {
   "cell_type": "code",
   "execution_count": 62,
   "id": "775ee06f",
   "metadata": {},
   "outputs": [
    {
     "name": "stdout",
     "output_type": "stream",
     "text": [
      "[ 1  2  3  4  5  6  7  8  9 10 11 12 13 14 15 16 17 18 19 20]\n",
      "2432902008176640000\n",
      "2432902008176640000\n",
      "Both are equal\n"
     ]
    }
   ],
   "source": [
    "import numpy as np\n",
    "import math\n",
    "\n",
    "n=20\n",
    "print(np.arange(1,n+1))\n",
    "print(np.prod(np.arange(1,n+1)))\n",
    "\n",
    "factorial = lambda n: 1 if n == 0 else np.prod(np.arange(1,n+1))\n",
    "print(factorial(n))\n",
    "\n",
    "if (factorial(n) == math.factorial(n)):\n",
    "    print(\"Both are equal\")\n",
    "else:\n",
    "    print(\"Both are not equal\")\n",
    "\n"
   ]
  }
 ],
 "metadata": {
  "kernelspec": {
   "display_name": ".venv",
   "language": "python",
   "name": "python3"
  },
  "language_info": {
   "codemirror_mode": {
    "name": "ipython",
    "version": 3
   },
   "file_extension": ".py",
   "mimetype": "text/x-python",
   "name": "python",
   "nbconvert_exporter": "python",
   "pygments_lexer": "ipython3",
   "version": "3.10.6"
  }
 },
 "nbformat": 4,
 "nbformat_minor": 5
}
