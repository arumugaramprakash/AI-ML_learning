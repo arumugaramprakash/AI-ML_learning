{
 "cells": [
  {
   "cell_type": "code",
   "execution_count": 2,
   "id": "d6d3094f",
   "metadata": {},
   "outputs": [
    {
     "data": {
      "text/plain": [
       "1"
      ]
     },
     "execution_count": 2,
     "metadata": {},
     "output_type": "execute_result"
    }
   ],
   "source": [
    "# Single line loops.\n",
    "# list comprehension\n",
    "import random # its a library to generate random numbers\n",
    "random.randint(1,3) # normally upper bounds are exclusive in python but randint is inclusive of both.\n",
    "\n"
   ]
  },
  {
   "cell_type": "code",
   "execution_count": 3,
   "id": "54da8d8a",
   "metadata": {},
   "outputs": [
    {
     "name": "stdout",
     "output_type": "stream",
     "text": [
      "r is large\n"
     ]
    }
   ],
   "source": [
    "r = random.randint(1,10)\n",
    "print('r is large') if r>5 else print('r is small')"
   ]
  },
  {
   "cell_type": "code",
   "execution_count": 4,
   "id": "08a55021",
   "metadata": {},
   "outputs": [
    {
     "name": "stdout",
     "output_type": "stream",
     "text": [
      "0\n",
      "1\n",
      "4\n",
      "9\n",
      "16\n",
      "25\n",
      "36\n",
      "49\n",
      "64\n",
      "81\n"
     ]
    }
   ],
   "source": [
    "# similar to single line if-else statement we can use a single line for loop as well.\n",
    "for i in range(10):\n",
    "    print(i**2)"
   ]
  },
  {
   "cell_type": "code",
   "execution_count": 7,
   "id": "e93a3654",
   "metadata": {},
   "outputs": [
    {
     "name": "stdout",
     "output_type": "stream",
     "text": [
      "0\n",
      "1\n",
      "4\n",
      "9\n",
      "16\n",
      "25\n",
      "36\n",
      "49\n",
      "64\n",
      "81\n"
     ]
    },
    {
     "data": {
      "text/plain": [
       "[None, None, None, None, None, None, None, None, None, None]"
      ]
     },
     "execution_count": 7,
     "metadata": {},
     "output_type": "execute_result"
    }
   ],
   "source": [
    "# using list comprehension \n",
    "[print(i**2) for i in range(10)]"
   ]
  },
  {
   "cell_type": "code",
   "execution_count": 8,
   "id": "f0cca93d",
   "metadata": {},
   "outputs": [
    {
     "name": "stdout",
     "output_type": "stream",
     "text": [
      "hi\n",
      "None\n"
     ]
    }
   ],
   "source": [
    "n = print('hi')\n",
    "print(n)"
   ]
  },
  {
   "cell_type": "code",
   "execution_count": 9,
   "id": "14cf5dfc",
   "metadata": {},
   "outputs": [
    {
     "data": {
      "text/plain": [
       "[0, 1, 4, 9, 16, 25, 36, 49, 64, 81]"
      ]
     },
     "execution_count": 9,
     "metadata": {},
     "output_type": "execute_result"
    }
   ],
   "source": [
    "lst = [i**2 for i in range(10)] # list comprehension to create a list of squares.\n",
    "lst"
   ]
  },
  {
   "cell_type": "code",
   "execution_count": 11,
   "id": "9326d00c",
   "metadata": {},
   "outputs": [
    {
     "data": {
      "text/plain": [
       "[36, 49, 64, 81]"
      ]
     },
     "execution_count": 11,
     "metadata": {},
     "output_type": "execute_result"
    }
   ],
   "source": [
    "lst = [i**2 for i in range(10) if i>5]\n",
    "lst"
   ]
  },
  {
   "cell_type": "code",
   "execution_count": 82,
   "id": "3dc25792",
   "metadata": {},
   "outputs": [
    {
     "data": {
      "text/plain": [
       "[0, 2, 4, 6, 8]"
      ]
     },
     "execution_count": 82,
     "metadata": {},
     "output_type": "execute_result"
    }
   ],
   "source": [
    "[i for i in range(10) if i%2==0]"
   ]
  },
  {
   "cell_type": "code",
   "execution_count": null,
   "id": "b45b5706",
   "metadata": {},
   "outputs": [],
   "source": [
    "# Exercise: convert the following loops to single-line loops\n"
   ]
  },
  {
   "cell_type": "code",
   "execution_count": 12,
   "id": "aa0f76f1",
   "metadata": {},
   "outputs": [
    {
     "name": "stdout",
     "output_type": "stream",
     "text": [
      "p\n",
      "Y\n",
      "T\n",
      "h\n",
      "o\n",
      "N\n"
     ]
    }
   ],
   "source": [
    "text = ['promising','Yves','That','home','on','Nobb']\n",
    "for word in text:\n",
    "    print(word[0])"
   ]
  },
  {
   "cell_type": "code",
   "execution_count": 66,
   "id": "1eb1b290",
   "metadata": {},
   "outputs": [
    {
     "name": "stdout",
     "output_type": "stream",
     "text": [
      "p\n",
      "Y\n",
      "T\n",
      "h\n",
      "o\n",
      "N\n"
     ]
    },
    {
     "data": {
      "text/plain": [
       "[None, None, None, None, None, None]"
      ]
     },
     "execution_count": 66,
     "metadata": {},
     "output_type": "execute_result"
    }
   ],
   "source": [
    "[print(word[0]) for word in text]"
   ]
  },
  {
   "cell_type": "code",
   "execution_count": 65,
   "id": "15620f31",
   "metadata": {},
   "outputs": [
    {
     "name": "stdout",
     "output_type": "stream",
     "text": [
      "p\n",
      "Y\n",
      "T\n",
      "h\n",
      "o\n",
      "N\n"
     ]
    }
   ],
   "source": [
    "[print(word[0]) for word in text]; # The semicolon is used to suppress the output of print function in jupyter notebook"
   ]
  },
  {
   "cell_type": "code",
   "execution_count": 67,
   "id": "1929ac83",
   "metadata": {},
   "outputs": [
    {
     "data": {
      "text/plain": [
       "['p', 'Y', 'T', 'h', 'o', 'N']"
      ]
     },
     "execution_count": 67,
     "metadata": {},
     "output_type": "execute_result"
    }
   ],
   "source": [
    "[word[0] for word in text]"
   ]
  },
  {
   "cell_type": "code",
   "execution_count": 13,
   "id": "a6d446a7",
   "metadata": {},
   "outputs": [
    {
     "data": {
      "text/plain": [
       "[0, 'Odd', 2, 'Odd', 4, 'Odd', 6, 'Odd', 8, 'Odd']"
      ]
     },
     "execution_count": 13,
     "metadata": {},
     "output_type": "execute_result"
    }
   ],
   "source": [
    "newlist = ['']*10\n",
    "\n",
    "for i in range(10):\n",
    "    if i%2==1:\n",
    "        newlist[i] = 'Odd'\n",
    "    else:\n",
    "        newlist[i] = i\n",
    "\n",
    "newlist"
   ]
  },
  {
   "cell_type": "code",
   "execution_count": null,
   "id": "d4adb68d",
   "metadata": {},
   "outputs": [
    {
     "data": {
      "text/plain": [
       "[0, 'Odd', 2, 'Odd', 4, 'Odd', 6, 'Odd', 8, 'Odd']"
      ]
     },
     "execution_count": 68,
     "metadata": {},
     "output_type": "execute_result"
    }
   ],
   "source": [
    "['Odd' if i % 2 == 1 else i for i in range(10)]"
   ]
  },
  {
   "cell_type": "code",
   "execution_count": 14,
   "id": "45bdd46c",
   "metadata": {},
   "outputs": [
    {
     "name": "stdout",
     "output_type": "stream",
     "text": [
      "[-3.  -2.4 -1.8 -1.2 -0.6  0.   0.6  1.2  1.8  2.4  3. ]\n",
      "[9.   5.76 3.24 1.44 0.36 0.   0.36 1.44 3.24 5.76 9.  ]\n"
     ]
    }
   ],
   "source": [
    "import numpy as np\n",
    "\n",
    "# repeat without using numpy\n",
    "x1 = np.linspace(-3,3,11)\n",
    "y1 = x1**2\n",
    "print(x1)\n",
    "print(y1)"
   ]
  },
  {
   "cell_type": "code",
   "execution_count": 39,
   "id": "8c013543",
   "metadata": {},
   "outputs": [
    {
     "name": "stdout",
     "output_type": "stream",
     "text": [
      "0.6\n"
     ]
    },
    {
     "data": {
      "text/plain": [
       "[-3.0,\n",
       " -2.4,\n",
       " -1.8,\n",
       " -1.2000000000000002,\n",
       " -0.6000000000000001,\n",
       " 0.0,\n",
       " 0.5999999999999996,\n",
       " 1.2000000000000002,\n",
       " 1.7999999999999998,\n",
       " 2.3999999999999995,\n",
       " 3.0]"
      ]
     },
     "execution_count": 39,
     "metadata": {},
     "output_type": "execute_result"
    }
   ],
   "source": [
    "a = -3\n",
    "b = 3\n",
    "c = 11\n",
    "d = (b-a)/(c-1)\n",
    "print(d)\n",
    "x = []\n",
    "for i in range (c):\n",
    "    x.append(a+d*i)\n",
    "x"
   ]
  },
  {
   "cell_type": "code",
   "execution_count": 42,
   "id": "5ae40f66",
   "metadata": {},
   "outputs": [
    {
     "data": {
      "text/plain": [
       "[-3.0,\n",
       " -2.4,\n",
       " -1.8,\n",
       " -1.2000000000000002,\n",
       " -0.6000000000000001,\n",
       " 0.0,\n",
       " 0.5999999999999996,\n",
       " 1.2000000000000002,\n",
       " 1.7999999999999998,\n",
       " 2.3999999999999995,\n",
       " 3.0]"
      ]
     },
     "execution_count": 42,
     "metadata": {},
     "output_type": "execute_result"
    }
   ],
   "source": [
    "x1 = [a+((b-a)/(c-1))*i for i in range(c)]\n",
    "x1"
   ]
  },
  {
   "cell_type": "code",
   "execution_count": null,
   "id": "41baa2c7",
   "metadata": {},
   "outputs": [
    {
     "data": {
      "text/plain": [
       "[-3.0,\n",
       " -2.4,\n",
       " -1.8,\n",
       " -1.2000000000000002,\n",
       " -0.6000000000000001,\n",
       " 0.0,\n",
       " 0.5999999999999996,\n",
       " 1.2000000000000002,\n",
       " 1.7999999999999998,\n",
       " 2.3999999999999995,\n",
       " 3.0]"
      ]
     },
     "execution_count": 69,
     "metadata": {},
     "output_type": "execute_result"
    }
   ],
   "source": [
    "[a+((b-a)/(c-1))*i for i in range(c)]"
   ]
  },
  {
   "cell_type": "code",
   "execution_count": 60,
   "id": "b602eefc",
   "metadata": {},
   "outputs": [
    {
     "data": {
      "text/plain": [
       "[9.0,\n",
       " 5.76,\n",
       " 3.24,\n",
       " 1.4400000000000004,\n",
       " 0.3600000000000001,\n",
       " 0.0,\n",
       " 0.3599999999999996,\n",
       " 1.4400000000000004,\n",
       " 3.2399999999999993,\n",
       " 5.759999999999997,\n",
       " 9.0]"
      ]
     },
     "execution_count": 60,
     "metadata": {},
     "output_type": "execute_result"
    }
   ],
   "source": [
    "y1=[]\n",
    "for i in range(len(x1)):\n",
    "    y1.append(x1[i]**2)\n",
    "y1"
   ]
  },
  {
   "cell_type": "code",
   "execution_count": 62,
   "id": "58ab8fb1",
   "metadata": {},
   "outputs": [
    {
     "data": {
      "text/plain": [
       "[9.0,\n",
       " 5.76,\n",
       " 3.24,\n",
       " 1.4400000000000004,\n",
       " 0.3600000000000001,\n",
       " 0.0,\n",
       " 0.3599999999999996,\n",
       " 1.4400000000000004,\n",
       " 3.2399999999999993,\n",
       " 5.759999999999997,\n",
       " 9.0]"
      ]
     },
     "execution_count": 62,
     "metadata": {},
     "output_type": "execute_result"
    }
   ],
   "source": [
    "y1 = [x1[i]**2 for i in range(len(x1))]\n",
    "y1"
   ]
  },
  {
   "cell_type": "code",
   "execution_count": 70,
   "id": "6d47120f",
   "metadata": {},
   "outputs": [
    {
     "data": {
      "text/plain": [
       "[9.0,\n",
       " 5.76,\n",
       " 3.24,\n",
       " 1.4400000000000004,\n",
       " 0.3600000000000001,\n",
       " 0.0,\n",
       " 0.3599999999999996,\n",
       " 1.4400000000000004,\n",
       " 3.2399999999999993,\n",
       " 5.759999999999997,\n",
       " 9.0]"
      ]
     },
     "execution_count": 70,
     "metadata": {},
     "output_type": "execute_result"
    }
   ],
   "source": [
    "[x1[i]**2 for i in range(len(x1))]"
   ]
  }
 ],
 "metadata": {
  "kernelspec": {
   "display_name": ".venv",
   "language": "python",
   "name": "python3"
  },
  "language_info": {
   "codemirror_mode": {
    "name": "ipython",
    "version": 3
   },
   "file_extension": ".py",
   "mimetype": "text/x-python",
   "name": "python",
   "nbconvert_exporter": "python",
   "pygments_lexer": "ipython3",
   "version": "3.10.6"
  }
 },
 "nbformat": 4,
 "nbformat_minor": 5
}
