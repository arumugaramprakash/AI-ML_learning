{
 "cells": [
  {
   "cell_type": "code",
   "execution_count": 15,
   "metadata": {},
   "outputs": [
    {
     "name": "stdout",
     "output_type": "stream",
     "text": [
      "(3, 'asdf', 4.3)\n",
      "<class 'tuple'>\n",
      "(1, 'lkjh', 1.5)\n",
      "<class 'tuple'>\n",
      "[1, 'lkjh', 1.5]\n",
      "<class 'list'>\n",
      "(1, 'lkjh', 1.5, 1, 'lkjh', 1.5, 1, 'lkjh', 1.5)\n",
      "[1, 'lkjh', 1.5, 1, 'lkjh', 1.5, 1, 'lkjh', 1.5]\n"
     ]
    }
   ],
   "source": [
    "#tuples\n",
    "atuple = (3, 'asdf', 4.3)\n",
    "print(atuple)\n",
    "print(type(atuple))\n",
    "\n",
    "atuple = 1, 'lkjh', 1.5\n",
    "alist = [1, 'lkjh', 1.5]\n",
    "print(atuple)\n",
    "print(type(atuple))\n",
    "print(alist)\n",
    "print(type(alist))\n",
    "\n",
    "print(atuple*3)\n",
    "print(alist*3)"
   ]
  },
  {
   "cell_type": "code",
   "execution_count": 17,
   "metadata": {},
   "outputs": [
    {
     "name": "stdout",
     "output_type": "stream",
     "text": [
      "[13.3, 'lkjh', 1.5]\n",
      "[13.3, 'lkjh', 1.5]\n"
     ]
    }
   ],
   "source": [
    "# list is mutable\n",
    "# tple is immutable\n",
    "print(alist)\n",
    "alist[0] = 13.3\n",
    "print(alist)"
   ]
  },
  {
   "cell_type": "code",
   "execution_count": 18,
   "metadata": {},
   "outputs": [
    {
     "name": "stdout",
     "output_type": "stream",
     "text": [
      "(1, 'lkjh', 1.5)\n"
     ]
    },
    {
     "ename": "TypeError",
     "evalue": "'tuple' object does not support item assignment",
     "output_type": "error",
     "traceback": [
      "\u001b[1;31m---------------------------------------------------------------------------\u001b[0m",
      "\u001b[1;31mTypeError\u001b[0m                                 Traceback (most recent call last)",
      "Cell \u001b[1;32mIn[18], line 4\u001b[0m\n\u001b[0;32m      1\u001b[0m \u001b[38;5;66;03m# list is mutable\u001b[39;00m\n\u001b[0;32m      2\u001b[0m \u001b[38;5;66;03m# tple is immutable\u001b[39;00m\n\u001b[0;32m      3\u001b[0m \u001b[38;5;28mprint\u001b[39m(atuple)\n\u001b[1;32m----> 4\u001b[0m \u001b[43matuple\u001b[49m\u001b[43m[\u001b[49m\u001b[38;5;241;43m0\u001b[39;49m\u001b[43m]\u001b[49m \u001b[38;5;241m=\u001b[39m \u001b[38;5;241m13.3\u001b[39m\n\u001b[0;32m      5\u001b[0m \u001b[38;5;28mprint\u001b[39m(atuple)\n",
      "\u001b[1;31mTypeError\u001b[0m: 'tuple' object does not support item assignment"
     ]
    }
   ],
   "source": [
    "# list is mutable\n",
    "# tple is immutable\n",
    "print(atuple)\n",
    "atuple[0] = 13.3\n",
    "print(atuple)"
   ]
  }
 ],
 "metadata": {
  "kernelspec": {
   "display_name": ".venv",
   "language": "python",
   "name": "python3"
  },
  "language_info": {
   "codemirror_mode": {
    "name": "ipython",
    "version": 3
   },
   "file_extension": ".py",
   "mimetype": "text/x-python",
   "name": "python",
   "nbconvert_exporter": "python",
   "pygments_lexer": "ipython3",
   "version": "3.10.6"
  }
 },
 "nbformat": 4,
 "nbformat_minor": 2
}
