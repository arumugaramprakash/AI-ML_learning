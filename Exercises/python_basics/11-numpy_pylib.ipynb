{
 "cells": [
  {
   "cell_type": "code",
   "execution_count": 1,
   "id": "4a37bbf7",
   "metadata": {},
   "outputs": [
    {
     "data": {
      "text/plain": [
       "np.float64(3.0)"
      ]
     },
     "execution_count": 1,
     "metadata": {},
     "output_type": "execute_result"
    }
   ],
   "source": [
    "# Libraries are collection of functions and classes\n",
    "import numpy as np\n",
    "\n",
    "numbers = [1,2,3,4,5]\n",
    "\n",
    "np.mean(numbers)"
   ]
  },
  {
   "cell_type": "code",
   "execution_count": 2,
   "id": "ce453b5a",
   "metadata": {},
   "outputs": [
    {
     "data": {
      "text/plain": [
       "[1, 2, 3, 4, 5]"
      ]
     },
     "execution_count": 2,
     "metadata": {},
     "output_type": "execute_result"
    }
   ],
   "source": [
    "numbers"
   ]
  },
  {
   "cell_type": "code",
   "execution_count": 3,
   "id": "b9df6017",
   "metadata": {},
   "outputs": [
    {
     "data": {
      "text/plain": [
       "array([1. , 2.5, 4. , 5.5, 7. ])"
      ]
     },
     "execution_count": 3,
     "metadata": {},
     "output_type": "execute_result"
    }
   ],
   "source": [
    "x = np.linspace(1,7,5)\n",
    "x"
   ]
  },
  {
   "cell_type": "code",
   "execution_count": 4,
   "id": "1c8b2562",
   "metadata": {},
   "outputs": [
    {
     "name": "stdout",
     "output_type": "stream",
     "text": [
      "<class 'list'>\n",
      "<class 'numpy.ndarray'>\n"
     ]
    }
   ],
   "source": [
    "print(type(numbers))\n",
    "print(type(x)) # a new data type called \"numpy n nimensional array\""
   ]
  },
  {
   "cell_type": "code",
   "execution_count": 5,
   "id": "4214b19c",
   "metadata": {},
   "outputs": [
    {
     "data": {
      "text/plain": [
       "[np.float64(1.0),\n",
       " np.float64(2.5),\n",
       " np.float64(4.0),\n",
       " np.float64(5.5),\n",
       " np.float64(7.0)]"
      ]
     },
     "execution_count": 5,
     "metadata": {},
     "output_type": "execute_result"
    }
   ],
   "source": [
    "list(x)"
   ]
  },
  {
   "cell_type": "code",
   "execution_count": 6,
   "id": "332a1e9a",
   "metadata": {},
   "outputs": [
    {
     "data": {
      "text/plain": [
       "array([1, 2, 3, 4, 5])"
      ]
     },
     "execution_count": 6,
     "metadata": {},
     "output_type": "execute_result"
    }
   ],
   "source": [
    "number_np = np.array(numbers)\n",
    "number_np"
   ]
  },
  {
   "cell_type": "code",
   "execution_count": 7,
   "id": "0e3dbaa9",
   "metadata": {},
   "outputs": [
    {
     "data": {
      "text/plain": [
       "[np.int64(1), np.int64(2), np.int64(3), np.int64(4), np.int64(5)]"
      ]
     },
     "execution_count": 7,
     "metadata": {},
     "output_type": "execute_result"
    }
   ],
   "source": [
    "list(number_np)"
   ]
  },
  {
   "cell_type": "code",
   "execution_count": 8,
   "id": "30788531",
   "metadata": {},
   "outputs": [
    {
     "data": {
      "text/plain": [
       "np.float64(3.0)"
      ]
     },
     "execution_count": 8,
     "metadata": {},
     "output_type": "execute_result"
    }
   ],
   "source": [
    "number_np.mean()"
   ]
  },
  {
   "cell_type": "code",
   "execution_count": 9,
   "id": "fece693d",
   "metadata": {},
   "outputs": [
    {
     "data": {
      "text/plain": [
       "np.int64(1)"
      ]
     },
     "execution_count": 9,
     "metadata": {},
     "output_type": "execute_result"
    }
   ],
   "source": [
    "number_np.min()"
   ]
  },
  {
   "cell_type": "code",
   "execution_count": 10,
   "id": "cce00d18",
   "metadata": {},
   "outputs": [
    {
     "data": {
      "text/plain": [
       "np.int64(5)"
      ]
     },
     "execution_count": 10,
     "metadata": {},
     "output_type": "execute_result"
    }
   ],
   "source": [
    "number_np.max()"
   ]
  },
  {
   "cell_type": "code",
   "execution_count": 11,
   "id": "869b9185",
   "metadata": {},
   "outputs": [
    {
     "data": {
      "text/plain": [
       "np.int64(5)"
      ]
     },
     "execution_count": 11,
     "metadata": {},
     "output_type": "execute_result"
    }
   ],
   "source": [
    "np.max(number_np)"
   ]
  },
  {
   "cell_type": "code",
   "execution_count": 12,
   "id": "915ae645",
   "metadata": {},
   "outputs": [
    {
     "data": {
      "text/plain": [
       "np.int64(5)"
      ]
     },
     "execution_count": 12,
     "metadata": {},
     "output_type": "execute_result"
    }
   ],
   "source": [
    "np.max(numbers)"
   ]
  },
  {
   "cell_type": "code",
   "execution_count": 13,
   "id": "f1669021",
   "metadata": {},
   "outputs": [
    {
     "data": {
      "text/plain": [
       "np.float64(3.0)"
      ]
     },
     "execution_count": 13,
     "metadata": {},
     "output_type": "execute_result"
    }
   ],
   "source": [
    "from numpy import mean as m\n",
    "numbers = [1,2,3,4,5]\n",
    "m(numbers)\n",
    "\n"
   ]
  },
  {
   "cell_type": "code",
   "execution_count": 14,
   "id": "3a12dd23",
   "metadata": {},
   "outputs": [
    {
     "name": "stdout",
     "output_type": "stream",
     "text": [
      "[4, 3, 5, 2, 6, 1, 7]\n",
      "[1, 2, 3, 4, 5, 6, 7]\n",
      "[4 3 5 2 6 1 7]\n",
      "[1 2 3 4 5 6 7]\n"
     ]
    }
   ],
   "source": [
    "# in-place operations\n",
    "# out-of-place operations / not in-place operations\n",
    "\n",
    "n = [4,3,5,2,6,1,7]\n",
    "nn = np.array(n)\n",
    "\n",
    "print(n)\n",
    "n.sort() # In-Place Operations: These are operations that modify the original array directly without creating a new array for the result.\n",
    "print(n)\n",
    "\n",
    "print(nn)\n",
    "nn.sort()\n",
    "print(nn)"
   ]
  },
  {
   "cell_type": "code",
   "execution_count": 15,
   "id": "83e0c30f",
   "metadata": {},
   "outputs": [
    {
     "name": "stdout",
     "output_type": "stream",
     "text": [
      "[4 3 5 2 6 1 7]\n",
      "[4 3 5 2 6 1 7]\n",
      "[1 2 3 4 5 6 7]\n"
     ]
    }
   ],
   "source": [
    "n = [4,3,5,2,6,1,7]\n",
    "nn = np.array(n)\n",
    "\n",
    "print(nn)\n",
    "nns = np.sort(nn) # Out-of-Place Operations: These operations create a new array as the result of the operation, \n",
    "#                                            leaving the original array unchanged.\n",
    "print(nn) # out-of-place operation\n",
    "print(nns)"
   ]
  },
  {
   "cell_type": "code",
   "execution_count": 17,
   "id": "2db287e7",
   "metadata": {},
   "outputs": [
    {
     "name": "stdout",
     "output_type": "stream",
     "text": [
      "Original array: [1 2 3]\n",
      "After in-place addition: [11 12 13]\n",
      "New array after out-of-place addition: [16 17 18]\n",
      "Original array remains unchanged: [11 12 13]\n"
     ]
    }
   ],
   "source": [
    "\n",
    "# Create an array\n",
    "arr = np.array([1, 2, 3])\n",
    "print(\"Original array:\", arr)\n",
    "\n",
    "# In-place operation (modifies the original array)\n",
    "arr += 10\n",
    "print(\"After in-place addition:\", arr)\n",
    "\n",
    "# Out-of-place operation (returns a new array)\n",
    "new_arr = arr + 5\n",
    "print(\"New array after out-of-place addition:\", new_arr)\n",
    "print(\"Original array remains unchanged:\", arr)"
   ]
  },
  {
   "cell_type": "code",
   "execution_count": 20,
   "id": "c7a82170",
   "metadata": {},
   "outputs": [
    {
     "data": {
      "text/plain": [
       "<module 'numpy' from 'c:\\\\Users\\\\arumu\\\\github\\\\AI-ML_learning\\\\.venv\\\\lib\\\\site-packages\\\\numpy\\\\__init__.py'>"
      ]
     },
     "execution_count": 20,
     "metadata": {},
     "output_type": "execute_result"
    }
   ],
   "source": [
    "np"
   ]
  },
  {
   "cell_type": "code",
   "execution_count": null,
   "id": "17bd2f20",
   "metadata": {},
   "outputs": [
    {
     "name": "stdout",
     "output_type": "stream",
     "text": [
      "[1 2 3 4 5]\n"
     ]
    }
   ],
   "source": [
    "type(np)\n"
   ]
  }
 ],
 "metadata": {
  "kernelspec": {
   "display_name": ".venv",
   "language": "python",
   "name": "python3"
  },
  "language_info": {
   "codemirror_mode": {
    "name": "ipython",
    "version": 3
   },
   "file_extension": ".py",
   "mimetype": "text/x-python",
   "name": "python",
   "nbconvert_exporter": "python",
   "pygments_lexer": "ipython3",
   "version": "3.10.6"
  }
 },
 "nbformat": 4,
 "nbformat_minor": 5
}
