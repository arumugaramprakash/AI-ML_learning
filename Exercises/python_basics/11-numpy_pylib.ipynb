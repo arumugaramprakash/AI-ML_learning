{
 "cells": [
  {
   "cell_type": "code",
   "execution_count": null,
   "id": "4a37bbf7",
   "metadata": {},
   "outputs": [],
   "source": [
    "# Libraries are collection of functions and classes\n",
    "import numpy as np\n",
    "\n",
    "numbers = [1,2,3,4,5]\n",
    "\n",
    "np.mean(numbers)"
   ]
  },
  {
   "cell_type": "code",
   "execution_count": null,
   "id": "ce453b5a",
   "metadata": {},
   "outputs": [],
   "source": [
    "numbers"
   ]
  },
  {
   "cell_type": "code",
   "execution_count": null,
   "id": "b9df6017",
   "metadata": {},
   "outputs": [],
   "source": [
    "x = np.linspace(1,7,5)\n",
    "x"
   ]
  },
  {
   "cell_type": "code",
   "execution_count": null,
   "id": "1c8b2562",
   "metadata": {},
   "outputs": [],
   "source": [
    "print(type(numbers))\n",
    "print(type(x)) # a new data type called \"numpy n nimensional array\""
   ]
  },
  {
   "cell_type": "code",
   "execution_count": null,
   "id": "4214b19c",
   "metadata": {},
   "outputs": [],
   "source": [
    "list(x)"
   ]
  },
  {
   "cell_type": "code",
   "execution_count": null,
   "id": "332a1e9a",
   "metadata": {},
   "outputs": [],
   "source": [
    "number_np = np.array(numbers)\n",
    "number_np"
   ]
  },
  {
   "cell_type": "code",
   "execution_count": null,
   "id": "0e3dbaa9",
   "metadata": {},
   "outputs": [],
   "source": [
    "list(number_np)"
   ]
  },
  {
   "cell_type": "code",
   "execution_count": null,
   "id": "30788531",
   "metadata": {},
   "outputs": [],
   "source": [
    "number_np.mean()"
   ]
  },
  {
   "cell_type": "code",
   "execution_count": null,
   "id": "fece693d",
   "metadata": {},
   "outputs": [],
   "source": [
    "number_np.min()"
   ]
  },
  {
   "cell_type": "code",
   "execution_count": null,
   "id": "cce00d18",
   "metadata": {},
   "outputs": [],
   "source": [
    "number_np.max()"
   ]
  },
  {
   "cell_type": "code",
   "execution_count": null,
   "id": "869b9185",
   "metadata": {},
   "outputs": [],
   "source": [
    "np.max(number_np)"
   ]
  },
  {
   "cell_type": "code",
   "execution_count": null,
   "id": "915ae645",
   "metadata": {},
   "outputs": [],
   "source": [
    "np.max(numbers)"
   ]
  },
  {
   "cell_type": "code",
   "execution_count": 14,
   "id": "f1669021",
   "metadata": {},
   "outputs": [
    {
     "data": {
      "text/plain": [
       "np.float64(3.0)"
      ]
     },
     "execution_count": 14,
     "metadata": {},
     "output_type": "execute_result"
    }
   ],
   "source": [
    "from numpy import mean as m\n",
    "numbers = [1,2,3,4,5]\n",
    "m(numbers)\n",
    "\n"
   ]
  },
  {
   "cell_type": "code",
   "execution_count": null,
   "id": "3a12dd23",
   "metadata": {},
   "outputs": [
    {
     "name": "stdout",
     "output_type": "stream",
     "text": [
      "[4, 3, 5, 2, 6, 1, 7]\n",
      "[1, 2, 3, 4, 5, 6, 7]\n",
      "[4 3 5 2 6 1 7]\n",
      "[1 2 3 4 5 6 7]\n"
     ]
    }
   ],
   "source": [
    "# in-place operations\n",
    "# out-of-place operations / not in-place operations\n",
    "\n",
    "n = [4,3,5,2,6,1,7]\n",
    "nn = np.array(n)\n",
    "\n",
    "print(n)\n",
    "n.sort() # In-Place Operations: These are operations that modify the original array directly without creating a new array for the result.\n",
    "print(n)\n",
    "\n",
    "print(nn)\n",
    "nn.sort()\n",
    "print(nn)"
   ]
  },
  {
   "cell_type": "code",
   "execution_count": 24,
   "id": "83e0c30f",
   "metadata": {},
   "outputs": [
    {
     "name": "stdout",
     "output_type": "stream",
     "text": [
      "[4 3 5 2 6 1 7]\n",
      "[4 3 5 2 6 1 7]\n",
      "[1 2 3 4 5 6 7]\n"
     ]
    }
   ],
   "source": [
    "n = [4,3,5,2,6,1,7]\n",
    "nn = np.array(n)\n",
    "\n",
    "print(nn)\n",
    "nns = np.sort(nn) # Out-of-Place Operations: These operations create a new array as the result of the operation, \n",
    "#                                            leaving the original array unchanged.\n",
    "print(nn) # out-of-place operation\n",
    "print(nns)"
   ]
  },
  {
   "cell_type": "code",
   "execution_count": 25,
   "id": "2db287e7",
   "metadata": {},
   "outputs": [
    {
     "name": "stdout",
     "output_type": "stream",
     "text": [
      "Original array: [1 2 3]\n",
      "After in-place addition: [11 12 13]\n",
      "New array after out-of-place addition: [16 17 18]\n",
      "Original array remains unchanged: [11 12 13]\n"
     ]
    }
   ],
   "source": [
    "\n",
    "# Create an array\n",
    "arr = np.array([1, 2, 3])\n",
    "print(\"Original array:\", arr)\n",
    "\n",
    "# In-place operation (modifies the original array)\n",
    "arr += 10\n",
    "print(\"After in-place addition:\", arr)\n",
    "\n",
    "# Out-of-place operation (returns a new array)\n",
    "new_arr = arr + 5\n",
    "print(\"New array after out-of-place addition:\", new_arr)\n",
    "print(\"Original array remains unchanged:\", arr)"
   ]
  }
 ],
 "metadata": {
  "kernelspec": {
   "display_name": ".venv",
   "language": "python",
   "name": "python3"
  },
  "language_info": {
   "codemirror_mode": {
    "name": "ipython",
    "version": 3
   },
   "file_extension": ".py",
   "mimetype": "text/x-python",
   "name": "python",
   "nbconvert_exporter": "python",
   "pygments_lexer": "ipython3",
   "version": "3.10.6"
  }
 },
 "nbformat": 4,
 "nbformat_minor": 5
}
