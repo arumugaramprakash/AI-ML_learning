{
 "cells": [
  {
   "cell_type": "code",
   "execution_count": 1,
   "id": "5a4cfbac",
   "metadata": {},
   "outputs": [],
   "source": [
    "# as best practice add all necessary libraries at the beginning of your notebook\n",
    "import numpy as np\n",
    "import pandas as pd"
   ]
  },
  {
   "cell_type": "code",
   "execution_count": 2,
   "id": "9cf7e310",
   "metadata": {},
   "outputs": [
    {
     "name": "stdout",
     "output_type": "stream",
     "text": [
      "This is True!\n"
     ]
    }
   ],
   "source": [
    "# if statement:\n",
    "\n",
    "# if <condition>:\n",
    "#   code to be executed if the condition is true\n",
    "# else:\n",
    "#   code to be executed if the condition is flase\n",
    "if True:\n",
    "    print(\"This is True!\")\n"
   ]
  },
  {
   "cell_type": "code",
   "execution_count": 3,
   "id": "b33b30f4",
   "metadata": {},
   "outputs": [],
   "source": [
    "if False:\n",
    "    print(\"This is False!\") # this will not be printed because the condition is false"
   ]
  },
  {
   "cell_type": "code",
   "execution_count": 4,
   "id": "4b9f4242",
   "metadata": {},
   "outputs": [
    {
     "name": "stdout",
     "output_type": "stream",
     "text": [
      "This is True!\n",
      "This is outside of the if statement\n"
     ]
    }
   ],
   "source": [
    "if True:\n",
    "    print(\"This is True!\")\n",
    "print(\"This is outside of the if statement\")"
   ]
  },
  {
   "cell_type": "code",
   "execution_count": 5,
   "id": "72644119",
   "metadata": {},
   "outputs": [
    {
     "name": "stdout",
     "output_type": "stream",
     "text": [
      "This is outside of the if statement\n"
     ]
    }
   ],
   "source": [
    "if False:\n",
    "    print(\"This is False!\")\n",
    "print(\"This is outside of the if statement\") # irrespective of the condition, this will always be printed as it is not inside an if statement"
   ]
  },
  {
   "cell_type": "code",
   "execution_count": 6,
   "id": "c4238249",
   "metadata": {},
   "outputs": [
    {
     "name": "stdout",
     "output_type": "stream",
     "text": [
      "This is 4\n"
     ]
    }
   ],
   "source": [
    "if 4: # python typecasts 4 to True and prints it\n",
    "    print(\"This is 4\")"
   ]
  },
  {
   "cell_type": "code",
   "execution_count": 7,
   "id": "afb72539",
   "metadata": {},
   "outputs": [],
   "source": [
    "if 0: # python typecasts 0 to False and does not print it\n",
    "    print(\"This is 0\")"
   ]
  },
  {
   "cell_type": "code",
   "execution_count": 8,
   "id": "f298720c",
   "metadata": {},
   "outputs": [
    {
     "name": "stdout",
     "output_type": "stream",
     "text": [
      "This is Hi!\n"
     ]
    }
   ],
   "source": [
    "if \"Hi\": # python typecasts \"Hi\" to True and prints\n",
    "    print(\"This is Hi!\")"
   ]
  },
  {
   "cell_type": "code",
   "execution_count": 9,
   "id": "3f17971d",
   "metadata": {},
   "outputs": [],
   "source": [
    "if \"\": # python typecasts \"\" to False and does not print\n",
    "    print(\"This is empty string\")"
   ]
  },
  {
   "cell_type": "code",
   "execution_count": 26,
   "id": "6ba7aebc",
   "metadata": {},
   "outputs": [
    {
     "name": "stdout",
     "output_type": "stream",
     "text": [
      "-0.8198954119089755  is negative\n"
     ]
    }
   ],
   "source": [
    "r = np.random.randn()\n",
    "if r>0:\n",
    "    print(r,\" is positive\")\n",
    "else: \n",
    "    print(r,\" is negative\")\n",
    "\n"
   ]
  },
  {
   "cell_type": "code",
   "execution_count": 28,
   "id": "5464cc8e",
   "metadata": {},
   "outputs": [
    {
     "name": "stdout",
     "output_type": "stream",
     "text": [
      "-1.5157512935106359  is negative\n"
     ]
    }
   ],
   "source": [
    "r = np.random.randn()\n",
    "if r>0:\n",
    "    outcome = 'positive'\n",
    "else:\n",
    "    outcome = 'negative'\n",
    "print(r, \" is \" + outcome)"
   ]
  },
  {
   "cell_type": "code",
   "execution_count": 45,
   "id": "b48b24bc",
   "metadata": {},
   "outputs": [
    {
     "name": "stdout",
     "output_type": "stream",
     "text": [
      "yum yum yum\n"
     ]
    }
   ],
   "source": [
    "caketype = \"fruitcake\"\n",
    "\n",
    "\n",
    "if caketype == \"carrot\":\n",
    "    print(\"total yum\")\n",
    "elif caketype == \"chocolate\":\n",
    "    print(\"yummy as well\")\n",
    "elif caketype == \"fruitcake\":\n",
    "    print(\"yum yum yum\")\n",
    "else:\n",
    "    print(\"ok I'll try it\")"
   ]
  },
  {
   "cell_type": "code",
   "execution_count": 49,
   "id": "3f787598",
   "metadata": {},
   "outputs": [
    {
     "name": "stdout",
     "output_type": "stream",
     "text": [
      "probably carrot cake. \n"
     ]
    }
   ],
   "source": [
    "caketype = \"carrot\"\n",
    "\n",
    "if caketype[0]=='c': print(\"probably carrot cake. \")"
   ]
  },
  {
   "cell_type": "code",
   "execution_count": 50,
   "id": "452b58b3",
   "metadata": {},
   "outputs": [
    {
     "name": "stdout",
     "output_type": "stream",
     "text": [
      "probably carrot cake\n"
     ]
    }
   ],
   "source": [
    "if caketype[0]=='c':\n",
    "    print('probably carrot cake')\n",
    "else:\n",
    "    print(\"I dunno\")"
   ]
  },
  {
   "cell_type": "code",
   "execution_count": 53,
   "id": "501d065e",
   "metadata": {},
   "outputs": [
    {
     "name": "stdout",
     "output_type": "stream",
     "text": [
      "probably carrot cake\n"
     ]
    }
   ],
   "source": [
    "print('probably carrot cake') if caketype[0]=='c' else print(\"I dunno\")"
   ]
  },
  {
   "cell_type": "code",
   "execution_count": 56,
   "id": "75b59d23",
   "metadata": {},
   "outputs": [
    {
     "name": "stdout",
     "output_type": "stream",
     "text": [
      "I dunno\n"
     ]
    }
   ],
   "source": [
    "caketype = \"Carrotcake\" # python is case sensitive\n",
    "print('probably carrot cake') if caketype[0]=='c' else print(\"I dunno\")"
   ]
  },
  {
   "cell_type": "code",
   "execution_count": null,
   "id": "00f0b057",
   "metadata": {},
   "outputs": [
    {
     "data": {
      "text/plain": [
       "'c'"
      ]
     },
     "execution_count": 57,
     "metadata": {},
     "output_type": "execute_result"
    }
   ],
   "source": [
    "'E'.lower()"
   ]
  },
  {
   "cell_type": "code",
   "execution_count": 59,
   "id": "c864efaa",
   "metadata": {},
   "outputs": [
    {
     "data": {
      "text/plain": [
       "'E'"
      ]
     },
     "execution_count": 59,
     "metadata": {},
     "output_type": "execute_result"
    }
   ],
   "source": [
    "\"e\".upper()"
   ]
  },
  {
   "cell_type": "code",
   "execution_count": 61,
   "id": "945001eb",
   "metadata": {},
   "outputs": [
    {
     "data": {
      "text/plain": [
       "'E'"
      ]
     },
     "execution_count": 61,
     "metadata": {},
     "output_type": "execute_result"
    }
   ],
   "source": [
    "\"E\".upper()"
   ]
  },
  {
   "cell_type": "code",
   "execution_count": 63,
   "id": "e85e9926",
   "metadata": {},
   "outputs": [
    {
     "data": {
      "text/plain": [
       "'e'"
      ]
     },
     "execution_count": 63,
     "metadata": {},
     "output_type": "execute_result"
    }
   ],
   "source": [
    "\"e\".lower()"
   ]
  },
  {
   "cell_type": "code",
   "execution_count": 66,
   "id": "ee7ea102",
   "metadata": {},
   "outputs": [
    {
     "name": "stdout",
     "output_type": "stream",
     "text": [
      "probably carrot cake\n"
     ]
    }
   ],
   "source": [
    "caketype = \"Carrotcake\" # python is case sensitive\n",
    "print('probably carrot cake') if caketype[0].lower()=='c' else print(\"I dunno\")"
   ]
  },
  {
   "cell_type": "code",
   "execution_count": 67,
   "id": "60ec7a65",
   "metadata": {},
   "outputs": [
    {
     "name": "stdout",
     "output_type": "stream",
     "text": [
      "Atleast one conditonal is false\n"
     ]
    }
   ],
   "source": [
    "# conjunctive conditionals\n",
    "if 1<3 and 4==5:\n",
    "    print(\"both conditionals are true\")\n",
    "else:\n",
    "    print(\"Atleast one conditonal is false\")"
   ]
  },
  {
   "cell_type": "code",
   "execution_count": 68,
   "id": "6057e743",
   "metadata": {},
   "outputs": [],
   "source": [
    "# exercise\n",
    "# create  a function that creates a dot product.\n",
    "# [ 1,2,3 ]\n",
    "# [ 0,4,1 ]\n",
    "# 1*0 + 2*4 + 3*1 = 0 + 8 + 3 = 11\n",
    "# create  a function that creates a dot product between two vectors\n",
    "# 1) check the both inputs are numpy arrays ( using instance ())\n",
    "# 2) check that the two inputs are the same length\n",
    "# 3a) break out of the function and give a helpful error message, raise exception()\n",
    "# 3b) compute and return the dot product.\n"
   ]
  },
  {
   "cell_type": "code",
   "execution_count": 139,
   "id": "4de1ab8e",
   "metadata": {},
   "outputs": [
    {
     "name": "stdout",
     "output_type": "stream",
     "text": [
      "Type of first input is <class 'numpy.ndarray'> and Type of second input is <class 'numpy.ndarray'>\n",
      "Length of first input is 3 and Length of second input is 3\n"
     ]
    },
    {
     "data": {
      "text/plain": [
       "np.int64(11)"
      ]
     },
     "execution_count": 139,
     "metadata": {},
     "output_type": "execute_result"
    }
   ],
   "source": [
    "import numpy as np\n",
    "\n",
    "a = np.array([ 1,2,3 ])\n",
    "b = np.array([ 0,4,1 ])\n",
    "\n",
    "def checktype(x,y):\n",
    "    print(\"Type of first input is\",type(x),\"and Type of second input is\",type(y))\n",
    "    return isinstance(x,np.ndarray) and isinstance(y,np.ndarray)\n",
    "\n",
    "def checklength(x,y):\n",
    "    print(\"Length of first input is\",len(x),\"and Length of second input is\",len(y))\n",
    "    return len(x)==len(y)\n",
    "\n",
    "def raise_exception():\n",
    "    print(\"error occured\")\n",
    "\n",
    "def dotproduct(i,j):\n",
    "    if checktype (i,j):\n",
    "        if checklength(i,j):\n",
    "            return np.dot(i,j) # return sum(i*j) also gives the same result.\n",
    "        else:\n",
    "            raise_exception()\n",
    "            print(\"Error: The two inputs must have the same length.\")\n",
    "            raise Exception()\n",
    "    else:\n",
    "        raise_exception()\n",
    "        print(\"Error: Both inputs must be numpy arrays.\")\n",
    "        raise Exception()\n",
    "\n",
    "dotproduct(a,b)\n",
    "\n"
   ]
  },
  {
   "cell_type": "code",
   "execution_count": 136,
   "id": "f7dea9a8",
   "metadata": {},
   "outputs": [
    {
     "data": {
      "text/plain": [
       "array([0, 8, 3])"
      ]
     },
     "execution_count": 136,
     "metadata": {},
     "output_type": "execute_result"
    }
   ],
   "source": [
    "a*b"
   ]
  },
  {
   "cell_type": "code",
   "execution_count": 137,
   "id": "8dc916d9",
   "metadata": {},
   "outputs": [
    {
     "data": {
      "text/plain": [
       "np.int64(11)"
      ]
     },
     "execution_count": 137,
     "metadata": {},
     "output_type": "execute_result"
    }
   ],
   "source": [
    "sum(a*b)"
   ]
  }
 ],
 "metadata": {
  "kernelspec": {
   "display_name": ".venv",
   "language": "python",
   "name": "python3"
  },
  "language_info": {
   "codemirror_mode": {
    "name": "ipython",
    "version": 3
   },
   "file_extension": ".py",
   "mimetype": "text/x-python",
   "name": "python",
   "nbconvert_exporter": "python",
   "pygments_lexer": "ipython3",
   "version": "3.10.6"
  }
 },
 "nbformat": 4,
 "nbformat_minor": 5
}
