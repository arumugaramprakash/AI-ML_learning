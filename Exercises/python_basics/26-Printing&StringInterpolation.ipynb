{
 "cells": [
  {
   "cell_type": "code",
   "execution_count": 2,
   "id": "25c08fbd",
   "metadata": {},
   "outputs": [
    {
     "name": "stdout",
     "output_type": "stream",
     "text": [
      "I would like to have 11.7 cellar doors.\n"
     ]
    }
   ],
   "source": [
    "num = 11.7\n",
    "sng = 'cellar doors'\n",
    "\n",
    "print('I would like to have ' + str(num)+ ' ' + sng + '.')\n"
   ]
  },
  {
   "cell_type": "code",
   "execution_count": null,
   "id": "ff7cb31b",
   "metadata": {},
   "outputs": [
    {
     "name": "stdout",
     "output_type": "stream",
     "text": [
      "I would like to have 11.7 cellar doors .\n"
     ]
    }
   ],
   "source": [
    "print('I would like to have %g %s .' %(num,sng)) \n",
    "# %g is for floating point numbers and removes the trailing zeros.\n",
    "# %s is for strings.\n",
    "# %d is for integers.\n",
    "# %i is for integers.\n",
    "# %f is for floating point numbers with decimal\n",
    "# %o is for octal numbers.\n",
    "# %x is for hexadecimal numbers.\n",
    "# %e is for scientific notation.\n",
    "# %c is for characters.\n",
    "# %r is for raw data.\n",
    "# %p is for pointers.\n",
    "# %n is for the number of characters read\n",
    "# %% is for a literal percent sign."
   ]
  },
  {
   "cell_type": "code",
   "execution_count": 4,
   "id": "89fb26d3",
   "metadata": {},
   "outputs": [
    {
     "name": "stdout",
     "output_type": "stream",
     "text": [
      "I would like to have 11 cellar doors\n"
     ]
    }
   ],
   "source": [
    "print(\"I would like to have %i %s\" %(num, sng))"
   ]
  },
  {
   "cell_type": "code",
   "execution_count": 5,
   "id": "9073b733",
   "metadata": {},
   "outputs": [
    {
     "name": "stdout",
     "output_type": "stream",
     "text": [
      "I would like to have 11.7 cellar doors\n"
     ]
    }
   ],
   "source": [
    "print(\"I would like to have %s %s\" %(str(num), sng))"
   ]
  },
  {
   "cell_type": "code",
   "execution_count": 6,
   "id": "6932e6a3",
   "metadata": {},
   "outputs": [
    {
     "name": "stdout",
     "output_type": "stream",
     "text": [
      "I would like to have 11.700000 cellar doors\n"
     ]
    }
   ],
   "source": [
    "print(\"I would like to have %f %s\" %(num, sng))"
   ]
  },
  {
   "cell_type": "code",
   "execution_count": 7,
   "id": "0fccfa6d",
   "metadata": {},
   "outputs": [
    {
     "name": "stdout",
     "output_type": "stream",
     "text": [
      "I would like to have 11.700 cellar doors\n"
     ]
    }
   ],
   "source": [
    "print(\"I would like to have %.3f %s\" %(num, sng))"
   ]
  },
  {
   "cell_type": "code",
   "execution_count": 8,
   "id": "a17e1f0a",
   "metadata": {},
   "outputs": [
    {
     "name": "stdout",
     "output_type": "stream",
     "text": [
      "I would like to have 12 cellar doors\n"
     ]
    }
   ],
   "source": [
    "print(\"I would like to have %.0f %s\" %(num, sng)) # rounded to the nearest integer"
   ]
  },
  {
   "cell_type": "code",
   "execution_count": 9,
   "id": "67bc94e4",
   "metadata": {},
   "outputs": [
    {
     "name": "stdout",
     "output_type": "stream",
     "text": [
      "I would like to have 11.70 cellar doors\n"
     ]
    }
   ],
   "source": [
    "print(\"I would like to have %5.2f %s\" %(num, sng)) # here 5 is the width and 2 is the precision \n",
    "# where width means how many characters will be printed including spaces\n",
    "#  and precision means how many digits after decimal point will"
   ]
  },
  {
   "cell_type": "code",
   "execution_count": 10,
   "id": "93d98115",
   "metadata": {},
   "outputs": [
    {
     "name": "stdout",
     "output_type": "stream",
     "text": [
      "I would like to have 11.7 cellar doors.\n"
     ]
    }
   ],
   "source": [
    "# f-string\n",
    "print(f'I would like to have {num} {sng}.')"
   ]
  },
  {
   "cell_type": "code",
   "execution_count": 11,
   "id": "f32a4d96",
   "metadata": {},
   "outputs": [
    {
     "name": "stdout",
     "output_type": "stream",
     "text": [
      "I would like to have 11.70 cellar doors.\n"
     ]
    }
   ],
   "source": [
    "print(f'I would like to have {num:.2f} {sng}.')"
   ]
  },
  {
   "cell_type": "code",
   "execution_count": 12,
   "id": "e2192af0",
   "metadata": {},
   "outputs": [
    {
     "name": "stdout",
     "output_type": "stream",
     "text": [
      "I would like to have 12 cellar doors.\n"
     ]
    }
   ],
   "source": [
    "print(f'I would like to have {num:.0f} {sng}.')"
   ]
  },
  {
   "cell_type": "code",
   "execution_count": 13,
   "id": "3df4f653",
   "metadata": {},
   "outputs": [
    {
     "name": "stdout",
     "output_type": "stream",
     "text": [
      "I would like to have 11.70 cellar doors.\n"
     ]
    }
   ],
   "source": [
    "print(f'I would like to have {num:1.2f} {sng}.')"
   ]
  },
  {
   "cell_type": "code",
   "execution_count": 14,
   "id": "93957db6",
   "metadata": {},
   "outputs": [
    {
     "name": "stdout",
     "output_type": "stream",
     "text": [
      "I would like to have 11.70 cellar doors.\n"
     ]
    }
   ],
   "source": [
    "print('I would like to have {n:1.2f} {s}.'.format(n=num, s=sng))"
   ]
  },
  {
   "cell_type": "code",
   "execution_count": 24,
   "id": "e48fc4f4",
   "metadata": {},
   "outputs": [
    {
     "name": "stdout",
     "output_type": "stream",
     "text": [
      "a is the 1st letter\n",
      "b is the 2nd letter\n",
      "c is the 3rd letter\n",
      "d is the 4th letter\n",
      "e is the 5th letter\n",
      "f is the 6th letter\n",
      "g is the 7th letter\n",
      "h is the 8th letter\n",
      "i is the 9th letter\n",
      "j is the 10th letter\n",
      "k is the 11th letter\n",
      "l is the 12th letter\n",
      "m is the 13th letter\n",
      "n is the 14th letter\n",
      "o is the 15th letter\n",
      "p is the 16th letter\n",
      "q is the 17th letter\n",
      "r is the 18th letter\n",
      "s is the 19th letter\n",
      "t is the 20th letter\n",
      "u is the 21th letter\n",
      "v is the 22th letter\n",
      "w is the 23th letter\n",
      "x is the 24th letter\n",
      "y is the 25th letter\n",
      "z is the 26th letter\n"
     ]
    }
   ],
   "source": [
    "# Exercise\n",
    "# print out each letter of the alphabet with its ordinal position\n",
    "# a is the 1st letter \n",
    "# b is the 2nd letter \n",
    "# c is the 3rd letter\n",
    "# d is the 4th letter\n",
    "# .\n",
    "# .\n",
    "# .\n",
    "# z is the 26th letter\n",
    "\n",
    "alphabet = ['a','b','c','d','e','f','g','h','i','j','k','l','m','n','o','p','q','r','s','t','u','v','w','x','y','z']\n",
    "len(alphabet)\n",
    "for i in range(len(alphabet)):\n",
    "    if i==0:\n",
    "        print(f'{alphabet[i]} is the {i+1}st letter')\n",
    "    elif i==1:\n",
    "        print(f'{alphabet[i]} is the {i+1}nd letter')\n",
    "    elif i==2:\n",
    "        print(f'{alphabet[i]} is the {i+1}rd letter')\n",
    "    else:\n",
    "        print(f'{alphabet[i]} is the {i+1}th letter')\n",
    "\n"
   ]
  },
  {
   "cell_type": "code",
   "execution_count": 41,
   "id": "e151e126",
   "metadata": {},
   "outputs": [
    {
     "name": "stdout",
     "output_type": "stream",
     "text": [
      "a is the 1st letter of the alphabet\n",
      "b is the 2nd letter of the alphabet\n",
      "c is the 3rd letter of the alphabet\n",
      "d is the 4th letter of the alphabet\n",
      "e is the 5th letter of the alphabet\n",
      "f is the 6th letter of the alphabet\n",
      "g is the 7th letter of the alphabet\n",
      "h is the 8th letter of the alphabet\n",
      "i is the 9th letter of the alphabet\n",
      "j is the 10th letter of the alphabet\n",
      "k is the 11th letter of the alphabet\n",
      "l is the 12th letter of the alphabet\n",
      "m is the 13th letter of the alphabet\n",
      "n is the 14th letter of the alphabet\n",
      "o is the 15th letter of the alphabet\n",
      "p is the 16th letter of the alphabet\n",
      "q is the 17th letter of the alphabet\n",
      "r is the 18th letter of the alphabet\n",
      "s is the 19th letter of the alphabet\n",
      "t is the 20th letter of the alphabet\n",
      "u is the 21st letter of the alphabet\n",
      "v is the 22nd letter of the alphabet\n",
      "w is the 23rd letter of the alphabet\n",
      "x is the 24th letter of the alphabet\n",
      "y is the 25th letter of the alphabet\n",
      "z is the 26th letter of the alphabet\n"
     ]
    }
   ],
   "source": [
    "import string\n",
    "alphabet = string.ascii_lowercase\n",
    "for i in range(1,len(alphabet)+1):\n",
    "    if i==1 or i==21:\n",
    "        ordind = 'st'\n",
    "    elif i==2 or i==22:\n",
    "        ordind = 'nd'\n",
    "    elif i==3 or i==23:\n",
    "        ordind = 'rd'\n",
    "    else:\n",
    "        ordind = 'th'\n",
    "    print(f'{alphabet[i-1]} is the {i}{ordind} letter of the alphabet')"
   ]
  },
  {
   "cell_type": "code",
   "execution_count": 43,
   "id": "0b86b8b7",
   "metadata": {},
   "outputs": [
    {
     "name": "stdout",
     "output_type": "stream",
     "text": [
      "a is the 1st letter of the alphabet\n",
      "b is the 2nd letter of the alphabet\n",
      "c is the 3rd letter of the alphabet\n",
      "d is the 4th letter of the alphabet\n",
      "e is the 5th letter of the alphabet\n",
      "f is the 6th letter of the alphabet\n",
      "g is the 7th letter of the alphabet\n",
      "h is the 8th letter of the alphabet\n",
      "i is the 9th letter of the alphabet\n",
      "j is the 10th letter of the alphabet\n",
      "k is the 11th letter of the alphabet\n",
      "l is the 12th letter of the alphabet\n",
      "m is the 13th letter of the alphabet\n",
      "n is the 14th letter of the alphabet\n",
      "o is the 15th letter of the alphabet\n",
      "p is the 16th letter of the alphabet\n",
      "q is the 17th letter of the alphabet\n",
      "r is the 18th letter of the alphabet\n",
      "s is the 19th letter of the alphabet\n",
      "t is the 20th letter of the alphabet\n",
      "u is the 21st letter of the alphabet\n",
      "v is the 22nd letter of the alphabet\n",
      "w is the 23rd letter of the alphabet\n",
      "x is the 24th letter of the alphabet\n",
      "y is the 25th letter of the alphabet\n",
      "z is the 26th letter of the alphabet\n"
     ]
    }
   ],
   "source": [
    "import string\n",
    "alphabet = string.ascii_lowercase\n",
    "for i in range(1,len(alphabet)+1):\n",
    "    if i%10==1 and i%100!=11:\n",
    "        ordind = 'st'\n",
    "    elif i%10==2 and i%100!=12:\n",
    "        ordind = 'nd'\n",
    "    elif i%10==3 and i%100!=13:\n",
    "        ordind = 'rd'\n",
    "    else:\n",
    "        ordind = 'th'\n",
    "    print(f'{alphabet[i-1]} is the {i}{ordind} letter of the alphabet')"
   ]
  }
 ],
 "metadata": {
  "kernelspec": {
   "display_name": ".venv",
   "language": "python",
   "name": "python3"
  },
  "language_info": {
   "codemirror_mode": {
    "name": "ipython",
    "version": 3
   },
   "file_extension": ".py",
   "mimetype": "text/x-python",
   "name": "python",
   "nbconvert_exporter": "python",
   "pygments_lexer": "ipython3",
   "version": "3.10.6"
  }
 },
 "nbformat": 4,
 "nbformat_minor": 5
}
