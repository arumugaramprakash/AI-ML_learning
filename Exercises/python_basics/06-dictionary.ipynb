{
 "cells": [
  {
   "cell_type": "code",
   "execution_count": null,
   "id": "11265820",
   "metadata": {},
   "outputs": [
    {
     "data": {
      "text/plain": [
       "{}"
      ]
     },
     "execution_count": 2,
     "metadata": {},
     "output_type": "execute_result"
    }
   ],
   "source": [
    "# dictionary : Key/value pairs\n",
    "# dictionary is mutable\n",
    "# dictionary is unordered till Python 3.7\n",
    "# dictionary is ordered from Python 3.7 onwards\n",
    "# dictionary is indexed by keys\n",
    "# dictionary is iterable\n",
    "# dictionary is dynamic\n",
    "# dictionary is heterogeneous \n",
    "D = dict()\n",
    "D\n",
    "\n",
    "# [1, 2, 3] is a list\n",
    "# (1, 2, 3) is a tuple\n",
    "# {1, 2, 3} is a set\n",
    "# {'a': 1, 'b': 2} is a dictionary\n",
    "# {} is an empty dictionary"
   ]
  },
  {
   "cell_type": "code",
   "execution_count": null,
   "id": "15edd940",
   "metadata": {},
   "outputs": [
    {
     "data": {
      "text/plain": [
       "{'name': 'Prakash', 'age range': [20, 50], 'agerange': [20, 50]}"
      ]
     },
     "execution_count": 11,
     "metadata": {},
     "output_type": "execute_result"
    }
   ],
   "source": [
    "# key             value pairs\n",
    "D['name']       = 'Prakash'\n",
    "D['age range']  = [20,50]\n",
    "D['agerange']   = [20,50]\n",
    "D\n",
    "# after python 3.7, dictionaries are ordered\n",
    "# before python 3.7, dictionaries are unordered"
   ]
  },
  {
   "cell_type": "code",
   "execution_count": 12,
   "id": "6843b180",
   "metadata": {},
   "outputs": [
    {
     "data": {
      "text/plain": [
       "{'name': 'Prakash', 'age range': [20, 50], 'Favorite color': 'black'}"
      ]
     },
     "execution_count": 12,
     "metadata": {},
     "output_type": "execute_result"
    }
   ],
   "source": [
    "# dictionaries can also be created using the dict() constructor\n",
    "# also dictionaries can be created using {key: value} syntax\n",
    "E = {'name': 'Prakash', 'age range': [20,50], 'Favorite color': 'black'}\n",
    "E"
   ]
  },
  {
   "cell_type": "code",
   "execution_count": 14,
   "id": "5ca3f545",
   "metadata": {},
   "outputs": [
    {
     "data": {
      "text/plain": [
       "'Prakash'"
      ]
     },
     "execution_count": 14,
     "metadata": {},
     "output_type": "execute_result"
    }
   ],
   "source": [
    "D['name']\n"
   ]
  },
  {
   "cell_type": "code",
   "execution_count": null,
   "id": "3dcd2951",
   "metadata": {},
   "outputs": [
    {
     "data": {
      "text/plain": [
       "dict_keys(['name', 'age range', 'Favorite color'])"
      ]
     },
     "execution_count": 17,
     "metadata": {},
     "output_type": "execute_result"
    }
   ],
   "source": [
    "E.keys() # returns the keys of the dictionary as a view object (like a set)"
   ]
  },
  {
   "cell_type": "code",
   "execution_count": 19,
   "id": "f9d21962",
   "metadata": {},
   "outputs": [
    {
     "data": {
      "text/plain": [
       "True"
      ]
     },
     "execution_count": 19,
     "metadata": {},
     "output_type": "execute_result"
    }
   ],
   "source": [
    "'name' in E # check if key is in dictionary"
   ]
  },
  {
   "cell_type": "code",
   "execution_count": 20,
   "id": "f1f6ce76",
   "metadata": {},
   "outputs": [
    {
     "data": {
      "text/plain": [
       "False"
      ]
     },
     "execution_count": 20,
     "metadata": {},
     "output_type": "execute_result"
    }
   ],
   "source": [
    "'Prakash' in E # check if value is in dictionary"
   ]
  },
  {
   "cell_type": "code",
   "execution_count": null,
   "id": "22cdbece",
   "metadata": {},
   "outputs": [
    {
     "data": {
      "text/plain": [
       "dict_values(['Prakash', [20, 50], 'black'])"
      ]
     },
     "execution_count": 25,
     "metadata": {},
     "output_type": "execute_result"
    }
   ],
   "source": [
    "E.values() # returns the values of the dictionary as a view object (like a list)\n",
    "\n"
   ]
  },
  {
   "cell_type": "code",
   "execution_count": null,
   "id": "d7638241",
   "metadata": {},
   "outputs": [
    {
     "data": {
      "text/plain": [
       "dict_items([('name', 'Prakash'), ('age range', [20, 50]), ('Favorite color', 'black')])"
      ]
     },
     "execution_count": 28,
     "metadata": {},
     "output_type": "execute_result"
    }
   ],
   "source": [
    "E.items() # returns the key-value pairs of the dictionary as a view object (like a list of tuples)"
   ]
  },
  {
   "cell_type": "code",
   "execution_count": null,
   "id": "0ce0d539",
   "metadata": {},
   "outputs": [],
   "source": [
    "# Exercise\n",
    "# 1) input 2 numbers from user\n",
    "# 2) create a dictionary with 3 keys: 'firstnum','secondnum','product'\n"
   ]
  },
  {
   "cell_type": "code",
   "execution_count": 29,
   "id": "a50f8f0b",
   "metadata": {},
   "outputs": [
    {
     "name": "stdout",
     "output_type": "stream",
     "text": [
      "Product of  5 & 2 is 10\n"
     ]
    }
   ],
   "source": [
    "Product_dict = dict()\n",
    "Product_dict['firstnum']= int(input(\"Enter first number: \"))\n",
    "Product_dict[\"secondnum\"] = int(input(\"Enter second number: \"))\n",
    "Product_dict['product'] = Product_dict['firstnum'] * Product_dict['secondnum']\n",
    "print(\"Product of \",Product_dict['firstnum'],\"&\",Product_dict['secondnum'],\"is\", Product_dict['product'])\n"
   ]
  },
  {
   "cell_type": "code",
   "execution_count": 36,
   "id": "2ad61718",
   "metadata": {},
   "outputs": [
    {
     "name": "stdout",
     "output_type": "stream",
     "text": [
      "Variable       Type    Data/Info\n",
      "--------------------------------\n",
      "D              dict    n=3\n",
      "E              dict    n=3\n",
      "F              dict    n=0\n",
      "Product_dict   dict    n=3\n",
      "g              set     {2, 4, 'hi'}\n",
      "h              dict    n=0\n"
     ]
    }
   ],
   "source": [
    "F={}\n",
    "g={1,2,3}\n",
    "g={2,4,'hi',2}\n",
    "%whos"
   ]
  }
 ],
 "metadata": {
  "kernelspec": {
   "display_name": ".venv",
   "language": "python",
   "name": "python3"
  },
  "language_info": {
   "codemirror_mode": {
    "name": "ipython",
    "version": 3
   },
   "file_extension": ".py",
   "mimetype": "text/x-python",
   "name": "python",
   "nbconvert_exporter": "python",
   "pygments_lexer": "ipython3",
   "version": "3.10.6"
  }
 },
 "nbformat": 4,
 "nbformat_minor": 5
}
