{
 "cells": [
  {
   "cell_type": "code",
   "execution_count": 8,
   "id": "3652064e",
   "metadata": {},
   "outputs": [
    {
     "name": "stdout",
     "output_type": "stream",
     "text": [
      "[[1 2 3]\n",
      " [2 3 4]\n",
      " [3 4 5]\n",
      " [4 5 6]]\n",
      " \n",
      "[10 20 30]\n"
     ]
    }
   ],
   "source": [
    "import numpy as np\n",
    "\n",
    "x=np.array([[1,2,3],\n",
    "            [2,3,4],\n",
    "            [3,4,5],\n",
    "            [4,5,6]])\n",
    "w = np.array([10,20,30])\n",
    "print(x), print(\" \")\n",
    "print(w)"
   ]
  },
  {
   "cell_type": "code",
   "execution_count": 9,
   "id": "a088627a",
   "metadata": {},
   "outputs": [
    {
     "data": {
      "text/plain": [
       "array([[11, 22, 33],\n",
       "       [12, 23, 34],\n",
       "       [13, 24, 35],\n",
       "       [14, 25, 36]])"
      ]
     },
     "execution_count": 9,
     "metadata": {},
     "output_type": "execute_result"
    }
   ],
   "source": [
    "y=np.copy(x)\n",
    "for i in range(y.shape[0]):\n",
    "    y[i, :] += w\n",
    "y"
   ]
  },
  {
   "cell_type": "code",
   "execution_count": 10,
   "id": "9aa04cae",
   "metadata": {},
   "outputs": [
    {
     "data": {
      "text/plain": [
       "array([[11., 22., 33.],\n",
       "       [12., 23., 34.],\n",
       "       [13., 24., 35.],\n",
       "       [14., 25., 36.]])"
      ]
     },
     "execution_count": 10,
     "metadata": {},
     "output_type": "execute_result"
    }
   ],
   "source": [
    "y=np.zeros(x.shape)\n",
    "for i in range(y.shape[0]):\n",
    "    y[i,:] = x[i,:] + w\n",
    "y"
   ]
  },
  {
   "cell_type": "code",
   "execution_count": 11,
   "id": "fbe01c82",
   "metadata": {},
   "outputs": [
    {
     "name": "stdout",
     "output_type": "stream",
     "text": [
      "[[11 22 33]\n",
      " [12 23 34]\n",
      " [13 24 35]\n",
      " [14 25 36]]\n",
      "[[ 10  40  90]\n",
      " [ 20  60 120]\n",
      " [ 30  80 150]\n",
      " [ 40 100 180]]\n",
      "[[ -9 -18 -27]\n",
      " [ -8 -17 -26]\n",
      " [ -7 -16 -25]\n",
      " [ -6 -15 -24]]\n"
     ]
    }
   ],
   "source": [
    "# broadcasting\n",
    "z = x+w # this is not leagal in linear algebra but in python it works with broadcasting\n",
    "print(z)\n",
    "\n",
    "z = x*w\n",
    "print(z)\n",
    "\n",
    "z = x-w # not working as expected\n",
    "print(z)\n",
    "\n",
    "# this is a broadcasting row wise"
   ]
  },
  {
   "cell_type": "code",
   "execution_count": 12,
   "id": "9b6fd527",
   "metadata": {},
   "outputs": [
    {
     "data": {
      "text/plain": [
       "array([[-1],\n",
       "       [ 0],\n",
       "       [ 1],\n",
       "       [ 0]])"
      ]
     },
     "execution_count": 12,
     "metadata": {},
     "output_type": "execute_result"
    }
   ],
   "source": [
    "# to broadcast column wise\n",
    "v = np.array([[-1],[0],[1],[0]])\n",
    "v"
   ]
  },
  {
   "cell_type": "code",
   "execution_count": 13,
   "id": "2a4fab50",
   "metadata": {},
   "outputs": [
    {
     "data": {
      "text/plain": [
       "array([[-1],\n",
       "       [ 0],\n",
       "       [ 1],\n",
       "       [ 0]])"
      ]
     },
     "execution_count": 13,
     "metadata": {},
     "output_type": "execute_result"
    }
   ],
   "source": [
    "v = np.array([-1,0,1,0],ndmin=2).T # ndmin specifies the dimension of array to be created and .T creates the transpose\n",
    "v"
   ]
  },
  {
   "cell_type": "code",
   "execution_count": 15,
   "id": "bcd9c12a",
   "metadata": {},
   "outputs": [
    {
     "name": "stdout",
     "output_type": "stream",
     "text": [
      "[[1 2 3]\n",
      " [2 3 4]\n",
      " [3 4 5]\n",
      " [4 5 6]] \n",
      "+\n",
      " [[-1]\n",
      " [ 0]\n",
      " [ 1]\n",
      " [ 0]] \n",
      "=\n",
      " [[0 1 2]\n",
      " [2 3 4]\n",
      " [4 5 6]\n",
      " [4 5 6]]\n"
     ]
    }
   ],
   "source": [
    "print(x,'\\n+\\n',v,'\\n=\\n',x+v)"
   ]
  },
  {
   "cell_type": "code",
   "execution_count": 16,
   "id": "cb7a957d",
   "metadata": {},
   "outputs": [
    {
     "name": "stdout",
     "output_type": "stream",
     "text": [
      "[[1 2 3]\n",
      " [2 3 4]\n",
      " [3 4 5]\n",
      " [4 5 6]] \n",
      "*\n",
      " [[-1]\n",
      " [ 0]\n",
      " [ 1]\n",
      " [ 0]] \n",
      "=\n",
      " [[-1 -2 -3]\n",
      " [ 0  0  0]\n",
      " [ 3  4  5]\n",
      " [ 0  0  0]]\n"
     ]
    }
   ],
   "source": [
    "print(x,\"\\n*\\n\",v,\"\\n=\\n\",x*v)"
   ]
  },
  {
   "cell_type": "code",
   "execution_count": null,
   "id": "506cebce",
   "metadata": {},
   "outputs": [],
   "source": [
    "# Exercise :\n",
    "# 1) create a vector of integers 0:8 (v)\n",
    "# 2) reshape v into a 3x3 matrix (M) (np.reshape)\n",
    "# 3) repeat M into a 9x3 (c) (np.tile)\n",
    "# 4) broadcast-multiple c with v (B)"
   ]
  },
  {
   "cell_type": "code",
   "execution_count": 48,
   "id": "8f289ae2",
   "metadata": {},
   "outputs": [
    {
     "name": "stdout",
     "output_type": "stream",
     "text": [
      "v is  [0. 1. 2. 3. 4. 5. 6. 7. 8.]\n",
      "m is  [[0. 1. 2.]\n",
      " [3. 4. 5.]\n",
      " [6. 7. 8.]]\n",
      "\n",
      "c 3x9 tiling\n",
      " [[0. 1. 2. 0. 1. 2. 0. 1. 2.]\n",
      " [3. 4. 5. 3. 4. 5. 3. 4. 5.]\n",
      " [6. 7. 8. 6. 7. 8. 6. 7. 8.]]\n",
      "\n",
      "c 9x3 tiling\n",
      " [[0. 1. 2.]\n",
      " [3. 4. 5.]\n",
      " [6. 7. 8.]\n",
      " [0. 1. 2.]\n",
      " [3. 4. 5.]\n",
      " [6. 7. 8.]\n",
      " [0. 1. 2.]\n",
      " [3. 4. 5.]\n",
      " [6. 7. 8.]]\n",
      "\n",
      "Broadcasting c*v\n",
      " [[ 0.  0.  0.]\n",
      " [ 3.  4.  5.]\n",
      " [12. 14. 16.]\n",
      " [ 0.  3.  6.]\n",
      " [12. 16. 20.]\n",
      " [30. 35. 40.]\n",
      " [ 0.  6. 12.]\n",
      " [21. 28. 35.]\n",
      " [48. 56. 64.]]\n"
     ]
    }
   ],
   "source": [
    "v = np.linspace(0,8,9)\n",
    "print(\"v is \", v)\n",
    "\n",
    "m = np.reshape(v,(3,3))\n",
    "print(\"m is \",m)\n",
    "\n",
    "c = np.tile(m,(1,3))\n",
    "print(\"\\nc 3x9 tiling\\n\",c)\n",
    "\n",
    "c = np.tile(m,(3,1))\n",
    "print(\"\\nc 9x3 tiling\\n\",c)\n",
    "\n",
    "b = c*np.reshape(v,(-1,1)) # also b = c*np.reshape(v,(len(v),1))\n",
    "print(\"\\nBroadcasting c*v\\n\",b)"
   ]
  },
  {
   "cell_type": "code",
   "execution_count": null,
   "id": "8c8a31b1",
   "metadata": {},
   "outputs": [],
   "source": []
  }
 ],
 "metadata": {
  "kernelspec": {
   "display_name": ".venv",
   "language": "python",
   "name": "python3"
  },
  "language_info": {
   "codemirror_mode": {
    "name": "ipython",
    "version": 3
   },
   "file_extension": ".py",
   "mimetype": "text/x-python",
   "name": "python",
   "nbconvert_exporter": "python",
   "pygments_lexer": "ipython3",
   "version": "3.10.6"
  }
 },
 "nbformat": 4,
 "nbformat_minor": 5
}
