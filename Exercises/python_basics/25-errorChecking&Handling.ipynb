{
 "cells": [
  {
   "cell_type": "code",
   "execution_count": null,
   "id": "3e4fdbcb",
   "metadata": {},
   "outputs": [
    {
     "data": {
      "text/plain": [
       "'hihi'"
      ]
     },
     "execution_count": 1,
     "metadata": {},
     "output_type": "execute_result"
    }
   ],
   "source": [
    "# create a function that will input 2 numbers and output thier product.\n",
    "def product_numbers(a, b):\n",
    "    z=a*b\n",
    "    return z\n",
    "\n",
    "product_numbers(2,'hi') # * is highly overloaded in python so it can multiply strings too!"
   ]
  },
  {
   "cell_type": "code",
   "execution_count": 7,
   "id": "e234ead4",
   "metadata": {},
   "outputs": [
    {
     "ename": "Exception",
     "evalue": "Input x must be a number !",
     "output_type": "error",
     "traceback": [
      "\u001b[1;31m---------------------------------------------------------------------------\u001b[0m",
      "\u001b[1;31mException\u001b[0m                                 Traceback (most recent call last)",
      "Cell \u001b[1;32mIn[7], line 8\u001b[0m\n\u001b[0;32m      6\u001b[0m     z\u001b[38;5;241m=\u001b[39ma\u001b[38;5;241m*\u001b[39mb\n\u001b[0;32m      7\u001b[0m     \u001b[38;5;28;01mreturn\u001b[39;00m z\n\u001b[1;32m----> 8\u001b[0m \u001b[43mproduct_numbers\u001b[49m\u001b[43m(\u001b[49m\u001b[38;5;124;43m'\u001b[39;49m\u001b[38;5;124;43masdf\u001b[39;49m\u001b[38;5;124;43m'\u001b[39;49m\u001b[43m,\u001b[49m\u001b[38;5;241;43m3\u001b[39;49m\u001b[43m)\u001b[49m\n",
      "Cell \u001b[1;32mIn[7], line 5\u001b[0m, in \u001b[0;36mproduct_numbers\u001b[1;34m(a, b)\u001b[0m\n\u001b[0;32m      2\u001b[0m \u001b[38;5;28;01mdef\u001b[39;00m\u001b[38;5;250m \u001b[39m\u001b[38;5;21mproduct_numbers\u001b[39m(a, b):\n\u001b[0;32m      3\u001b[0m     \u001b[38;5;66;03m# check that input is numeric\u001b[39;00m\n\u001b[0;32m      4\u001b[0m     \u001b[38;5;28;01mif\u001b[39;00m \u001b[38;5;129;01mnot\u001b[39;00m \u001b[38;5;28misinstance\u001b[39m (a,\u001b[38;5;28mint\u001b[39m):\n\u001b[1;32m----> 5\u001b[0m         \u001b[38;5;28;01mraise\u001b[39;00m \u001b[38;5;167;01mException\u001b[39;00m(\u001b[38;5;124m'\u001b[39m\u001b[38;5;124mInput x must be a number !\u001b[39m\u001b[38;5;124m'\u001b[39m)\n\u001b[0;32m      6\u001b[0m     z\u001b[38;5;241m=\u001b[39ma\u001b[38;5;241m*\u001b[39mb\n\u001b[0;32m      7\u001b[0m     \u001b[38;5;28;01mreturn\u001b[39;00m z\n",
      "\u001b[1;31mException\u001b[0m: Input x must be a number !"
     ]
    }
   ],
   "source": [
    "# to ensure we get errors if they are not integers.\n",
    "def product_numbers(a, b):\n",
    "    # check that input is numeric\n",
    "    if not isinstance (a,int):\n",
    "        raise Exception('Input x must be a number !')\n",
    "    z=a*b\n",
    "    return z\n",
    "product_numbers('asdf',3)"
   ]
  },
  {
   "cell_type": "code",
   "execution_count": 8,
   "id": "1a8eaf75",
   "metadata": {},
   "outputs": [
    {
     "data": {
      "text/plain": [
       "6"
      ]
     },
     "execution_count": 8,
     "metadata": {},
     "output_type": "execute_result"
    }
   ],
   "source": [
    "# to ensure we get errors if they are not integers.\n",
    "def product_numbers(a, b):\n",
    "    # check that input is numeric\n",
    "    if not isinstance (a,int):\n",
    "        raise Exception('Input x must be a number !')\n",
    "    z=a*b\n",
    "    return z\n",
    "product_numbers(2,3)"
   ]
  },
  {
   "cell_type": "code",
   "execution_count": 9,
   "id": "a947e7d0",
   "metadata": {},
   "outputs": [
    {
     "ename": "Exception",
     "evalue": "Input x must be a number !",
     "output_type": "error",
     "traceback": [
      "\u001b[1;31m---------------------------------------------------------------------------\u001b[0m",
      "\u001b[1;31mException\u001b[0m                                 Traceback (most recent call last)",
      "Cell \u001b[1;32mIn[9], line 8\u001b[0m\n\u001b[0;32m      6\u001b[0m     z\u001b[38;5;241m=\u001b[39ma\u001b[38;5;241m*\u001b[39mb\n\u001b[0;32m      7\u001b[0m     \u001b[38;5;28;01mreturn\u001b[39;00m z\n\u001b[1;32m----> 8\u001b[0m \u001b[43mproduct_numbers\u001b[49m\u001b[43m(\u001b[49m\u001b[38;5;241;43m2.5\u001b[39;49m\u001b[43m,\u001b[49m\u001b[38;5;241;43m3\u001b[39;49m\u001b[43m)\u001b[49m\n",
      "Cell \u001b[1;32mIn[9], line 5\u001b[0m, in \u001b[0;36mproduct_numbers\u001b[1;34m(a, b)\u001b[0m\n\u001b[0;32m      2\u001b[0m \u001b[38;5;28;01mdef\u001b[39;00m\u001b[38;5;250m \u001b[39m\u001b[38;5;21mproduct_numbers\u001b[39m(a, b):\n\u001b[0;32m      3\u001b[0m     \u001b[38;5;66;03m# check that input is numeric\u001b[39;00m\n\u001b[0;32m      4\u001b[0m     \u001b[38;5;28;01mif\u001b[39;00m \u001b[38;5;129;01mnot\u001b[39;00m \u001b[38;5;28misinstance\u001b[39m (a,\u001b[38;5;28mint\u001b[39m):\n\u001b[1;32m----> 5\u001b[0m         \u001b[38;5;28;01mraise\u001b[39;00m \u001b[38;5;167;01mException\u001b[39;00m(\u001b[38;5;124m'\u001b[39m\u001b[38;5;124mInput x must be a number !\u001b[39m\u001b[38;5;124m'\u001b[39m)\n\u001b[0;32m      6\u001b[0m     z\u001b[38;5;241m=\u001b[39ma\u001b[38;5;241m*\u001b[39mb\n\u001b[0;32m      7\u001b[0m     \u001b[38;5;28;01mreturn\u001b[39;00m z\n",
      "\u001b[1;31mException\u001b[0m: Input x must be a number !"
     ]
    }
   ],
   "source": [
    "# to ensure we get errors if they are not integers.\n",
    "def product_numbers(a, b):\n",
    "    # check that input is numeric\n",
    "    if not isinstance (a,int):\n",
    "        raise Exception('Input x must be a number !')\n",
    "    z=a*b\n",
    "    return z\n",
    "product_numbers(2.5,3)"
   ]
  },
  {
   "cell_type": "code",
   "execution_count": null,
   "id": "963a74fd",
   "metadata": {},
   "outputs": [
    {
     "data": {
      "text/plain": [
       "7.5"
      ]
     },
     "execution_count": 11,
     "metadata": {},
     "output_type": "execute_result"
    }
   ],
   "source": [
    "# to ensure we get errors if they are not integers.\n",
    "def product_numbers(a, b):\n",
    "    # check that input is numeric\n",
    "    if not isinstance (a,(int,float)): # this is a compact form of \"if not instance(a, int) or not isinstance(a, float):\"\n",
    "        raise Exception('Input x must be a number !')\n",
    "    z=a*b\n",
    "    return z\n",
    "product_numbers(2.5,3)"
   ]
  },
  {
   "cell_type": "code",
   "execution_count": 26,
   "id": "e7479020",
   "metadata": {},
   "outputs": [
    {
     "name": "stdout",
     "output_type": "stream",
     "text": [
      "b is  False\n",
      "b is  True\n"
     ]
    }
   ],
   "source": [
    "a = 'hi'\n",
    "try:\n",
    "    b=isinstance(int(a),int)\n",
    "except Exception as e:\n",
    "    b=False\n",
    "print('b is ',b)\n",
    "\n",
    "a = '2'\n",
    "try:\n",
    "    b=isinstance(int(a),int)\n",
    "except Exception as e:\n",
    "    b=False\n",
    "print('b is ',b)"
   ]
  },
  {
   "cell_type": "code",
   "execution_count": null,
   "id": "c6ba865d",
   "metadata": {},
   "outputs": [
    {
     "name": "stdout",
     "output_type": "stream",
     "text": [
      "Note: Converted  2.48  to float  2.48\n",
      "Note: Converted  5.88  to float  5.88\n"
     ]
    },
    {
     "data": {
      "text/plain": [
       "14.5824"
      ]
     },
     "execution_count": 46,
     "metadata": {},
     "output_type": "execute_result"
    }
   ],
   "source": [
    "# to ensure we get errors if they are not integers.\n",
    "def is_numtext(x):\n",
    "    try:\n",
    "        return float(x)\n",
    "    except Exception as e:\n",
    "        return False\n",
    "\n",
    "def product_numbers(a, b):\n",
    "    # check that input is numeric\n",
    "    if not isinstance (a,(int,float)):\n",
    "        if is_numtext(a): # another way if a.isnumeric:\n",
    "            a = float(a)\n",
    "            print('Note: Converted ',a, ' to float ', float(a))\n",
    "        else:\n",
    "            raise Exception('first Input must be a number !')\n",
    "    if not isinstance (b,(int,float)):\n",
    "        if is_numtext(b):\n",
    "            b = float(b)\n",
    "            print('Note: Converted ',b, ' to float ', float(b))\n",
    "        else:\n",
    "            raise Exception('second input must be a number !')\n",
    "    z=a*b\n",
    "    return z\n",
    "\n",
    "product_numbers('2.48','5.88')\n"
   ]
  },
  {
   "cell_type": "code",
   "execution_count": 47,
   "id": "22c7ffbe",
   "metadata": {},
   "outputs": [
    {
     "name": "stdout",
     "output_type": "stream",
     "text": [
      "Note: Converted  2.48  to float  2.48\n",
      "Note: Converted  5.88  to float  5.88\n"
     ]
    },
    {
     "data": {
      "text/plain": [
       "14.5824"
      ]
     },
     "execution_count": 47,
     "metadata": {},
     "output_type": "execute_result"
    }
   ],
   "source": [
    "def product_numbers(a, b):\n",
    "    # check that input is numeric\n",
    "    if not isinstance (a,(int,float)):\n",
    "        if a.isnumeric:\n",
    "            a = float(a)\n",
    "            print('Note: Converted ',a, ' to float ', float(a))\n",
    "        else:\n",
    "            raise Exception('first Input must be a number !')\n",
    "    if not isinstance (b,(int,float)):\n",
    "        if b.isnumeric:\n",
    "            b = float(b)\n",
    "            print('Note: Converted ',b, ' to float ', float(b))\n",
    "        else:\n",
    "            raise Exception('second input must be a number !')\n",
    "    z=a*b\n",
    "    return z\n",
    "\n",
    "product_numbers('2.48','5.88')"
   ]
  },
  {
   "cell_type": "code",
   "execution_count": null,
   "id": "3c8bc450",
   "metadata": {},
   "outputs": [
    {
     "name": "stdout",
     "output_type": "stream",
     "text": [
      "started calculation\n",
      "Error in calculation! Check your inputs.\n"
     ]
    },
    {
     "data": {
      "text/plain": [
       "0"
      ]
     },
     "execution_count": 53,
     "metadata": {},
     "output_type": "execute_result"
    }
   ],
   "source": [
    "def power_numbers(x, y):\n",
    "    z=0\n",
    "    try:\n",
    "        print(\"started calculation\")\n",
    "        z=x**y\n",
    "        print(\"Operation completed\")\n",
    "    except:\n",
    "        print('Error in calculation! Check your inputs.')\n",
    "    return z\n",
    "\n",
    "power_numbers(3, 'asdf')"
   ]
  },
  {
   "cell_type": "code",
   "execution_count": 58,
   "id": "2a876da7",
   "metadata": {},
   "outputs": [
    {
     "name": "stdout",
     "output_type": "stream",
     "text": [
      "started calculation\n",
      "Error in calculation! Check your inputs.\n",
      "started calculation\n",
      "Operation completed\n"
     ]
    },
    {
     "data": {
      "text/plain": [
       "25"
      ]
     },
     "execution_count": 58,
     "metadata": {},
     "output_type": "execute_result"
    }
   ],
   "source": [
    "def power_numbers(x, y):\n",
    "    try:\n",
    "        print(\"started calculation\")\n",
    "        z=x**y\n",
    "        print(\"Operation completed\")\n",
    "        return z\n",
    "    except:\n",
    "        print('Error in calculation! Check your inputs.')\n",
    "power_numbers(5, '2')\n",
    "power_numbers(5, 2)"
   ]
  }
 ],
 "metadata": {
  "kernelspec": {
   "display_name": ".venv",
   "language": "python",
   "name": "python3"
  },
  "language_info": {
   "codemirror_mode": {
    "name": "ipython",
    "version": 3
   },
   "file_extension": ".py",
   "mimetype": "text/x-python",
   "name": "python",
   "nbconvert_exporter": "python",
   "pygments_lexer": "ipython3",
   "version": "3.10.6"
  }
 },
 "nbformat": 4,
 "nbformat_minor": 5
}
