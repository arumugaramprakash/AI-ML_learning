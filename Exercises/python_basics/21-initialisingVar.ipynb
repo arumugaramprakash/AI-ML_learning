{
 "cells": [
  {
   "cell_type": "code",
   "execution_count": 10,
   "id": "6c6e29e9",
   "metadata": {},
   "outputs": [
    {
     "data": {
      "text/plain": [
       "[0, 1, 4, 9, 16, 25, 36, 49, 64, 81]"
      ]
     },
     "execution_count": 10,
     "metadata": {},
     "output_type": "execute_result"
    }
   ],
   "source": [
    "# initialising variables in python using assignment operator = and augmented operators +=, -=, *=, / = etc.\n",
    "\n",
    "r = [0,0,0,0,0,0,0,0,0,0]\n",
    "for i in range(10):\n",
    "    r[i] = i**2\n",
    "r"
   ]
  },
  {
   "cell_type": "code",
   "execution_count": 3,
   "id": "a8e011ce",
   "metadata": {},
   "outputs": [
    {
     "data": {
      "text/plain": [
       "array([0., 0., 0., 0., 0., 0., 0., 0., 0., 0.])"
      ]
     },
     "execution_count": 3,
     "metadata": {},
     "output_type": "execute_result"
    }
   ],
   "source": [
    "import numpy as np\n",
    "\n",
    "r = np.zeros(10) # initialising array with zeros\n",
    "r"
   ]
  },
  {
   "cell_type": "code",
   "execution_count": 4,
   "id": "7892a2c1",
   "metadata": {},
   "outputs": [
    {
     "data": {
      "text/plain": [
       "array([7.8, 7.8, 7.8, 7.8, 7.8, 7.8, 7.8, 7.8, 7.8, 7.8])"
      ]
     },
     "execution_count": 4,
     "metadata": {},
     "output_type": "execute_result"
    }
   ],
   "source": [
    "r=np.full(10,7.8) # initialising array with a specific value\n",
    "r"
   ]
  },
  {
   "cell_type": "code",
   "execution_count": null,
   "id": "8e04f3d0",
   "metadata": {},
   "outputs": [
    {
     "name": "stdout",
     "output_type": "stream",
     "text": [
      "[ 0.  1.  4.  9. 16. 25. 36. 49. 64. 81.]\n"
     ]
    }
   ],
   "source": [
    "N=10\n",
    "r=np.zeros(N) # using variable to define size of the array\n",
    "for i in range(N):\n",
    "    r[i]=i**2\n",
    "print(r)"
   ]
  },
  {
   "cell_type": "code",
   "execution_count": 6,
   "id": "59ad0767",
   "metadata": {},
   "outputs": [
    {
     "ename": "NameError",
     "evalue": "name 'r' is not defined",
     "output_type": "error",
     "traceback": [
      "\u001b[1;31m---------------------------------------------------------------------------\u001b[0m",
      "\u001b[1;31mNameError\u001b[0m                                 Traceback (most recent call last)",
      "Cell \u001b[1;32mIn[6], line 3\u001b[0m\n\u001b[0;32m      1\u001b[0m \u001b[38;5;66;03m# to delete a variable, use del statement\u001b[39;00m\n\u001b[0;32m      2\u001b[0m \u001b[38;5;28;01mdel\u001b[39;00m r\n\u001b[1;32m----> 3\u001b[0m \u001b[43mr\u001b[49m\n",
      "\u001b[1;31mNameError\u001b[0m: name 'r' is not defined"
     ]
    }
   ],
   "source": [
    "# to delete a variable, use del statement\n",
    "del r\n",
    "r"
   ]
  },
  {
   "cell_type": "code",
   "execution_count": null,
   "id": "f36954b5",
   "metadata": {},
   "outputs": [
    {
     "data": {
      "text/plain": [
       "array([[0., 0., 0., 0., 0.],\n",
       "       [0., 0., 0., 0., 0.],\n",
       "       [0., 0., 0., 0., 0.],\n",
       "       [0., 0., 0., 0., 0.]])"
      ]
     },
     "execution_count": 8,
     "metadata": {},
     "output_type": "execute_result"
    }
   ],
   "source": [
    "# to initialise a matrix for zero\n",
    "r = np.zeros((4,5)) # creates a 3x4 array of zeros, where the input should be a tuple (rows, columns)\n",
    "r"
   ]
  },
  {
   "cell_type": "code",
   "execution_count": 11,
   "id": "e8d6dd22",
   "metadata": {},
   "outputs": [
    {
     "data": {
      "text/plain": [
       "[0, 1, 4, 9, 16, 25, 36, 49, 64, 81]"
      ]
     },
     "execution_count": 11,
     "metadata": {},
     "output_type": "execute_result"
    }
   ],
   "source": [
    "r=[]\n",
    "\n",
    "for i in range(10):\n",
    "    r.append(i**2)\n",
    "r"
   ]
  },
  {
   "cell_type": "code",
   "execution_count": 13,
   "id": "28c05f06",
   "metadata": {},
   "outputs": [
    {
     "data": {
      "text/plain": [
       "array([ 0.,  1.,  4.,  9., 16., 25., 36., 49., 64., 81.])"
      ]
     },
     "execution_count": 13,
     "metadata": {},
     "output_type": "execute_result"
    }
   ],
   "source": [
    "r = np.array([])\n",
    "for i in range(10):\n",
    "    r = np.append(r,i**2)\n",
    "r"
   ]
  },
  {
   "cell_type": "code",
   "execution_count": null,
   "id": "ef38a3c9",
   "metadata": {},
   "outputs": [],
   "source": [
    "# compare three methods of creating an array\n",
    "# N = 10000\n",
    "# time test! use below\n",
    "# import time\n",
    "# time.perf_counter() gives the current time in seconds"
   ]
  },
  {
   "cell_type": "code",
   "execution_count": 50,
   "id": "cc5f1296",
   "metadata": {},
   "outputs": [
    {
     "name": "stdout",
     "output_type": "stream",
     "text": [
      "[0, 0, 0]\n",
      "Time taken for list appending:  21.611599950119853 milliseconds\n",
      "Time taken for numpy appending:  917.762600001879 milliseconds\n",
      "Time taken for numpy array indexing:  20.697400090284646 milliseconds\n",
      "Time taken array is [0.021611599950119853, 0.917762600001879, 0.020697400090284646]\n",
      "Numpy array indexing is fastest.\n"
     ]
    }
   ],
   "source": [
    "N=100000\n",
    "import numpy as np\n",
    "import time\n",
    "\n",
    "time_taken = [0]*3 # create a list with 3 elements all set to 0. This will store the time taken for each method.\n",
    "print(time_taken)\n",
    "\n",
    "start_time = time.perf_counter()\n",
    "r=[]\n",
    "for i in range(N):\n",
    "    r.append(i**2)\n",
    "end_time = time.perf_counter()\n",
    "time_taken[0]=end_time - start_time\n",
    "print(\"Time taken for list appending: \", time_taken[0]*1000, \"milliseconds\")\n",
    "# print(r)\n",
    "\n",
    "start_time = time.perf_counter()\n",
    "r=np.array([])\n",
    "for i in range(N):\n",
    "    r = np.append(r,i**2)\n",
    "end_time = time.perf_counter()\n",
    "time_taken[1]=end_time - start_time\n",
    "print(\"Time taken for numpy appending: \", time_taken[1]*1000, \"milliseconds\")\n",
    "# print(r)\n",
    "\n",
    "start_time = time.perf_counter()\n",
    "r=np.zeros(N) # using variable to define size of the\n",
    "for i in range(N):\n",
    "    r[i] = i**2\n",
    "end_time = time.perf_counter()\n",
    "time_taken[2]=end_time - start_time\n",
    "print(\"Time taken for numpy array indexing: \", time_taken[2]*1000, \"milliseconds\")\n",
    "# print(r)\n",
    "\n",
    "print(\"Time taken array is\",time_taken)\n",
    "\n",
    "if time_taken[0] < time_taken[1]:\n",
    "    if time_taken[0] < time_taken[2]:\n",
    "        print(\"List appending is fastest.\")\n",
    "    else:\n",
    "        print(\"Numpy array indexing is fastest.\")\n",
    "else:\n",
    "    if time_taken[1] < time_taken[2]:\n",
    "        print(\"Numpy appending is fastest.\")\n",
    "    else:\n",
    "        print(\"Numpy array indexing is fastest.\")"
   ]
  }
 ],
 "metadata": {
  "kernelspec": {
   "display_name": ".venv",
   "language": "python",
   "name": "python3"
  },
  "language_info": {
   "codemirror_mode": {
    "name": "ipython",
    "version": 3
   },
   "file_extension": ".py",
   "mimetype": "text/x-python",
   "name": "python",
   "nbconvert_exporter": "python",
   "pygments_lexer": "ipython3",
   "version": "3.10.6"
  }
 },
 "nbformat": 4,
 "nbformat_minor": 5
}
