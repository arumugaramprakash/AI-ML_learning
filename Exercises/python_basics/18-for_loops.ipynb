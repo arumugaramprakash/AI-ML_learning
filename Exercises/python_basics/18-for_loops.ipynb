{
 "cells": [
  {
   "cell_type": "code",
   "execution_count": null,
   "id": "707dbd2d",
   "metadata": {},
   "outputs": [],
   "source": [
    "# for loop in python is used to iterate over a sequence (list, tuple etc.) and execute a block of code for each iteration.\n",
    "\n",
    "# for <variable> in <sequence>:\n",
    "#   <block_of_code which needs to be iterated over the sequence>\n",
    "\n",
    "# for <looping index variable> in <exclusive upper bound>\n",
    "#   <block_of_code which needs to be executed for each iteration of the loop>\n",
    "\n",
    "# syntx for range is range(<start\"optional\">,<end\"exclusive upper bound\">))\n",
    "# range function is used to generate a sequence of numbers starting from <start> and ending at <end-1>."
   ]
  },
  {
   "cell_type": "code",
   "execution_count": null,
   "id": "3a77ca4f",
   "metadata": {},
   "outputs": [
    {
     "name": "stdout",
     "output_type": "stream",
     "text": [
      "0\n",
      "1\n",
      "2\n",
      "3\n",
      "4\n",
      "5\n"
     ]
    }
   ],
   "source": [
    "for i in range(6):\n",
    "    print(i) # This will print numbers from 0 to 5.\n"
   ]
  },
  {
   "cell_type": "code",
   "execution_count": null,
   "id": "d8401475",
   "metadata": {},
   "outputs": [
    {
     "name": "stdout",
     "output_type": "stream",
     "text": [
      "4\n",
      "5\n",
      "6\n",
      "7\n",
      "8\n",
      "9\n",
      "10\n"
     ]
    }
   ],
   "source": [
    "for i in range(4,11):\n",
    "    print(i) # This will print numbers from 4 to 10."
   ]
  },
  {
   "cell_type": "code",
   "execution_count": null,
   "id": "5665664c",
   "metadata": {},
   "outputs": [
    {
     "name": "stdout",
     "output_type": "stream",
     "text": [
      "4 16\n",
      "5 25\n",
      "6 36\n",
      "7 49\n",
      "8 64\n",
      "9 81\n",
      "10 100\n"
     ]
    }
   ],
   "source": [
    "for i in range(4,11):\n",
    "    print(i,i**2) # This will print numbers from 4 to 10 and also print the square of each number."
   ]
  },
  {
   "cell_type": "code",
   "execution_count": null,
   "id": "790f7414",
   "metadata": {},
   "outputs": [
    {
     "name": "stdout",
     "output_type": "stream",
     "text": [
      "iteration 0 has a value of 3.0\n",
      "iteration 1 has a value of 3.6714285714285717\n",
      "iteration 2 has a value of 4.342857142857143\n",
      "iteration 3 has a value of 5.014285714285714\n",
      "iteration 4 has a value of 5.685714285714286\n",
      "iteration 5 has a value of 6.357142857142858\n",
      "iteration 6 has a value of 7.0285714285714285\n",
      "iteration 7 has a value of 7.7\n",
      "iteration 8 has a value of 8.371428571428572\n",
      "iteration 9 has a value of 9.042857142857144\n",
      "iteration 10 has a value of 9.714285714285715\n",
      "iteration 11 has a value of 10.385714285714286\n",
      "iteration 12 has a value of 11.057142857142857\n",
      "iteration 13 has a value of 11.72857142857143\n",
      "iteration 14 has a value of 12.4\n",
      "iteration 15 has a value of 13.071428571428573\n",
      "iteration 16 has a value of 13.742857142857144\n",
      "iteration 17 has a value of 14.414285714285715\n",
      "iteration 18 has a value of 15.085714285714287\n",
      "iteration 19 has a value of 15.757142857142858\n",
      "iteration 20 has a value of 16.42857142857143\n",
      "iteration 21 has a value of 17.1\n"
     ]
    }
   ],
   "source": [
    "import numpy as np\n",
    "\n",
    "numbers = np.linspace(3,17.1,22)\n",
    "\n",
    "for i in range(len(numbers)): # This loop iterates over each element in the numbers array.\n",
    "    x=numbers[i]\n",
    "    print('iteration',i,'has a value of',x) # This will print the iteration number and its corresponding value from 3 to 17.1 with 22 equally spaced points between these two numbers.\n"
   ]
  },
  {
   "cell_type": "code",
   "execution_count": null,
   "id": "98105767",
   "metadata": {},
   "outputs": [
    {
     "name": "stdout",
     "output_type": "stream",
     "text": [
      "0\n",
      "1\n",
      "2\n",
      "3\n",
      "4\n",
      "5\n",
      "6\n",
      "7\n",
      "8\n",
      "9\n",
      "10\n",
      "11\n",
      "12\n",
      "13\n",
      "14\n",
      "15\n",
      "16\n",
      "17\n",
      "18\n",
      "19\n",
      "20\n",
      "21\n"
     ]
    }
   ],
   "source": [
    "for i in range(len(numbers)): # This loop iterates over each index in the numbers\n",
    "    print(i)"
   ]
  },
  {
   "cell_type": "code",
   "execution_count": null,
   "id": "da1e7cf9",
   "metadata": {},
   "outputs": [
    {
     "name": "stdout",
     "output_type": "stream",
     "text": [
      "3.0\n",
      "3.6714285714285717\n",
      "4.342857142857143\n",
      "5.014285714285714\n",
      "5.685714285714286\n",
      "6.357142857142858\n",
      "7.0285714285714285\n",
      "7.7\n",
      "8.371428571428572\n",
      "9.042857142857144\n",
      "9.714285714285715\n",
      "10.385714285714286\n",
      "11.057142857142857\n",
      "11.72857142857143\n",
      "12.4\n",
      "13.071428571428573\n",
      "13.742857142857144\n",
      "14.414285714285715\n",
      "15.085714285714287\n",
      "15.757142857142858\n",
      "16.42857142857143\n",
      "17.1\n"
     ]
    }
   ],
   "source": [
    "for i in numbers: # This loop iterates over each element in the numbers\n",
    "    print(i)\n",
    "    "
   ]
  },
  {
   "cell_type": "code",
   "execution_count": null,
   "id": "ba20a4e8",
   "metadata": {},
   "outputs": [
    {
     "name": "stdout",
     "output_type": "stream",
     "text": [
      "even number\n",
      "even number\n",
      "even number\n",
      "even number\n",
      "even number\n",
      "even number\n",
      "even number\n",
      "even number\n",
      "even number\n"
     ]
    }
   ],
   "source": [
    "# embed multiple flow control statements\n",
    "for n in range(18):\n",
    "    if n%2==0: # if the remainder is zero then it's divisible by 2, if the remainder is not zero then it's not divisible.\n",
    "        print(n,\"is an even number\")\n",
    "    else:\n",
    "        print(n,\"is an odd number\")\n"
   ]
  },
  {
   "cell_type": "code",
   "execution_count": 24,
   "id": "903370ee",
   "metadata": {},
   "outputs": [
    {
     "data": {
      "text/plain": [
       "[0, 1, 1, 2, 3, 5, 8, 13, 21, 34, 55, 89, 144]"
      ]
     },
     "execution_count": 24,
     "metadata": {},
     "output_type": "execute_result"
    }
   ],
   "source": [
    "# exercise \n",
    "# fibanocci series: [0,1,1,2,3,5,8,13,...]\n",
    "# create a function that reports the fibanocci series  for input n\n",
    "\n",
    "\n",
    "# fibanocci(7) # output: 13\n",
    "# a = [0]\n",
    "# insert a new element to the list with a function so that it can be iterated\n",
    "# a = a + [1]\n",
    "# a\n",
    "\n",
    "def fibanocci(n):\n",
    "    fib = []\n",
    "    for i in range(n):\n",
    "        if i == 0:\n",
    "            fib.append(0)\n",
    "        elif i == 1:\n",
    "            fib.append(1)\n",
    "        else:\n",
    "            fib = fib + [fib[-1]+fib[-2]]\n",
    "    return fib\n",
    "\n",
    "fibanocci(13)"
   ]
  },
  {
   "cell_type": "code",
   "execution_count": 27,
   "id": "0ea9cee3",
   "metadata": {},
   "outputs": [
    {
     "data": {
      "text/plain": [
       "[0, 1, 1, 2, 3, 5, 8, 13, 21, 34, 55, 89, 144]"
      ]
     },
     "execution_count": 27,
     "metadata": {},
     "output_type": "execute_result"
    }
   ],
   "source": [
    "# creating a fibanocci closest to the inputed number x\n",
    "def fibanocci(x):\n",
    "    fib = []\n",
    "    for i in range (x):\n",
    "        if i == 0:\n",
    "            fib.append(0)\n",
    "        elif i == 1:\n",
    "            fib.append(1)\n",
    "        else:\n",
    "            fib = fib + [fib[-1]+fib[-2]]\n",
    "        if fib[-1]>x:\n",
    "            break\n",
    "    return fib\n",
    "\n",
    "fibanocci(100)\n"
   ]
  }
 ],
 "metadata": {
  "kernelspec": {
   "display_name": ".venv",
   "language": "python",
   "name": "python3"
  },
  "language_info": {
   "codemirror_mode": {
    "name": "ipython",
    "version": 3
   },
   "file_extension": ".py",
   "mimetype": "text/x-python",
   "name": "python",
   "nbconvert_exporter": "python",
   "pygments_lexer": "ipython3",
   "version": "3.10.6"
  }
 },
 "nbformat": 4,
 "nbformat_minor": 5
}
