{
 "cells": [
  {
   "cell_type": "code",
   "execution_count": 1,
   "id": "73c940d2",
   "metadata": {},
   "outputs": [
    {
     "name": "stdout",
     "output_type": "stream",
     "text": [
      "0.504106144883867\n",
      "[-0.61537347 -0.86395902 -1.17186647 -0.08989277  0.22976203]\n",
      "[[ 1.07279708  0.34347137  2.14010544  0.80438705]\n",
      " [ 1.80344383 -0.01855171  2.81351615  0.08146149]\n",
      " [ 0.26564265 -1.08664646 -0.00693479 -0.13348097]]\n",
      "[22.71549129 18.61174423 19.65012376 18.72666315 26.238015   23.9797802\n",
      " 23.85982363 24.41464691 17.06709248 20.77854742]\n"
     ]
    }
   ],
   "source": [
    "import numpy as np\n",
    "import pandas as pd\n",
    "\n",
    "# create a random data\n",
    "print(np.random.randn()) # creates a random number of standard normal distribution with mean 0 and std 1\n",
    "print(np.random.randn(5)) # creates a random vector of 5 numbers\n",
    "print(np.random.randn(3, 4)) # creates a random matrix of 3 rows and 4 columns\n",
    "print(np.random.randn(10)*5+20) # creates a random vector of 10 numbers with mean 20 and std 5"
   ]
  },
  {
   "cell_type": "code",
   "execution_count": 3,
   "id": "70d956c1",
   "metadata": {},
   "outputs": [
    {
     "name": "stdout",
     "output_type": "stream",
     "text": [
      "[25.48107555 16.36690633 23.04919013 16.56413981 12.97540709 22.90751205\n",
      " 20.4336432  19.33792806  4.31116991 15.51692628]\n",
      "[ True  True  True  True False False  True False False  True]\n",
      "{'Temp (C)': array([25.48107555, 16.36690633, 23.04919013, 16.56413981, 12.97540709,\n",
      "       22.90751205, 20.4336432 , 19.33792806,  4.31116991, 15.51692628]), 'Ice Cream': array([ True,  True,  True,  True, False, False,  True, False, False,\n",
      "        True])}\n",
      "    Temp (C)  Ice Cream\n",
      "0  25.481076       True\n",
      "1  16.366906       True\n",
      "2  23.049190       True\n",
      "3  16.564140       True\n",
      "4  12.975407      False\n",
      "5  22.907512      False\n",
      "6  20.433643       True\n",
      "7  19.337928      False\n",
      "8   4.311170      False\n",
      "9  15.516926       True\n",
      "<class 'pandas.core.frame.DataFrame'>\n"
     ]
    }
   ],
   "source": [
    "# createa random data\n",
    "var1 = np.random.randn(10)*5+20\n",
    "var2 = np.random.randn(10)>0 # creates a random vector of 100 boolean values\n",
    "\n",
    "print(var1)\n",
    "print(var2)\n",
    "\n",
    "# variable labels\n",
    "labels = ['Temp (C)', 'Ice Cream']\n",
    "\n",
    "# create a dictionary from the random data on wether a person eats ice cream or not during every temperature\n",
    "D = {labels[0]: var1, labels[1]: var2}\n",
    "print(D)\n",
    "\n",
    "# import the data into a pandas dataframe\n",
    "df = pd.DataFrame(D)\n",
    "print(df)\n",
    "print(type(df))"
   ]
  },
  {
   "cell_type": "code",
   "execution_count": 5,
   "id": "554042d1",
   "metadata": {},
   "outputs": [
    {
     "data": {
      "text/html": [
       "<div>\n",
       "<style scoped>\n",
       "    .dataframe tbody tr th:only-of-type {\n",
       "        vertical-align: middle;\n",
       "    }\n",
       "\n",
       "    .dataframe tbody tr th {\n",
       "        vertical-align: top;\n",
       "    }\n",
       "\n",
       "    .dataframe thead th {\n",
       "        text-align: right;\n",
       "    }\n",
       "</style>\n",
       "<table border=\"1\" class=\"dataframe\">\n",
       "  <thead>\n",
       "    <tr style=\"text-align: right;\">\n",
       "      <th></th>\n",
       "      <th>Temp (C)</th>\n",
       "      <th>Ice Cream</th>\n",
       "    </tr>\n",
       "  </thead>\n",
       "  <tbody>\n",
       "    <tr>\n",
       "      <th>0</th>\n",
       "      <td>25.481076</td>\n",
       "      <td>True</td>\n",
       "    </tr>\n",
       "    <tr>\n",
       "      <th>1</th>\n",
       "      <td>16.366906</td>\n",
       "      <td>True</td>\n",
       "    </tr>\n",
       "    <tr>\n",
       "      <th>2</th>\n",
       "      <td>23.049190</td>\n",
       "      <td>True</td>\n",
       "    </tr>\n",
       "    <tr>\n",
       "      <th>3</th>\n",
       "      <td>16.564140</td>\n",
       "      <td>True</td>\n",
       "    </tr>\n",
       "    <tr>\n",
       "      <th>4</th>\n",
       "      <td>12.975407</td>\n",
       "      <td>False</td>\n",
       "    </tr>\n",
       "  </tbody>\n",
       "</table>\n",
       "</div>"
      ],
      "text/plain": [
       "    Temp (C)  Ice Cream\n",
       "0  25.481076       True\n",
       "1  16.366906       True\n",
       "2  23.049190       True\n",
       "3  16.564140       True\n",
       "4  12.975407      False"
      ]
     },
     "execution_count": 5,
     "metadata": {},
     "output_type": "execute_result"
    }
   ],
   "source": [
    "df.head() # shows the first 5 rows of the dataframe"
   ]
  },
  {
   "cell_type": "code",
   "execution_count": null,
   "id": "9d76fe15",
   "metadata": {},
   "outputs": [
    {
     "data": {
      "text/plain": [
       "Temp (C)     10\n",
       "Ice Cream    10\n",
       "dtype: int64"
      ]
     },
     "execution_count": 6,
     "metadata": {},
     "output_type": "execute_result"
    }
   ],
   "source": [
    "df.count() # counts the number of non-null values in each row"
   ]
  },
  {
   "cell_type": "code",
   "execution_count": 7,
   "id": "db0b3811",
   "metadata": {},
   "outputs": [
    {
     "data": {
      "text/plain": [
       "Temp (C)     17.69439\n",
       "Ice Cream     0.60000\n",
       "dtype: float64"
      ]
     },
     "execution_count": 7,
     "metadata": {},
     "output_type": "execute_result"
    }
   ],
   "source": [
    "df.mean() # calculates the mean of each column in the dataframe"
   ]
  },
  {
   "cell_type": "code",
   "execution_count": 8,
   "id": "456cdddc",
   "metadata": {},
   "outputs": [
    {
     "data": {
      "text/plain": [
       "Temp (C)     6.108720\n",
       "Ice Cream    0.516398\n",
       "dtype: float64"
      ]
     },
     "execution_count": 8,
     "metadata": {},
     "output_type": "execute_result"
    }
   ],
   "source": [
    "df.std() # calculates the standard deviation of each column"
   ]
  },
  {
   "cell_type": "code",
   "execution_count": 10,
   "id": "db6b20a3",
   "metadata": {},
   "outputs": [
    {
     "data": {
      "text/html": [
       "<div>\n",
       "<style scoped>\n",
       "    .dataframe tbody tr th:only-of-type {\n",
       "        vertical-align: middle;\n",
       "    }\n",
       "\n",
       "    .dataframe tbody tr th {\n",
       "        vertical-align: top;\n",
       "    }\n",
       "\n",
       "    .dataframe thead th {\n",
       "        text-align: right;\n",
       "    }\n",
       "</style>\n",
       "<table border=\"1\" class=\"dataframe\">\n",
       "  <thead>\n",
       "    <tr style=\"text-align: right;\">\n",
       "      <th></th>\n",
       "      <th>Temp (C)</th>\n",
       "    </tr>\n",
       "  </thead>\n",
       "  <tbody>\n",
       "    <tr>\n",
       "      <th>count</th>\n",
       "      <td>10.000000</td>\n",
       "    </tr>\n",
       "    <tr>\n",
       "      <th>mean</th>\n",
       "      <td>17.694390</td>\n",
       "    </tr>\n",
       "    <tr>\n",
       "      <th>std</th>\n",
       "      <td>6.108720</td>\n",
       "    </tr>\n",
       "    <tr>\n",
       "      <th>min</th>\n",
       "      <td>4.311170</td>\n",
       "    </tr>\n",
       "    <tr>\n",
       "      <th>25%</th>\n",
       "      <td>15.729421</td>\n",
       "    </tr>\n",
       "    <tr>\n",
       "      <th>50%</th>\n",
       "      <td>17.951034</td>\n",
       "    </tr>\n",
       "    <tr>\n",
       "      <th>75%</th>\n",
       "      <td>22.289045</td>\n",
       "    </tr>\n",
       "    <tr>\n",
       "      <th>max</th>\n",
       "      <td>25.481076</td>\n",
       "    </tr>\n",
       "  </tbody>\n",
       "</table>\n",
       "</div>"
      ],
      "text/plain": [
       "        Temp (C)\n",
       "count  10.000000\n",
       "mean   17.694390\n",
       "std     6.108720\n",
       "min     4.311170\n",
       "25%    15.729421\n",
       "50%    17.951034\n",
       "75%    22.289045\n",
       "max    25.481076"
      ]
     },
     "execution_count": 10,
     "metadata": {},
     "output_type": "execute_result"
    }
   ],
   "source": [
    "df.describe() # provides a summary of the dataframe"
   ]
  },
  {
   "cell_type": "code",
   "execution_count": 15,
   "id": "3ef4c02e",
   "metadata": {},
   "outputs": [
    {
     "name": "stdout",
     "output_type": "stream",
     "text": [
      "   Integer  Square       Log\n",
      "0        1       1  0.000000\n",
      "1        2       4  0.693147\n",
      "2        3       9  1.098612\n",
      "3        4      16  1.386294\n",
      "4        5      25  1.609438\n",
      "5        6      36  1.791759\n",
      "6        7      49  1.945910\n",
      "7        8      64  2.079442\n",
      "8        9      81  2.197225\n"
     ]
    }
   ],
   "source": [
    "# create a pandas data frame with:\n",
    "# integers going from 0 to 10, thier square, and thier log\n",
    "var1 = range (1,10)\n",
    "var2 = [num**2 for num in var1] \n",
    "var3 = np.log(var1)\n",
    "\n",
    "labels = ['Integer', 'Square', 'Log']\n",
    "\n",
    "D = {labels[0]: var1, labels[1]: var2, labels[2]: var3}\n",
    "df = pd.DataFrame(D)\n",
    "print(df)\n"
   ]
  },
  {
   "cell_type": "code",
   "execution_count": null,
   "id": "8ef35121",
   "metadata": {},
   "outputs": [
    {
     "data": {
      "text/html": [
       "<div>\n",
       "<style scoped>\n",
       "    .dataframe tbody tr th:only-of-type {\n",
       "        vertical-align: middle;\n",
       "    }\n",
       "\n",
       "    .dataframe tbody tr th {\n",
       "        vertical-align: top;\n",
       "    }\n",
       "\n",
       "    .dataframe thead th {\n",
       "        text-align: right;\n",
       "    }\n",
       "</style>\n",
       "<table border=\"1\" class=\"dataframe\">\n",
       "  <thead>\n",
       "    <tr style=\"text-align: right;\">\n",
       "      <th></th>\n",
       "      <th>Number</th>\n",
       "      <th>Square</th>\n",
       "      <th>Log</th>\n",
       "    </tr>\n",
       "  </thead>\n",
       "  <tbody>\n",
       "    <tr>\n",
       "      <th>0</th>\n",
       "      <td>1</td>\n",
       "      <td>1</td>\n",
       "      <td>0.000000</td>\n",
       "    </tr>\n",
       "    <tr>\n",
       "      <th>1</th>\n",
       "      <td>2</td>\n",
       "      <td>4</td>\n",
       "      <td>0.693147</td>\n",
       "    </tr>\n",
       "    <tr>\n",
       "      <th>2</th>\n",
       "      <td>3</td>\n",
       "      <td>9</td>\n",
       "      <td>1.098612</td>\n",
       "    </tr>\n",
       "    <tr>\n",
       "      <th>3</th>\n",
       "      <td>4</td>\n",
       "      <td>16</td>\n",
       "      <td>1.386294</td>\n",
       "    </tr>\n",
       "    <tr>\n",
       "      <th>4</th>\n",
       "      <td>5</td>\n",
       "      <td>25</td>\n",
       "      <td>1.609438</td>\n",
       "    </tr>\n",
       "    <tr>\n",
       "      <th>5</th>\n",
       "      <td>6</td>\n",
       "      <td>36</td>\n",
       "      <td>1.791759</td>\n",
       "    </tr>\n",
       "    <tr>\n",
       "      <th>6</th>\n",
       "      <td>7</td>\n",
       "      <td>49</td>\n",
       "      <td>1.945910</td>\n",
       "    </tr>\n",
       "    <tr>\n",
       "      <th>7</th>\n",
       "      <td>8</td>\n",
       "      <td>64</td>\n",
       "      <td>2.079442</td>\n",
       "    </tr>\n",
       "    <tr>\n",
       "      <th>8</th>\n",
       "      <td>9</td>\n",
       "      <td>81</td>\n",
       "      <td>2.197225</td>\n",
       "    </tr>\n",
       "  </tbody>\n",
       "</table>\n",
       "</div>"
      ],
      "text/plain": [
       "   Number  Square       Log\n",
       "0       1       1  0.000000\n",
       "1       2       4  0.693147\n",
       "2       3       9  1.098612\n",
       "3       4      16  1.386294\n",
       "4       5      25  1.609438\n",
       "5       6      36  1.791759\n",
       "6       7      49  1.945910\n",
       "7       8      64  2.079442\n",
       "8       9      81  2.197225"
      ]
     },
     "execution_count": 16,
     "metadata": {},
     "output_type": "execute_result"
    }
   ],
   "source": [
    "num = np.array(range(1, 10))\n",
    "df = pd.DataFrame({'Number': num, 'Square':num**2, 'Log':np.log(num)}) \n",
    "df"
   ]
  }
 ],
 "metadata": {
  "kernelspec": {
   "display_name": ".venv",
   "language": "python",
   "name": "python3"
  },
  "language_info": {
   "codemirror_mode": {
    "name": "ipython",
    "version": 3
   },
   "file_extension": ".py",
   "mimetype": "text/x-python",
   "name": "python",
   "nbconvert_exporter": "python",
   "pygments_lexer": "ipython3",
   "version": "3.10.6"
  }
 },
 "nbformat": 4,
 "nbformat_minor": 5
}
