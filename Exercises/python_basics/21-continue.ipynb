{
 "cells": [
  {
   "cell_type": "code",
   "execution_count": null,
   "id": "0f32b809",
   "metadata": {},
   "outputs": [
    {
     "name": "stdout",
     "output_type": "stream",
     "text": [
      "1\n",
      "3\n",
      "5\n",
      "7\n",
      "9\n"
     ]
    }
   ],
   "source": [
    "# to skip next steps inside a loop\n",
    "for i in range(10):\n",
    "    if i%2==0:\n",
    "        continue # skip the rest of this iteration\n",
    "    print(i) # prints the odd numbers and skips the even numbers\n",
    "    "
   ]
  },
  {
   "cell_type": "code",
   "execution_count": null,
   "id": "bea89170",
   "metadata": {},
   "outputs": [],
   "source": [
    "# for i in range(10):\n",
    "#   if data file already exists\n",
    "#       continue\n",
    "#   100s of lines of code to process data file..."
   ]
  },
  {
   "cell_type": "code",
   "execution_count": 7,
   "id": "96898860",
   "metadata": {},
   "outputs": [
    {
     "name": "stdout",
     "output_type": "stream",
     "text": [
      "H\n",
      "l\n",
      "l\n",
      ",\n",
      " \n",
      "m\n",
      "y\n",
      " \n",
      "n\n",
      "m\n",
      " \n",
      "s\n",
      " \n",
      "R\n",
      "P\n"
     ]
    }
   ],
   "source": [
    "text = \"HellO, my name is ARP\"\n",
    "for i in text:\n",
    "    if i in 'aeiou' or i in 'AEIOU':\n",
    "        continue\n",
    "    print(i)"
   ]
  },
  {
   "cell_type": "code",
   "execution_count": 8,
   "id": "03aad4ef",
   "metadata": {},
   "outputs": [
    {
     "name": "stdout",
     "output_type": "stream",
     "text": [
      "Hll, my nm s RP"
     ]
    }
   ],
   "source": [
    "for i in text:\n",
    "    if i.lower() in 'aeiou': # check for lowercase vowels\n",
    "        continue\n",
    "    print(i, end='')"
   ]
  }
 ],
 "metadata": {
  "kernelspec": {
   "display_name": ".venv",
   "language": "python",
   "name": "python3"
  },
  "language_info": {
   "codemirror_mode": {
    "name": "ipython",
    "version": 3
   },
   "file_extension": ".py",
   "mimetype": "text/x-python",
   "name": "python",
   "nbconvert_exporter": "python",
   "pygments_lexer": "ipython3",
   "version": "3.10.6"
  }
 },
 "nbformat": 4,
 "nbformat_minor": 5
}
