{
 "cells": [
  {
   "cell_type": "code",
   "execution_count": 234,
   "id": "cfd089e6",
   "metadata": {},
   "outputs": [
    {
     "data": {
      "text/plain": [
       "range(5, 11)"
      ]
     },
     "execution_count": 234,
     "metadata": {},
     "output_type": "execute_result"
    }
   ],
   "source": [
    "# slicing in python\n",
    "# new datatype range\n",
    "a = range(5,11)\n",
    "a"
   ]
  },
  {
   "cell_type": "code",
   "execution_count": 235,
   "id": "a45201b5",
   "metadata": {},
   "outputs": [
    {
     "data": {
      "text/plain": [
       "range"
      ]
     },
     "execution_count": 235,
     "metadata": {},
     "output_type": "execute_result"
    }
   ],
   "source": [
    "type(a)"
   ]
  },
  {
   "cell_type": "code",
   "execution_count": 236,
   "id": "51acff82",
   "metadata": {},
   "outputs": [
    {
     "data": {
      "text/plain": [
       "[5, 6, 7, 8, 9, 10]"
      ]
     },
     "execution_count": 236,
     "metadata": {},
     "output_type": "execute_result"
    }
   ],
   "source": [
    "# type case range to list\n",
    "a = list(range(5,11)) # 11 is not included, the upper bound is always exclusive\n",
    "a"
   ]
  },
  {
   "cell_type": "code",
   "execution_count": 237,
   "id": "5bbb9290",
   "metadata": {},
   "outputs": [
    {
     "data": {
      "text/plain": [
       "[5, 6, 7]"
      ]
     },
     "execution_count": 237,
     "metadata": {},
     "output_type": "execute_result"
    }
   ],
   "source": [
    "# slicing\n",
    "a[0:3] # start index : end index (exclusive)"
   ]
  },
  {
   "cell_type": "code",
   "execution_count": 238,
   "id": "e08d6087",
   "metadata": {},
   "outputs": [
    {
     "data": {
      "text/plain": [
       "[5, 6, 7]"
      ]
     },
     "execution_count": 238,
     "metadata": {},
     "output_type": "execute_result"
    }
   ],
   "source": [
    "a[:3] # if you don't specify the starting index it starts from 0"
   ]
  },
  {
   "cell_type": "code",
   "execution_count": 252,
   "id": "9c6e4b2c",
   "metadata": {},
   "outputs": [
    {
     "data": {
      "text/plain": [
       "[9, 10]"
      ]
     },
     "execution_count": 252,
     "metadata": {},
     "output_type": "execute_result"
    }
   ],
   "source": [
    "a[4:] # if you don't specify the ending index, it goes till the last element of the list"
   ]
  },
  {
   "cell_type": "code",
   "execution_count": 254,
   "id": "d0b45ed5",
   "metadata": {},
   "outputs": [
    {
     "data": {
      "text/plain": [
       "[5, 7, 9]"
      ]
     },
     "execution_count": 254,
     "metadata": {},
     "output_type": "execute_result"
    }
   ],
   "source": [
    "a[::2] # step argument, take every second element in the range] (even indices)"
   ]
  },
  {
   "cell_type": "code",
   "execution_count": 241,
   "id": "b57eb2af",
   "metadata": {},
   "outputs": [
    {
     "data": {
      "text/plain": [
       "[6, 8, 10]"
      ]
     },
     "execution_count": 241,
     "metadata": {},
     "output_type": "execute_result"
    }
   ],
   "source": [
    "a[1::2] # start at index 1 and then take every second element after that (odd indices)"
   ]
  },
  {
   "cell_type": "code",
   "execution_count": 242,
   "id": "bc43a1d5",
   "metadata": {},
   "outputs": [
    {
     "data": {
      "text/plain": [
       "[6, 10]"
      ]
     },
     "execution_count": 242,
     "metadata": {},
     "output_type": "execute_result"
    }
   ],
   "source": [
    "a[1::4] # start at index 1 and then take every fourth element after that"
   ]
  },
  {
   "cell_type": "code",
   "execution_count": 243,
   "id": "f05bb3ad",
   "metadata": {},
   "outputs": [
    {
     "data": {
      "text/plain": [
       "[6]"
      ]
     },
     "execution_count": 243,
     "metadata": {},
     "output_type": "execute_result"
    }
   ],
   "source": [
    "a[1::5] # start at index 1 and then take every fifth element after that (as there is no 5th element, it returns only the first element)"
   ]
  },
  {
   "cell_type": "code",
   "execution_count": 244,
   "id": "fb89b076",
   "metadata": {},
   "outputs": [
    {
     "data": {
      "text/plain": [
       "[5, 7]"
      ]
     },
     "execution_count": 244,
     "metadata": {},
     "output_type": "execute_result"
    }
   ],
   "source": [
    "start = 0\n",
    "stop = 3\n",
    "skip = 2\n",
    "a[start:stop:skip] # slicing with step argument here the skip is optional"
   ]
  },
  {
   "cell_type": "code",
   "execution_count": 245,
   "id": "7fc49785",
   "metadata": {},
   "outputs": [
    {
     "data": {
      "text/plain": [
       "10"
      ]
     },
     "execution_count": 245,
     "metadata": {},
     "output_type": "execute_result"
    }
   ],
   "source": [
    "a[-1] # negative indexing - start counting from the end of the list"
   ]
  },
  {
   "cell_type": "code",
   "execution_count": 246,
   "id": "32587b86",
   "metadata": {},
   "outputs": [
    {
     "data": {
      "text/plain": [
       "[5, 6, 7, 8]"
      ]
     },
     "execution_count": 246,
     "metadata": {},
     "output_type": "execute_result"
    }
   ],
   "source": [
    "a[:-2] # exclude the last two elements"
   ]
  },
  {
   "cell_type": "code",
   "execution_count": 247,
   "id": "d7e6e4e3",
   "metadata": {},
   "outputs": [
    {
     "data": {
      "text/plain": [
       "[10, 9, 8, 7, 6, 5]"
      ]
     },
     "execution_count": 247,
     "metadata": {},
     "output_type": "execute_result"
    }
   ],
   "source": [
    "a[::-1] # reverse a list using slicing"
   ]
  },
  {
   "cell_type": "code",
   "execution_count": 255,
   "id": "122bbc4b",
   "metadata": {},
   "outputs": [
    {
     "data": {
      "text/plain": [
       "'ARP is a nice guy'"
      ]
     },
     "execution_count": 255,
     "metadata": {},
     "output_type": "execute_result"
    }
   ],
   "source": [
    "# exercise\n",
    "text = '345fyug ecin a si PRA 93845d'\n",
    "# use slicing to write \"ARP is a nice guy\" from the list text\n",
    "x=text[4:-7]\n",
    "x[::-1]\n",
    "text[4:-7][::-1]"
   ]
  },
  {
   "cell_type": "code",
   "execution_count": 258,
   "id": "5f32f0ed",
   "metadata": {},
   "outputs": [
    {
     "data": {
      "text/plain": [
       "'ARP is a nice guy'"
      ]
     },
     "execution_count": 258,
     "metadata": {},
     "output_type": "execute_result"
    }
   ],
   "source": [
    "text[-8:3:-1]"
   ]
  },
  {
   "cell_type": "code",
   "execution_count": 249,
   "id": "ff085334",
   "metadata": {},
   "outputs": [
    {
     "name": "stdout",
     "output_type": "stream",
     "text": [
      "<class 'str'>\n",
      "<class 'list'>\n"
     ]
    }
   ],
   "source": [
    "print(type(text))\n",
    "print(type(a))"
   ]
  }
 ],
 "metadata": {
  "kernelspec": {
   "display_name": ".venv",
   "language": "python",
   "name": "python3"
  },
  "language_info": {
   "codemirror_mode": {
    "name": "ipython",
    "version": 3
   },
   "file_extension": ".py",
   "mimetype": "text/x-python",
   "name": "python",
   "nbconvert_exporter": "python",
   "pygments_lexer": "ipython3",
   "version": "3.10.6"
  }
 },
 "nbformat": 4,
 "nbformat_minor": 5
}
