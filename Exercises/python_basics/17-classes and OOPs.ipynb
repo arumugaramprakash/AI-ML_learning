{
 "cells": [
  {
   "cell_type": "code",
   "execution_count": 1,
   "id": "4d549a3e",
   "metadata": {},
   "outputs": [],
   "source": [
    "# classes and object oriented programming OOPs.\n",
    "# class: blueprint for creating a set of attributes and methods.\n",
    "# instance: an object created from a class. \n",
    "\n",
    "class model(object):\n",
    "    # Constructor method\n",
    "    def __init__(self,numlayers,numunits,name):\n",
    "        self.layers     = numlayers # attribute\n",
    "        self.units      = numunits\n",
    "        self.name       = name\n",
    "        self.weights    = 1\n",
    "    def howManyUnits(self): # method\n",
    "        totalUnits = self.layers * self.units\n",
    "        print(f'There are {totalUnits} units in the model.')\n",
    "    def trainTheModel(self,x):\n",
    "        self.weights += x\n",
    "        return self.weights\n",
    "    def __str__(self):\n",
    "        return f'This is a {self.name} architecture.'"
   ]
  },
  {
   "cell_type": "code",
   "execution_count": 2,
   "id": "30479fab",
   "metadata": {},
   "outputs": [],
   "source": [
    "m1 = model(2,5,'CNN') # m1 is an instance of class model"
   ]
  },
  {
   "cell_type": "code",
   "execution_count": 3,
   "id": "2b445e72",
   "metadata": {},
   "outputs": [
    {
     "data": {
      "text/plain": [
       "<__main__.model at 0x204e39a9360>"
      ]
     },
     "execution_count": 3,
     "metadata": {},
     "output_type": "execute_result"
    }
   ],
   "source": [
    "m1"
   ]
  },
  {
   "cell_type": "code",
   "execution_count": 4,
   "id": "f7adad26",
   "metadata": {},
   "outputs": [
    {
     "name": "stdout",
     "output_type": "stream",
     "text": [
      "There are 10 units in the model.\n"
     ]
    }
   ],
   "source": [
    "m1.howManyUnits()"
   ]
  },
  {
   "cell_type": "code",
   "execution_count": 5,
   "id": "dca3331f",
   "metadata": {},
   "outputs": [
    {
     "name": "stdout",
     "output_type": "stream",
     "text": [
      "There are 60 units in the model.\n"
     ]
    }
   ],
   "source": [
    "m1 = model(12,5,'CNN')\n",
    "m1.howManyUnits()"
   ]
  },
  {
   "cell_type": "code",
   "execution_count": 6,
   "id": "9e1e70d7",
   "metadata": {},
   "outputs": [
    {
     "data": {
      "text/plain": [
       "3.5"
      ]
     },
     "execution_count": 6,
     "metadata": {},
     "output_type": "execute_result"
    }
   ],
   "source": [
    "m1.trainTheModel(2.5)"
   ]
  },
  {
   "cell_type": "code",
   "execution_count": 7,
   "id": "cb8b61a2",
   "metadata": {},
   "outputs": [
    {
     "data": {
      "text/plain": [
       "'This is a CNN architecture.'"
      ]
     },
     "execution_count": 7,
     "metadata": {},
     "output_type": "execute_result"
    }
   ],
   "source": [
    "str(m1)"
   ]
  },
  {
   "cell_type": "code",
   "execution_count": null,
   "id": "7e515c33",
   "metadata": {},
   "outputs": [],
   "source": [
    "# Exercise: Create a new class\n",
    "# 1) weights should be a random number matrix of size layers * units\n",
    "# 2) change training method to multiply input X and add input Y"
   ]
  },
  {
   "cell_type": "code",
   "execution_count": 26,
   "id": "2a7ef784",
   "metadata": {},
   "outputs": [],
   "source": [
    "import numpy as np\n",
    "\n",
    "class matrix_model:\n",
    "    # Constructor method\n",
    "    def __init__(self,numlayers,numunits,name):\n",
    "        self.layers     = numlayers # attribute\n",
    "        self.units      = numunits\n",
    "        self.name       = name\n",
    "        self.weights    = np.random.rand(numlayers, numunits)\n",
    "    \n",
    "    def displayWeight(self):\n",
    "        print(\"The weights are: \\n\",self.weights)\n",
    "    def training(self,X,Y):\n",
    "        print(\"The weights before training are: \\n\",self.weights)\n",
    "        self.weights = self.weights * X + Y\n",
    "        print(\"The weights after training are: \\n\",self.weights)\n",
    "    def __str__(self):\n",
    "            return f'This is a {self.name} architecture.'\n",
    "\n"
   ]
  },
  {
   "cell_type": "code",
   "execution_count": 28,
   "id": "04d5af09",
   "metadata": {},
   "outputs": [
    {
     "name": "stdout",
     "output_type": "stream",
     "text": [
      "The weights are: \n",
      " [[0.16689315]\n",
      " [0.97707348]]\n",
      "The weights before training are: \n",
      " [[0.16689315]\n",
      " [0.97707348]]\n",
      "The weights after training are: \n",
      " [[1.01668932]\n",
      " [1.09770735]]\n"
     ]
    },
    {
     "data": {
      "text/plain": [
       "'This is a CNN architecture.'"
      ]
     },
     "execution_count": 28,
     "metadata": {},
     "output_type": "execute_result"
    }
   ],
   "source": [
    "mm1 = matrix_model(2,1,'CNN')\n",
    "mm1.displayWeight()\n",
    "mm1.training(0.1,1)\n",
    "str(mm1)\n"
   ]
  }
 ],
 "metadata": {
  "kernelspec": {
   "display_name": ".venv",
   "language": "python",
   "name": "python3"
  },
  "language_info": {
   "codemirror_mode": {
    "name": "ipython",
    "version": 3
   },
   "file_extension": ".py",
   "mimetype": "text/x-python",
   "name": "python",
   "nbconvert_exporter": "python",
   "pygments_lexer": "ipython3",
   "version": "3.10.6"
  }
 },
 "nbformat": 4,
 "nbformat_minor": 5
}
