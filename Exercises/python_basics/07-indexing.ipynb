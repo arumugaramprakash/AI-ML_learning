{
 "cells": [
  {
   "cell_type": "code",
   "execution_count": 20,
   "id": "fc4c378b",
   "metadata": {},
   "outputs": [
    {
     "data": {
      "text/plain": [
       "-2"
      ]
     },
     "execution_count": 20,
     "metadata": {},
     "output_type": "execute_result"
    }
   ],
   "source": [
    "# index\n",
    "alist = [4, 6, 2, -2, 'qwerty', 10.01]\n",
    "alist[3]"
   ]
  },
  {
   "cell_type": "code",
   "execution_count": 21,
   "id": "f16a059d",
   "metadata": {},
   "outputs": [
    {
     "data": {
      "text/plain": [
       "4"
      ]
     },
     "execution_count": 21,
     "metadata": {},
     "output_type": "execute_result"
    }
   ],
   "source": [
    "alist[0]"
   ]
  },
  {
   "cell_type": "code",
   "execution_count": 22,
   "id": "32bff91f",
   "metadata": {},
   "outputs": [
    {
     "ename": "TypeError",
     "evalue": "list indices must be integers or slices, not float",
     "output_type": "error",
     "traceback": [
      "\u001b[1;31m---------------------------------------------------------------------------\u001b[0m",
      "\u001b[1;31mTypeError\u001b[0m                                 Traceback (most recent call last)",
      "Cell \u001b[1;32mIn[22], line 1\u001b[0m\n\u001b[1;32m----> 1\u001b[0m \u001b[43malist\u001b[49m\u001b[43m[\u001b[49m\u001b[38;5;241;43m4.5\u001b[39;49m\u001b[43m]\u001b[49m \u001b[38;5;66;03m# TypeError: list indices must be integers or slices, not float\u001b[39;00m\n",
      "\u001b[1;31mTypeError\u001b[0m: list indices must be integers or slices, not float"
     ]
    }
   ],
   "source": [
    "alist[4.5] # TypeError: list indices must be integers or slices, not float"
   ]
  },
  {
   "cell_type": "code",
   "execution_count": null,
   "id": "2e94229b",
   "metadata": {},
   "outputs": [
    {
     "ename": "TypeError",
     "evalue": "list indices must be integers or slices, not float",
     "output_type": "error",
     "traceback": [
      "\u001b[1;31m---------------------------------------------------------------------------\u001b[0m",
      "\u001b[1;31mTypeError\u001b[0m                                 Traceback (most recent call last)",
      "Cell \u001b[1;32mIn[10], line 2\u001b[0m\n\u001b[0;32m      1\u001b[0m \u001b[38;5;28mid\u001b[39m\u001b[38;5;241m=\u001b[39m\u001b[38;5;241m4.0\u001b[39m\n\u001b[1;32m----> 2\u001b[0m \u001b[43malist\u001b[49m\u001b[43m[\u001b[49m\u001b[38;5;28;43mid\u001b[39;49m\u001b[43m]\u001b[49m\n",
      "\u001b[1;31mTypeError\u001b[0m: list indices must be integers or slices, not float"
     ]
    }
   ],
   "source": [
    "id=4.0\n",
    "alist[id]"
   ]
  },
  {
   "cell_type": "code",
   "execution_count": null,
   "id": "b4d13664",
   "metadata": {},
   "outputs": [
    {
     "data": {
      "text/plain": [
       "'qwerty'"
      ]
     },
     "execution_count": 12,
     "metadata": {},
     "output_type": "execute_result"
    }
   ],
   "source": [
    "id = 4.0\n",
    "alist[int(id)] # 10.01"
   ]
  },
  {
   "cell_type": "code",
   "execution_count": null,
   "id": "85ed13f4",
   "metadata": {},
   "outputs": [
    {
     "data": {
      "text/plain": [
       "6"
      ]
     },
     "execution_count": 13,
     "metadata": {},
     "output_type": "execute_result"
    }
   ],
   "source": [
    "len(alist)"
   ]
  },
  {
   "cell_type": "code",
   "execution_count": null,
   "id": "3723b959",
   "metadata": {},
   "outputs": [
    {
     "ename": "IndexError",
     "evalue": "list index out of range",
     "output_type": "error",
     "traceback": [
      "\u001b[1;31m---------------------------------------------------------------------------\u001b[0m",
      "\u001b[1;31mIndexError\u001b[0m                                Traceback (most recent call last)",
      "Cell \u001b[1;32mIn[14], line 1\u001b[0m\n\u001b[1;32m----> 1\u001b[0m \u001b[43malist\u001b[49m\u001b[43m[\u001b[49m\u001b[38;5;28;43mlen\u001b[39;49m\u001b[43m(\u001b[49m\u001b[43malist\u001b[49m\u001b[43m)\u001b[49m\u001b[43m]\u001b[49m\n",
      "\u001b[1;31mIndexError\u001b[0m: list index out of range"
     ]
    }
   ],
   "source": [
    "alist[len(alist)]"
   ]
  },
  {
   "cell_type": "code",
   "execution_count": null,
   "id": "3d2f0fc5",
   "metadata": {},
   "outputs": [
    {
     "data": {
      "text/plain": [
       "10.01"
      ]
     },
     "execution_count": 16,
     "metadata": {},
     "output_type": "execute_result"
    }
   ],
   "source": [
    "alist[len(alist)-1] # to get the last element"
   ]
  },
  {
   "cell_type": "code",
   "execution_count": null,
   "id": "9e8b44b0",
   "metadata": {},
   "outputs": [
    {
     "data": {
      "text/plain": [
       "10.01"
      ]
     },
     "execution_count": 17,
     "metadata": {},
     "output_type": "execute_result"
    }
   ],
   "source": [
    "alist[-1] # to get the last element"
   ]
  },
  {
   "cell_type": "code",
   "execution_count": null,
   "id": "3d204100",
   "metadata": {},
   "outputs": [
    {
     "data": {
      "text/plain": [
       "'qwerty'"
      ]
     },
     "execution_count": 19,
     "metadata": {},
     "output_type": "execute_result"
    }
   ],
   "source": [
    "alist[-2] # to get the second-last element"
   ]
  },
  {
   "cell_type": "code",
   "execution_count": null,
   "id": "b10bf6e1",
   "metadata": {},
   "outputs": [
    {
     "ename": "TypeError",
     "evalue": "list indices must be integers or slices, not list",
     "output_type": "error",
     "traceback": [
      "\u001b[1;31m---------------------------------------------------------------------------\u001b[0m",
      "\u001b[1;31mTypeError\u001b[0m                                 Traceback (most recent call last)",
      "Cell \u001b[1;32mIn[24], line 3\u001b[0m\n\u001b[0;32m      1\u001b[0m \u001b[38;5;66;03m# to get 3rd and 5th index\u001b[39;00m\n\u001b[0;32m      2\u001b[0m \u001b[38;5;28mid\u001b[39m \u001b[38;5;241m=\u001b[39m [\u001b[38;5;241m3\u001b[39m,\u001b[38;5;241m5\u001b[39m]\n\u001b[1;32m----> 3\u001b[0m \u001b[43malist\u001b[49m\u001b[43m[\u001b[49m\u001b[38;5;28;43mid\u001b[39;49m\u001b[43m]\u001b[49m\n",
      "\u001b[1;31mTypeError\u001b[0m: list indices must be integers or slices, not list"
     ]
    }
   ],
   "source": [
    "# to get 3rd and 5th index you can't use as a list\n",
    "id = [3,5]\n",
    "alist[id]"
   ]
  },
  {
   "cell_type": "code",
   "execution_count": 26,
   "id": "8906e5e1",
   "metadata": {},
   "outputs": [
    {
     "ename": "TypeError",
     "evalue": "list indices must be integers or slices, not tuple",
     "output_type": "error",
     "traceback": [
      "\u001b[1;31m---------------------------------------------------------------------------\u001b[0m",
      "\u001b[1;31mTypeError\u001b[0m                                 Traceback (most recent call last)",
      "Cell \u001b[1;32mIn[26], line 3\u001b[0m\n\u001b[0;32m      1\u001b[0m \u001b[38;5;66;03m# to get 3rd and 5th index you can't use as a tuple\u001b[39;00m\n\u001b[0;32m      2\u001b[0m \u001b[38;5;28mid\u001b[39m \u001b[38;5;241m=\u001b[39m \u001b[38;5;241m3\u001b[39m,\u001b[38;5;241m5\u001b[39m\n\u001b[1;32m----> 3\u001b[0m \u001b[43malist\u001b[49m\u001b[43m[\u001b[49m\u001b[38;5;28;43mid\u001b[39;49m\u001b[43m]\u001b[49m\n",
      "\u001b[1;31mTypeError\u001b[0m: list indices must be integers or slices, not tuple"
     ]
    }
   ],
   "source": [
    "# to get 3rd and 5th index you can't use as a tuple\n",
    "id = 3,5\n",
    "alist[id]"
   ]
  },
  {
   "cell_type": "code",
   "execution_count": 31,
   "id": "6e30774f",
   "metadata": {},
   "outputs": [
    {
     "data": {
      "text/plain": [
       "[4, 6, 2, -2, [10, 20, 30], 10.01]"
      ]
     },
     "execution_count": 31,
     "metadata": {},
     "output_type": "execute_result"
    }
   ],
   "source": [
    "alist = [4, 6, 2, -2, [10 ,20 ,30], 10.01]\n",
    "alist"
   ]
  },
  {
   "cell_type": "code",
   "execution_count": 34,
   "id": "f49afa9d",
   "metadata": {},
   "outputs": [
    {
     "data": {
      "text/plain": [
       "[10, 20, 30]"
      ]
     },
     "execution_count": 34,
     "metadata": {},
     "output_type": "execute_result"
    }
   ],
   "source": [
    "temp = alist[4]\n",
    "temp"
   ]
  },
  {
   "cell_type": "code",
   "execution_count": 35,
   "id": "0a34459d",
   "metadata": {},
   "outputs": [
    {
     "data": {
      "text/plain": [
       "20"
      ]
     },
     "execution_count": 35,
     "metadata": {},
     "output_type": "execute_result"
    }
   ],
   "source": [
    "temp[1]"
   ]
  },
  {
   "cell_type": "code",
   "execution_count": null,
   "id": "b3b34643",
   "metadata": {},
   "outputs": [
    {
     "data": {
      "text/plain": [
       "20"
      ]
     },
     "execution_count": 36,
     "metadata": {},
     "output_type": "execute_result"
    }
   ],
   "source": [
    "alist[4][1] # multi dimensional array opens."
   ]
  },
  {
   "cell_type": "code",
   "execution_count": 39,
   "id": "f067620d",
   "metadata": {},
   "outputs": [
    {
     "data": {
      "text/plain": [
       "[4, 'hi', [5, 4, 3], 'yo', {'squirell': 'cute', 'Penguin': 'Yummy'}]"
      ]
     },
     "execution_count": 39,
     "metadata": {},
     "output_type": "execute_result"
    }
   ],
   "source": [
    "# exercise: get the attribute of pengin\n",
    "listlist = [4,'hi',[5,4,3],'yo',{'squirell':'cute','Penguin':'Yummy'}]\n",
    "listlist"
   ]
  },
  {
   "cell_type": "code",
   "execution_count": 41,
   "id": "bb4f5b2a",
   "metadata": {},
   "outputs": [
    {
     "data": {
      "text/plain": [
       "'Yummy'"
      ]
     },
     "execution_count": 41,
     "metadata": {},
     "output_type": "execute_result"
    }
   ],
   "source": [
    "listlist[4]['Penguin']"
   ]
  }
 ],
 "metadata": {
  "kernelspec": {
   "display_name": ".venv",
   "language": "python",
   "name": "python3"
  },
  "language_info": {
   "codemirror_mode": {
    "name": "ipython",
    "version": 3
   },
   "file_extension": ".py",
   "mimetype": "text/x-python",
   "name": "python",
   "nbconvert_exporter": "python",
   "pygments_lexer": "ipython3",
   "version": "3.10.6"
  }
 },
 "nbformat": 4,
 "nbformat_minor": 5
}
