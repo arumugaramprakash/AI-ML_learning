{
 "cells": [
  {
   "cell_type": "code",
   "execution_count": 2,
   "id": "3183a5e2",
   "metadata": {},
   "outputs": [
    {
     "name": "stdout",
     "output_type": "stream",
     "text": [
      "Index 0  has a value of -5.0\n",
      "Index 1  has a value of -3.333333333333333\n",
      "Index 2  has a value of -1.6666666666666665\n",
      "Index 3  has a value of 0.0\n",
      "Index 4  has a value of 1.666666666666667\n",
      "Index 5  has a value of 3.333333333333334\n",
      "Index 6  has a value of 5.0\n"
     ]
    }
   ],
   "source": [
    "# Enumerate and Zip\n",
    "import numpy as np\n",
    "\n",
    "ns = np.linspace(-5,5,7)\n",
    "\n",
    "for i in range(len(ns)):\n",
    "    print('Index',i,' has a value of',ns[i])\n"
   ]
  },
  {
   "cell_type": "code",
   "execution_count": 10,
   "id": "bf54467a",
   "metadata": {},
   "outputs": [
    {
     "name": "stdout",
     "output_type": "stream",
     "text": [
      "Index 0  has a value of -5.0\n",
      "Index 1  has a value of -3.333333333333333\n",
      "Index 2  has a value of -1.6666666666666665\n",
      "Index 3  has a value of 0.0\n",
      "Index 4  has a value of 1.666666666666667\n",
      "Index 5  has a value of 3.333333333333334\n",
      "Index 6  has a value of 5.0\n"
     ]
    }
   ],
   "source": [
    "for i in range(len(ns)):\n",
    "    n=ns[i]\n",
    "    print('Index',i,' has a value of',n)"
   ]
  },
  {
   "cell_type": "code",
   "execution_count": null,
   "id": "327b8839",
   "metadata": {},
   "outputs": [
    {
     "name": "stdout",
     "output_type": "stream",
     "text": [
      "Index 0 has a value of -5.0\n",
      "Index 1 has a value of -3.333333333333333\n",
      "Index 2 has a value of -1.6666666666666665\n",
      "Index 3 has a value of 0.0\n",
      "Index 4 has a value of 1.666666666666667\n",
      "Index 5 has a value of 3.333333333333334\n",
      "Index 6 has a value of 5.0\n"
     ]
    }
   ],
   "source": [
    "# simplifying the above with enumerate\n",
    "for i,n in enumerate(ns): \n",
    "    print('Index', i, 'has a value of', n)\n",
    "# i,n is a tuple unpacking, enumerate returns two values: index and element which is i and n respectively. where its equivalent to n=ns[i]\n"
   ]
  },
  {
   "cell_type": "code",
   "execution_count": null,
   "id": "8cf94ed7",
   "metadata": {},
   "outputs": [
    {
     "name": "stdout",
     "output_type": "stream",
     "text": [
      "vowels before operation is \n",
      " [0. 0. 0. 0. 0. 0. 0. 0. 0. 0. 0. 0. 0. 0. 0. 0. 0. 0. 0. 0.]\n",
      "vowels after operation is \n",
      " [0. 1. 0. 0. 1. 0. 0. 0. 0. 0. 1. 0. 1. 0. 1. 0. 0. 1. 0. 0.]\n"
     ]
    }
   ],
   "source": [
    "text = 'Hello my name is ARP'\n",
    "vowels = np.zeros(len(text))\n",
    "print(\"vowels before operation is \\n\",vowels)\n",
    "\n",
    "# change in vowels where text has vowels\n",
    "for i,n in enumerate(text):\n",
    "    if n=='A' or n=='a' or n=='E' or n=='e' or n=='I' or n=='i' or n=='O' or n=='o' or n=='U' or n=='u':\n",
    "        vowels[i] = 1\n",
    "\n",
    "print(\"vowels after operation is \\n\",vowels)\n"
   ]
  },
  {
   "cell_type": "code",
   "execution_count": 15,
   "id": "44bf1597",
   "metadata": {},
   "outputs": [
    {
     "name": "stdout",
     "output_type": "stream",
     "text": [
      "vowels after operation is \n",
      " [0. 1. 0. 0. 1. 0. 0. 0. 0. 0. 1. 0. 1. 0. 1. 0. 0. 1. 0. 0.]\n"
     ]
    }
   ],
   "source": [
    "for i,n in enumerate(text):\n",
    "    if n in 'aeiou':\n",
    "        vowels[i] = 1\n",
    "# this will work for both lower and upper case\n",
    "print(\"vowels after operation is \\n\",vowels)"
   ]
  },
  {
   "cell_type": "code",
   "execution_count": 17,
   "id": "9eadf832",
   "metadata": {},
   "outputs": [
    {
     "name": "stdout",
     "output_type": "stream",
     "text": [
      "3 q\n",
      "4 w\n",
      "5 e\n",
      "6 r\n",
      "3 t\n",
      "-17 y\n"
     ]
    }
   ],
   "source": [
    "listA = [3,4,5,6,3,-17]\n",
    "listB = ['q','w','e','r','t','y']\n",
    "for i in range(len(listA)):\n",
    "    print(str(listA[i]) + ' '+ listB[i])"
   ]
  },
  {
   "cell_type": "code",
   "execution_count": null,
   "id": "94ad26f8",
   "metadata": {},
   "outputs": [
    {
     "name": "stdout",
     "output_type": "stream",
     "text": [
      "3 q\n",
      "4 w\n",
      "5 e\n",
      "6 r\n",
      "3 t\n",
      "-17 y\n"
     ]
    }
   ],
   "source": [
    "# usage of zip to simplify\n",
    "for a,b in zip(listA, listB): # zip will pair the elements from both lists equivalent to a=listA[i] and b=listB[i]\n",
    "    print(str( a )+ ' '+ b)"
   ]
  },
  {
   "cell_type": "code",
   "execution_count": null,
   "id": "11164cb0",
   "metadata": {},
   "outputs": [
    {
     "name": "stdout",
     "output_type": "stream",
     "text": [
      "3 q\n",
      "4 w\n",
      "5 e\n",
      "6 r\n"
     ]
    }
   ],
   "source": [
    "listA = [3,4,5,6]\n",
    "listB = ['q','w','e','r','t','y']\n",
    "for a,b in zip(listA, listB):\n",
    "    print(str(a)+ ' '+ b)\n",
    "\n",
    "# when zip is done for the shorter list it stops. In this case it will stop at index which is the shortest of two lists i.e 4 and then stop."
   ]
  },
  {
   "cell_type": "code",
   "execution_count": 25,
   "id": "806ac454",
   "metadata": {},
   "outputs": [
    {
     "name": "stdout",
     "output_type": "stream",
     "text": [
      "{'alpha': 10, 'beta': 20, 'gama': 30}\n",
      "{'alpha': 10, 'beta': 20, 'gama': 30}\n"
     ]
    }
   ],
   "source": [
    "names = ['alpha', 'beta', 'gama']\n",
    "values = [10,20,30]\n",
    "# exercise: given the following list, create a dictionary using zip\n",
    "\n",
    "name_value_dict = dict(zip( names, values)) # this will pair each element\n",
    "print(name_value_dict)\n",
    "\n",
    "# the hard way using loop\n",
    "name_value_dict = {}\n",
    "for i,j in zip(names,values):\n",
    "    name_value_dict.update({i:j}) # this will update the dictionary with key value pair\n",
    "print(name_value_dict)"
   ]
  }
 ],
 "metadata": {
  "kernelspec": {
   "display_name": ".venv",
   "language": "python",
   "name": "python3"
  },
  "language_info": {
   "codemirror_mode": {
    "name": "ipython",
    "version": 3
   },
   "file_extension": ".py",
   "mimetype": "text/x-python",
   "name": "python",
   "nbconvert_exporter": "python",
   "pygments_lexer": "ipython3",
   "version": "3.10.6"
  }
 },
 "nbformat": 4,
 "nbformat_minor": 5
}
