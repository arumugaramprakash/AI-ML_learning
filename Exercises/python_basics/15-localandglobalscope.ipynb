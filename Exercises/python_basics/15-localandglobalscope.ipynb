{
 "cells": [
  {
   "cell_type": "code",
   "execution_count": 2,
   "id": "7bd15147",
   "metadata": {},
   "outputs": [],
   "source": [
    "# local scope\n",
    "# Global scope\n",
    "def funfunction():\n",
    "    x = 7\n",
    "    y = 10\n",
    "    print(x)"
   ]
  },
  {
   "cell_type": "code",
   "execution_count": 4,
   "id": "5b2ae70c",
   "metadata": {},
   "outputs": [
    {
     "name": "stdout",
     "output_type": "stream",
     "text": [
      "7\n"
     ]
    }
   ],
   "source": [
    "funfunction()"
   ]
  },
  {
   "cell_type": "code",
   "execution_count": null,
   "id": "4bde0e85",
   "metadata": {},
   "outputs": [
    {
     "ename": "NameError",
     "evalue": "name 'x' is not defined",
     "output_type": "error",
     "traceback": [
      "\u001b[1;31m---------------------------------------------------------------------------\u001b[0m",
      "\u001b[1;31mNameError\u001b[0m                                 Traceback (most recent call last)",
      "Cell \u001b[1;32mIn[6], line 1\u001b[0m\n\u001b[1;32m----> 1\u001b[0m \u001b[43mx\u001b[49m\n",
      "\u001b[1;31mNameError\u001b[0m: name 'x' is not defined"
     ]
    }
   ],
   "source": [
    "x # local scope inside function funfunction() is not accessible outside the function"
   ]
  },
  {
   "cell_type": "code",
   "execution_count": 8,
   "id": "89e3346f",
   "metadata": {},
   "outputs": [
    {
     "name": "stdout",
     "output_type": "stream",
     "text": [
      "3\n",
      "7\n",
      "None\n",
      "3\n"
     ]
    }
   ],
   "source": [
    "x = 3\n",
    "print(x) # global scope\n",
    "print(funfunction()) # if the funtion is not returning anything, it will return None which is a data type in python\n",
    "print(x)\n"
   ]
  },
  {
   "cell_type": "code",
   "execution_count": 9,
   "id": "3456884e",
   "metadata": {},
   "outputs": [],
   "source": [
    "def f2():\n",
    "    print(z)"
   ]
  },
  {
   "cell_type": "code",
   "execution_count": 10,
   "id": "5b0ae095",
   "metadata": {},
   "outputs": [
    {
     "ename": "NameError",
     "evalue": "name 'z' is not defined",
     "output_type": "error",
     "traceback": [
      "\u001b[1;31m---------------------------------------------------------------------------\u001b[0m",
      "\u001b[1;31mNameError\u001b[0m                                 Traceback (most recent call last)",
      "Cell \u001b[1;32mIn[10], line 1\u001b[0m\n\u001b[1;32m----> 1\u001b[0m \u001b[43mf2\u001b[49m\u001b[43m(\u001b[49m\u001b[43m)\u001b[49m\n",
      "Cell \u001b[1;32mIn[9], line 2\u001b[0m, in \u001b[0;36mf2\u001b[1;34m()\u001b[0m\n\u001b[0;32m      1\u001b[0m \u001b[38;5;28;01mdef\u001b[39;00m\u001b[38;5;250m \u001b[39m\u001b[38;5;21mf2\u001b[39m():\n\u001b[1;32m----> 2\u001b[0m     \u001b[38;5;28mprint\u001b[39m(\u001b[43mz\u001b[49m)\n",
      "\u001b[1;31mNameError\u001b[0m: name 'z' is not defined"
     ]
    }
   ],
   "source": [
    "f2()"
   ]
  },
  {
   "cell_type": "code",
   "execution_count": 12,
   "id": "88fcc5d2",
   "metadata": {},
   "outputs": [
    {
     "name": "stdout",
     "output_type": "stream",
     "text": [
      "13\n"
     ]
    }
   ],
   "source": [
    "z = 13\n",
    "f2()"
   ]
  },
  {
   "cell_type": "code",
   "execution_count": null,
   "id": "8862f5ea",
   "metadata": {},
   "outputs": [],
   "source": [
    "# rules:\n",
    "# 1) variables declared inside function are local\n",
    "#     (accessible only inside the function)\n",
    "# 2) variables created outside of any function are global\n",
    "#      (accessible in or outside the function)\n",
    "\n"
   ]
  },
  {
   "cell_type": "code",
   "execution_count": 181,
   "id": "44d400ac",
   "metadata": {},
   "outputs": [
    {
     "name": "stdout",
     "output_type": "stream",
     "text": [
      "4 coin flips had 75.0% heads\n"
     ]
    }
   ],
   "source": [
    "# Exercise: write a function that flips a coin N times, and reports the average number of heads. \n",
    "import numpy as np\n",
    "def flip_coin(N):\n",
    "    prob = np.mean( np.random.randn(N) > 0 )\n",
    "    print( str(N) + \" coin flips had \" + str(prob*100) + \"% heads\" )\n",
    "\n",
    "flip_coin(4)"
   ]
  },
  {
   "cell_type": "code",
   "execution_count": null,
   "id": "15988261",
   "metadata": {},
   "outputs": [
    {
     "name": "stdout",
     "output_type": "stream",
     "text": [
      "20 coin flips had 65.0% heads\n"
     ]
    }
   ],
   "source": [
    "flip_coin(20)\n"
   ]
  },
  {
   "cell_type": "code",
   "execution_count": 226,
   "id": "c5bf7300",
   "metadata": {},
   "outputs": [
    {
     "name": "stdout",
     "output_type": "stream",
     "text": [
      "1000 coin flips had 50.0% heads\n"
     ]
    }
   ],
   "source": [
    "flip_coin(1000) # bigger the number of flips, more likely it will be close to 50%"
   ]
  }
 ],
 "metadata": {
  "kernelspec": {
   "display_name": ".venv",
   "language": "python",
   "name": "python3"
  },
  "language_info": {
   "codemirror_mode": {
    "name": "ipython",
    "version": 3
   },
   "file_extension": ".py",
   "mimetype": "text/x-python",
   "name": "python",
   "nbconvert_exporter": "python",
   "pygments_lexer": "ipython3",
   "version": "3.10.6"
  }
 },
 "nbformat": 4,
 "nbformat_minor": 5
}
