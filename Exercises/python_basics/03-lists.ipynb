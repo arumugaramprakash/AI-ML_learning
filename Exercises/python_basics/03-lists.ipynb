{
 "cells": [
  {
   "cell_type": "code",
   "execution_count": 24,
   "metadata": {},
   "outputs": [
    {
     "name": "stdout",
     "output_type": "stream",
     "text": [
      "<class 'list'>\n",
      "<class 'list'>\n",
      "<class 'list'>\n",
      "<class 'list'>\n"
     ]
    },
    {
     "data": {
      "text/plain": [
       "list"
      ]
     },
     "execution_count": 24,
     "metadata": {},
     "output_type": "execute_result"
    }
   ],
   "source": [
    "#list\n",
    "aList = [2,3,5,6,8]\n",
    "strList = [ 'HI', 'My', 'Name', 'is' , 'ARP']\n",
    "mixList = [8,50.1,'test', 50.1]\n",
    "listList = [1,2,3,'hi','bye',[.5,1/4,'i'], 4,5,6]\n",
    "print(type(aList))\n",
    "print(type(strList))\n",
    "print(type(mixList))\n",
    "print(type(listList))\n",
    "type(mixList)"
   ]
  },
  {
   "cell_type": "markdown",
   "metadata": {},
   "source": [
    "Both the below representaions are the same.\n",
    "we can add comments when written like listList2"
   ]
  },
  {
   "cell_type": "code",
   "execution_count": 25,
   "metadata": {},
   "outputs": [
    {
     "name": "stdout",
     "output_type": "stream",
     "text": [
      "[1, 2, 3, 'hi', 'bye', [0.5, 0.25, 'i'], 4, 5, 6]\n",
      "[1, 2, 3, 'hi', 'bye', [0.5, 0.25, 'i'], 4, 5, 6]\n"
     ]
    }
   ],
   "source": [
    "listList1 = [1,2,3,'hi','bye',[.5,1/4,'i'], 4,5,6]\n",
    "listList2 = [\n",
    "                1, # number\n",
    "                2, # parameter\n",
    "                3,\n",
    "                'hi', # test details\n",
    "                'bye',\n",
    "                [.5,1/4,'i'], # list information\n",
    "                4,\n",
    "                5,\n",
    "                6\n",
    "            ]\n",
    "\n",
    "print(listList1)\n",
    "print(listList2)\n"
   ]
  },
  {
   "cell_type": "code",
   "execution_count": 26,
   "metadata": {},
   "outputs": [
    {
     "name": "stdout",
     "output_type": "stream",
     "text": [
      "[2, 3, 5, 6, 8]\n",
      "True\n",
      "False\n",
      "False\n",
      "True\n",
      "['HI', 'My', 'Name', 'is', 'ARP']\n",
      "[2, 3, 5, 6, 8, 'HI', 'My', 'Name', 'is', 'ARP']\n",
      "[2, 3, 5, 6, 8, 2, 3, 5, 6, 8, 2, 3, 5, 6, 8]\n"
     ]
    }
   ],
   "source": [
    "print(aList)\n",
    "print(5 in aList)\n",
    "print(50 in aList)\n",
    "print(5 not in aList)\n",
    "print(50 not in aList)\n",
    "print(strList)\n",
    "print(aList + strList)\n",
    "print(aList*3)"
   ]
  },
  {
   "cell_type": "code",
   "execution_count": 27,
   "metadata": {},
   "outputs": [
    {
     "name": "stdout",
     "output_type": "stream",
     "text": [
      "[2, 3, 5, 6, 8, -100]\n"
     ]
    }
   ],
   "source": [
    "# metod is like a function that acts on a particular class of variables\n",
    "aList.append(-100)\n",
    "print(aList)"
   ]
  },
  {
   "cell_type": "code",
   "execution_count": 28,
   "metadata": {},
   "outputs": [
    {
     "name": "stdout",
     "output_type": "stream",
     "text": [
      "[2, 3, 5, 6, 8, -100, -100]\n"
     ]
    }
   ],
   "source": [
    "aList.append(-100)\n",
    "print(aList)"
   ]
  },
  {
   "cell_type": "code",
   "execution_count": 29,
   "metadata": {},
   "outputs": [
    {
     "name": "stdout",
     "output_type": "stream",
     "text": [
      "[-100, -100, 2, 3, 5, 6, 8]\n"
     ]
    }
   ],
   "source": [
    "aList.sort()\n",
    "print(aList)"
   ]
  },
  {
   "cell_type": "code",
   "execution_count": 30,
   "metadata": {},
   "outputs": [
    {
     "data": {
      "text/plain": [
       "2"
      ]
     },
     "execution_count": 30,
     "metadata": {},
     "output_type": "execute_result"
    }
   ],
   "source": [
    "aList.count(-100)"
   ]
  },
  {
   "cell_type": "code",
   "execution_count": 10,
   "metadata": {},
   "outputs": [
    {
     "name": "stdout",
     "output_type": "stream",
     "text": [
      "[1, 2, 3, 4, 5, 7]\n",
      "[1, 2, 9, 3, 4, 5, 7]\n",
      "[1, 2, 9, 3, 'qwerty', 4, 5, 7]\n",
      "[1, 2, 9, 3, 4, 5, 7]\n",
      "[1, 2, 3, 4, 5, 7, 9]\n",
      "[9, 7, 5, 4, 3, 2, 1]\n"
     ]
    }
   ],
   "source": [
    "lst = [1,2,3,4,5]\n",
    "lst.append(7)\n",
    "print(lst)\n",
    "lst.insert(2,9)\n",
    "print(lst)\n",
    "lst.insert(4,'qwerty')\n",
    "print(lst)\n",
    "lst.remove('qwerty')\n",
    "print(lst)\n",
    "lst.sort()\n",
    "print(lst)\n",
    "lst.sort(reverse=True)\n",
    "print(lst)\n"
   ]
  }
 ],
 "metadata": {
  "kernelspec": {
   "display_name": ".venv",
   "language": "python",
   "name": "python3"
  },
  "language_info": {
   "codemirror_mode": {
    "name": "ipython",
    "version": 3
   },
   "file_extension": ".py",
   "mimetype": "text/x-python",
   "name": "python",
   "nbconvert_exporter": "python",
   "pygments_lexer": "ipython3",
   "version": "3.10.6"
  }
 },
 "nbformat": 4,
 "nbformat_minor": 2
}
