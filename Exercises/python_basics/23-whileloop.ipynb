{
 "cells": [
  {
   "cell_type": "code",
   "execution_count": 6,
   "id": "f987117e",
   "metadata": {},
   "outputs": [
    {
     "name": "stdout",
     "output_type": "stream",
     "text": [
      "1\n",
      "2\n",
      "3\n",
      "4\n",
      "5\n",
      "6\n",
      "7\n",
      "8\n"
     ]
    }
   ],
   "source": [
    "# while loop its a cross between if and for loops\n",
    "toggle = True\n",
    "\n",
    "i=0\n",
    "while toggle:\n",
    "    i+=1 # i+=1 is the same as i=i+1.\n",
    "    print(i)\n",
    "    if i==8:\n",
    "        toggle=False"
   ]
  },
  {
   "cell_type": "code",
   "execution_count": 11,
   "id": "09722a00",
   "metadata": {},
   "outputs": [],
   "source": [
    "i=0\n",
    "while toggle:\n",
    "    print(i)\n",
    "    if i==8: # infinite loop\n",
    "        i+=1 # i+=1 is the same as i=i+1.\n",
    "        toggle=False"
   ]
  },
  {
   "cell_type": "code",
   "execution_count": 12,
   "id": "2ebfac52",
   "metadata": {},
   "outputs": [
    {
     "name": "stdout",
     "output_type": "stream",
     "text": [
      "0\n",
      "1\n",
      "2\n",
      "3\n",
      "4\n",
      "5\n",
      "6\n",
      "7\n"
     ]
    }
   ],
   "source": [
    "i=0\n",
    "while True:\n",
    "    print(i)\n",
    "    i+=1\n",
    "    if i==8:\n",
    "        break # break stops the loop immediately"
   ]
  },
  {
   "cell_type": "code",
   "execution_count": 13,
   "id": "2f9b597b",
   "metadata": {},
   "outputs": [
    {
     "name": "stdout",
     "output_type": "stream",
     "text": [
      "0\n",
      "1\n",
      "2\n",
      "3\n",
      "4\n",
      "5\n",
      "6\n",
      "7\n"
     ]
    }
   ],
   "source": [
    "i=0\n",
    "while i<8:\n",
    "    print(i)\n",
    "    i+=1"
   ]
  },
  {
   "cell_type": "code",
   "execution_count": null,
   "id": "31e305ce",
   "metadata": {},
   "outputs": [],
   "source": [
    "# for loop is prefered when you know in advance the number of iterations is known.\n",
    "# while loop is used when we don't know in advance how many times we want to iterate."
   ]
  },
  {
   "cell_type": "code",
   "execution_count": 30,
   "id": "5bce8fbe",
   "metadata": {},
   "outputs": [
    {
     "name": "stdout",
     "output_type": "stream",
     "text": [
      "9\n"
     ]
    }
   ],
   "source": [
    "# Exercise : create a function for Poisson counter\n",
    "# 1) specify a target number exp(-lambda) | e^lambda. assume lambda = 10\n",
    "# 2) intialize a counter = 0, curval =1\n",
    "# 3) multiply curval by a random number U[0,1] | uniform distribution between 0 and 1\n",
    "# 4) repeat step 3 untill curval <target\n",
    "# 5) return the count of iterations.\n",
    "\n",
    "import random\n",
    "import math\n",
    "\n",
    "def Posson_Counter(lamda):\n",
    "    target = math.exp(-lamda)\n",
    "    # print(target)\n",
    "    curval = 1\n",
    "    count = 0\n",
    "    while curval > target:\n",
    "        U = random.uniform(0,1) # generate a uniform random number between 0 and 1\n",
    "        curval *= U\n",
    "        # print(curval)\n",
    "        count += 1\n",
    "    return count\n",
    "\n",
    "\n",
    "lamda = 10 # target value for Poisson counter\n",
    "print(Posson_Counter(lamda))\n",
    "\n"
   ]
  }
 ],
 "metadata": {
  "kernelspec": {
   "display_name": ".venv",
   "language": "python",
   "name": "python3"
  },
  "language_info": {
   "codemirror_mode": {
    "name": "ipython",
    "version": 3
   },
   "file_extension": ".py",
   "mimetype": "text/x-python",
   "name": "python",
   "nbconvert_exporter": "python",
   "pygments_lexer": "ipython3",
   "version": "3.10.6"
  }
 },
 "nbformat": 4,
 "nbformat_minor": 5
}
